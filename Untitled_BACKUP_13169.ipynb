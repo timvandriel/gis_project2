{
 "cells": [
  {
   "cell_type": "markdown",
   "id": "18053851-1553-44b1-926e-8b375985a9a1",
   "metadata": {},
   "source": [
    "# Project 2\n",
    "## Hypothesis: Across the United States, mortality rates associated with cold weather are higher than mortality rates associated with hot weather.\n",
    "### By Tim and Ted"
   ]
  },
  {
   "cell_type": "markdown",
   "id": "b3ab1cbe-fb48-43a5-a8a3-cb2c9ce2e0e3",
   "metadata": {},
   "source": [
    "### Exploratory Visuals in QGIS\n",
    "![Crude Total Heat Rate by State 1999-2020](data/crude_heat_rate.png)\n",
    "![Crude Total Cold Rate by State 1999-2020](data/crude_cold_rate.png)\n",
    "![Temperature Average by State 1999-2020](data/avg_temp.png)\n",
    "\n",
    "These first visuals were to just give us a sense of what the data looks like and how we can manipulate it or use it.\n",
    "\n",
    "- The first one shows a heat map of mortality rate due to heat across the entiremortality data set.\n",
    "- The second one show a heat map of mortality rate due to cold across the entire mortality data set.\n",
    "- The third one shows the average daily temperature for a specific date (1999-01-01) joined with the state shapefile. QGIS default join was on the first date available in the temperature dataset (PRISM Weather Download Tool)."
   ]
  },
  {
   "cell_type": "markdown",
   "id": "14095ca9",
   "metadata": {},
   "source": [
    "## Merge cold deaths and heat deaths with state boundaries (initial exploration)\n",
    "\n",
    "**Cold-related deaths** were identified using the following ICD-10 codes:  \n",
    "- **X31:** Exposure to excessive natural cold  \n",
    "- **T68:** Hypothermia  \n",
    "\n",
    "**Heat-related deaths** were identified using the following ICD-10 codes:  \n",
    "- **X30:** Exposure to excessive natural heat  \n",
    "- **T67:** Effects of heat and light\n",
    "\n",
    "These were preprocessed/exported using the CDC WONDER tool."
   ]
  },
  {
   "cell_type": "code",
   "execution_count": 6,
   "id": "86fb20af-275e-489e-9ad7-d8de7ee721e0",
   "metadata": {},
   "outputs": [],
   "source": [
    "import pandas as pd\n",
    "import geopandas as gpd\n",
    "import matplotlib.pyplot as plt\n",
    "import numpy as np\n",
    "import re\n",
    "import libpysal\n",
    "from esda import Moran\n",
    "import matplotlib.colors as colors\n",
    "import seaborn as sns\n",
    "import matplotlib.patches as patches\n",
    "import warnings\n",
    "warnings.filterwarnings(\"ignore\", \"This figure includes Axes that are not compatible with tight_layout\")"
   ]
  },
  {
   "cell_type": "code",
   "execution_count": 7,
   "id": "22506690-0250-4032-bcfa-3e6b4c5fa5f1",
   "metadata": {},
   "outputs": [],
   "source": [
    "cold = pd.read_csv(\"/home/jovyan/Project2/data/mcod_cold.csv\")"
   ]
  },
  {
   "cell_type": "code",
   "execution_count": 8,
   "id": "b040c274-3701-4974-82d9-2deab61dfbcb",
   "metadata": {},
   "outputs": [
    {
     "data": {
      "text/html": [
       "<div>\n",
       "<style scoped>\n",
       "    .dataframe tbody tr th:only-of-type {\n",
       "        vertical-align: middle;\n",
       "    }\n",
       "\n",
       "    .dataframe tbody tr th {\n",
       "        vertical-align: top;\n",
       "    }\n",
       "\n",
       "    .dataframe thead th {\n",
       "        text-align: right;\n",
       "    }\n",
       "</style>\n",
       "<table border=\"1\" class=\"dataframe\">\n",
       "  <thead>\n",
       "    <tr style=\"text-align: right;\">\n",
       "      <th></th>\n",
       "      <th>Notes</th>\n",
       "      <th>State</th>\n",
       "      <th>State Code</th>\n",
       "      <th>Cold Deaths</th>\n",
       "      <th>Population</th>\n",
       "      <th>Crude Rate</th>\n",
       "    </tr>\n",
       "  </thead>\n",
       "  <tbody>\n",
       "    <tr>\n",
       "      <th>0</th>\n",
       "      <td>NaN</td>\n",
       "      <td>Alabama</td>\n",
       "      <td>1.0</td>\n",
       "      <td>388.0</td>\n",
       "      <td>103604166.0</td>\n",
       "      <td>0.4</td>\n",
       "    </tr>\n",
       "    <tr>\n",
       "      <th>1</th>\n",
       "      <td>NaN</td>\n",
       "      <td>Alaska</td>\n",
       "      <td>2.0</td>\n",
       "      <td>647.0</td>\n",
       "      <td>15300884.0</td>\n",
       "      <td>4.2</td>\n",
       "    </tr>\n",
       "    <tr>\n",
       "      <th>2</th>\n",
       "      <td>NaN</td>\n",
       "      <td>Arizona</td>\n",
       "      <td>4.0</td>\n",
       "      <td>864.0</td>\n",
       "      <td>138079425.0</td>\n",
       "      <td>0.6</td>\n",
       "    </tr>\n",
       "    <tr>\n",
       "      <th>3</th>\n",
       "      <td>NaN</td>\n",
       "      <td>Arkansas</td>\n",
       "      <td>5.0</td>\n",
       "      <td>319.0</td>\n",
       "      <td>63181817.0</td>\n",
       "      <td>0.5</td>\n",
       "    </tr>\n",
       "    <tr>\n",
       "      <th>4</th>\n",
       "      <td>NaN</td>\n",
       "      <td>California</td>\n",
       "      <td>6.0</td>\n",
       "      <td>1743.0</td>\n",
       "      <td>815706063.0</td>\n",
       "      <td>0.2</td>\n",
       "    </tr>\n",
       "  </tbody>\n",
       "</table>\n",
       "</div>"
      ],
      "text/plain": [
       "  Notes       State  State Code  Cold Deaths   Population Crude Rate\n",
       "0   NaN     Alabama         1.0        388.0  103604166.0        0.4\n",
       "1   NaN      Alaska         2.0        647.0   15300884.0        4.2\n",
       "2   NaN     Arizona         4.0        864.0  138079425.0        0.6\n",
       "3   NaN    Arkansas         5.0        319.0   63181817.0        0.5\n",
       "4   NaN  California         6.0       1743.0  815706063.0        0.2"
      ]
     },
     "execution_count": 8,
     "metadata": {},
     "output_type": "execute_result"
    }
   ],
   "source": [
    "cold.rename(columns={\"Deaths\":\"Cold Deaths\"}, inplace=True) #rename columns\n",
    "cold.head() "
   ]
  },
  {
   "cell_type": "code",
   "execution_count": 9,
   "id": "bf80ebd6-4ff5-42d5-88d0-c68aaa2e4aca",
   "metadata": {},
   "outputs": [],
   "source": [
    "heat = pd.read_csv(\"/home/jovyan/Project2/data/mcod_heat.csv\")"
   ]
  },
  {
   "cell_type": "code",
   "execution_count": 10,
   "id": "b36ed30d-9645-4cbf-b6c4-652b06f05b0a",
   "metadata": {},
   "outputs": [
    {
     "data": {
      "text/html": [
       "<div>\n",
       "<style scoped>\n",
       "    .dataframe tbody tr th:only-of-type {\n",
       "        vertical-align: middle;\n",
       "    }\n",
       "\n",
       "    .dataframe tbody tr th {\n",
       "        vertical-align: top;\n",
       "    }\n",
       "\n",
       "    .dataframe thead th {\n",
       "        text-align: right;\n",
       "    }\n",
       "</style>\n",
       "<table border=\"1\" class=\"dataframe\">\n",
       "  <thead>\n",
       "    <tr style=\"text-align: right;\">\n",
       "      <th></th>\n",
       "      <th>Notes</th>\n",
       "      <th>State</th>\n",
       "      <th>State Code</th>\n",
       "      <th>Heat Deaths</th>\n",
       "      <th>Population</th>\n",
       "      <th>Crude Rate</th>\n",
       "    </tr>\n",
       "  </thead>\n",
       "  <tbody>\n",
       "    <tr>\n",
       "      <th>0</th>\n",
       "      <td>NaN</td>\n",
       "      <td>Alabama</td>\n",
       "      <td>1.0</td>\n",
       "      <td>238.0</td>\n",
       "      <td>103604166.0</td>\n",
       "      <td>0.2</td>\n",
       "    </tr>\n",
       "    <tr>\n",
       "      <th>1</th>\n",
       "      <td>NaN</td>\n",
       "      <td>Alaska</td>\n",
       "      <td>2.0</td>\n",
       "      <td>28.0</td>\n",
       "      <td>15300884.0</td>\n",
       "      <td>0.2</td>\n",
       "    </tr>\n",
       "    <tr>\n",
       "      <th>2</th>\n",
       "      <td>NaN</td>\n",
       "      <td>Arizona</td>\n",
       "      <td>4.0</td>\n",
       "      <td>2462.0</td>\n",
       "      <td>138079425.0</td>\n",
       "      <td>1.8</td>\n",
       "    </tr>\n",
       "    <tr>\n",
       "      <th>3</th>\n",
       "      <td>NaN</td>\n",
       "      <td>Arkansas</td>\n",
       "      <td>5.0</td>\n",
       "      <td>271.0</td>\n",
       "      <td>63181817.0</td>\n",
       "      <td>0.4</td>\n",
       "    </tr>\n",
       "    <tr>\n",
       "      <th>4</th>\n",
       "      <td>NaN</td>\n",
       "      <td>California</td>\n",
       "      <td>6.0</td>\n",
       "      <td>1481.0</td>\n",
       "      <td>815706063.0</td>\n",
       "      <td>0.2</td>\n",
       "    </tr>\n",
       "  </tbody>\n",
       "</table>\n",
       "</div>"
      ],
      "text/plain": [
       "  Notes       State  State Code  Heat Deaths   Population Crude Rate\n",
       "0   NaN     Alabama         1.0        238.0  103604166.0        0.2\n",
       "1   NaN      Alaska         2.0         28.0   15300884.0        0.2\n",
       "2   NaN     Arizona         4.0       2462.0  138079425.0        1.8\n",
       "3   NaN    Arkansas         5.0        271.0   63181817.0        0.4\n",
       "4   NaN  California         6.0       1481.0  815706063.0        0.2"
      ]
     },
     "execution_count": 10,
     "metadata": {},
     "output_type": "execute_result"
    }
   ],
   "source": [
    "heat.rename(columns={\"Deaths\":\"Heat Deaths\"}, inplace=True) \n",
    "heat.head()"
   ]
  },
  {
   "cell_type": "code",
   "execution_count": 11,
   "id": "e2501d03-3b7a-42a7-9260-9c32f8013c57",
   "metadata": {
    "tags": []
   },
   "outputs": [],
   "source": [
    "merged = pd.merge(heat, cold, on=\"State Code\", suffixes=((\"_cold\"), (\"_heat\"))) #merging hot and cold deaths"
   ]
  },
  {
   "cell_type": "code",
   "execution_count": 12,
   "id": "d3800925-2d8f-4210-8de7-7886ea9fc343",
   "metadata": {},
   "outputs": [
    {
     "data": {
      "text/html": [
       "<div>\n",
       "<style scoped>\n",
       "    .dataframe tbody tr th:only-of-type {\n",
       "        vertical-align: middle;\n",
       "    }\n",
       "\n",
       "    .dataframe tbody tr th {\n",
       "        vertical-align: top;\n",
       "    }\n",
       "\n",
       "    .dataframe thead th {\n",
       "        text-align: right;\n",
       "    }\n",
       "</style>\n",
       "<table border=\"1\" class=\"dataframe\">\n",
       "  <thead>\n",
       "    <tr style=\"text-align: right;\">\n",
       "      <th></th>\n",
       "      <th>Notes_cold</th>\n",
       "      <th>State_cold</th>\n",
       "      <th>State Code</th>\n",
       "      <th>Heat Deaths</th>\n",
       "      <th>Population_cold</th>\n",
       "      <th>Crude Rate_cold</th>\n",
       "      <th>Notes_heat</th>\n",
       "      <th>State_heat</th>\n",
       "      <th>Cold Deaths</th>\n",
       "      <th>Population_heat</th>\n",
       "      <th>Crude Rate_heat</th>\n",
       "    </tr>\n",
       "  </thead>\n",
       "  <tbody>\n",
       "    <tr>\n",
       "      <th>0</th>\n",
       "      <td>NaN</td>\n",
       "      <td>Alabama</td>\n",
       "      <td>1.0</td>\n",
       "      <td>238.0</td>\n",
       "      <td>103604166.0</td>\n",
       "      <td>0.2</td>\n",
       "      <td>NaN</td>\n",
       "      <td>Alabama</td>\n",
       "      <td>388.0</td>\n",
       "      <td>103604166.0</td>\n",
       "      <td>0.4</td>\n",
       "    </tr>\n",
       "    <tr>\n",
       "      <th>1</th>\n",
       "      <td>NaN</td>\n",
       "      <td>Alaska</td>\n",
       "      <td>2.0</td>\n",
       "      <td>28.0</td>\n",
       "      <td>15300884.0</td>\n",
       "      <td>0.2</td>\n",
       "      <td>NaN</td>\n",
       "      <td>Alaska</td>\n",
       "      <td>647.0</td>\n",
       "      <td>15300884.0</td>\n",
       "      <td>4.2</td>\n",
       "    </tr>\n",
       "    <tr>\n",
       "      <th>2</th>\n",
       "      <td>NaN</td>\n",
       "      <td>Arizona</td>\n",
       "      <td>4.0</td>\n",
       "      <td>2462.0</td>\n",
       "      <td>138079425.0</td>\n",
       "      <td>1.8</td>\n",
       "      <td>NaN</td>\n",
       "      <td>Arizona</td>\n",
       "      <td>864.0</td>\n",
       "      <td>138079425.0</td>\n",
       "      <td>0.6</td>\n",
       "    </tr>\n",
       "    <tr>\n",
       "      <th>3</th>\n",
       "      <td>NaN</td>\n",
       "      <td>Arkansas</td>\n",
       "      <td>5.0</td>\n",
       "      <td>271.0</td>\n",
       "      <td>63181817.0</td>\n",
       "      <td>0.4</td>\n",
       "      <td>NaN</td>\n",
       "      <td>Arkansas</td>\n",
       "      <td>319.0</td>\n",
       "      <td>63181817.0</td>\n",
       "      <td>0.5</td>\n",
       "    </tr>\n",
       "    <tr>\n",
       "      <th>4</th>\n",
       "      <td>NaN</td>\n",
       "      <td>California</td>\n",
       "      <td>6.0</td>\n",
       "      <td>1481.0</td>\n",
       "      <td>815706063.0</td>\n",
       "      <td>0.2</td>\n",
       "      <td>NaN</td>\n",
       "      <td>California</td>\n",
       "      <td>1743.0</td>\n",
       "      <td>815706063.0</td>\n",
       "      <td>0.2</td>\n",
       "    </tr>\n",
       "  </tbody>\n",
       "</table>\n",
       "</div>"
      ],
      "text/plain": [
       "  Notes_cold  State_cold  State Code  Heat Deaths  Population_cold  \\\n",
       "0        NaN     Alabama         1.0        238.0      103604166.0   \n",
       "1        NaN      Alaska         2.0         28.0       15300884.0   \n",
       "2        NaN     Arizona         4.0       2462.0      138079425.0   \n",
       "3        NaN    Arkansas         5.0        271.0       63181817.0   \n",
       "4        NaN  California         6.0       1481.0      815706063.0   \n",
       "\n",
       "  Crude Rate_cold Notes_heat  State_heat  Cold Deaths  Population_heat  \\\n",
       "0             0.2        NaN     Alabama        388.0      103604166.0   \n",
       "1             0.2        NaN      Alaska        647.0       15300884.0   \n",
       "2             1.8        NaN     Arizona        864.0      138079425.0   \n",
       "3             0.4        NaN    Arkansas        319.0       63181817.0   \n",
       "4             0.2        NaN  California       1743.0      815706063.0   \n",
       "\n",
       "  Crude Rate_heat  \n",
       "0             0.4  \n",
       "1             4.2  \n",
       "2             0.6  \n",
       "3             0.5  \n",
       "4             0.2  "
      ]
     },
     "execution_count": 12,
     "metadata": {},
     "output_type": "execute_result"
    }
   ],
   "source": [
    "merged.head()"
   ]
  },
  {
   "cell_type": "code",
   "execution_count": 13,
   "id": "91fd6c7b-5d7d-4581-a228-f347b298cc8e",
   "metadata": {},
   "outputs": [],
   "source": [
    "merged = merged.drop(columns=[\"State_heat\", \"Population_cold\", \"Notes_cold\", \"Notes_heat\", \"Crude Rate_cold\", \"Crude Rate_heat\"]) #dropping columns we dont need"
   ]
  },
  {
   "cell_type": "code",
   "execution_count": 14,
   "id": "c1e0b51b-8ead-41a2-92e6-11474a60588d",
   "metadata": {},
   "outputs": [],
   "source": [
    "merged.rename(columns={\"State_cold\":\"State\", \"Population_heat\":\"Population\", \"State Code\":\"FIPS\"}, inplace=True) #rename columns"
   ]
  },
  {
   "cell_type": "code",
   "execution_count": 15,
   "id": "3bfbe9e8-18c4-4a86-ab89-e1584137ebc6",
   "metadata": {},
   "outputs": [
    {
     "data": {
      "text/html": [
       "<div>\n",
       "<style scoped>\n",
       "    .dataframe tbody tr th:only-of-type {\n",
       "        vertical-align: middle;\n",
       "    }\n",
       "\n",
       "    .dataframe tbody tr th {\n",
       "        vertical-align: top;\n",
       "    }\n",
       "\n",
       "    .dataframe thead th {\n",
       "        text-align: right;\n",
       "    }\n",
       "</style>\n",
       "<table border=\"1\" class=\"dataframe\">\n",
       "  <thead>\n",
       "    <tr style=\"text-align: right;\">\n",
       "      <th></th>\n",
       "      <th>State</th>\n",
       "      <th>FIPS</th>\n",
       "      <th>Heat Deaths</th>\n",
       "      <th>Cold Deaths</th>\n",
       "      <th>Population</th>\n",
       "    </tr>\n",
       "  </thead>\n",
       "  <tbody>\n",
       "    <tr>\n",
       "      <th>0</th>\n",
       "      <td>Alabama</td>\n",
       "      <td>1.0</td>\n",
       "      <td>238.0</td>\n",
       "      <td>388.0</td>\n",
       "      <td>103604166.0</td>\n",
       "    </tr>\n",
       "    <tr>\n",
       "      <th>1</th>\n",
       "      <td>Alaska</td>\n",
       "      <td>2.0</td>\n",
       "      <td>28.0</td>\n",
       "      <td>647.0</td>\n",
       "      <td>15300884.0</td>\n",
       "    </tr>\n",
       "    <tr>\n",
       "      <th>2</th>\n",
       "      <td>Arizona</td>\n",
       "      <td>4.0</td>\n",
       "      <td>2462.0</td>\n",
       "      <td>864.0</td>\n",
       "      <td>138079425.0</td>\n",
       "    </tr>\n",
       "    <tr>\n",
       "      <th>3</th>\n",
       "      <td>Arkansas</td>\n",
       "      <td>5.0</td>\n",
       "      <td>271.0</td>\n",
       "      <td>319.0</td>\n",
       "      <td>63181817.0</td>\n",
       "    </tr>\n",
       "    <tr>\n",
       "      <th>4</th>\n",
       "      <td>California</td>\n",
       "      <td>6.0</td>\n",
       "      <td>1481.0</td>\n",
       "      <td>1743.0</td>\n",
       "      <td>815706063.0</td>\n",
       "    </tr>\n",
       "  </tbody>\n",
       "</table>\n",
       "</div>"
      ],
      "text/plain": [
       "        State  FIPS  Heat Deaths  Cold Deaths   Population\n",
       "0     Alabama   1.0        238.0        388.0  103604166.0\n",
       "1      Alaska   2.0         28.0        647.0   15300884.0\n",
       "2     Arizona   4.0       2462.0        864.0  138079425.0\n",
       "3    Arkansas   5.0        271.0        319.0   63181817.0\n",
       "4  California   6.0       1481.0       1743.0  815706063.0"
      ]
     },
     "execution_count": 15,
     "metadata": {},
     "output_type": "execute_result"
    }
   ],
   "source": [
    "merged.head()"
   ]
  },
  {
   "cell_type": "code",
   "execution_count": 16,
   "id": "1c011466-046a-4cac-b76d-660e30d55613",
   "metadata": {},
   "outputs": [],
   "source": [
    "merged[\"cold_rate\"] = (merged[\"Cold Deaths\"] / merged[\"Population\"]) * 100000 # recalculating death rates \n",
    "merged[\"heat_rate\"] = (merged[\"Heat Deaths\"] / merged[\"Population\"]) * 100000"
   ]
  },
  {
   "cell_type": "code",
   "execution_count": 17,
   "id": "b2c61ea9-fdce-438d-b339-e401f5cac23a",
   "metadata": {},
   "outputs": [
    {
     "data": {
      "text/html": [
       "<div>\n",
       "<style scoped>\n",
       "    .dataframe tbody tr th:only-of-type {\n",
       "        vertical-align: middle;\n",
       "    }\n",
       "\n",
       "    .dataframe tbody tr th {\n",
       "        vertical-align: top;\n",
       "    }\n",
       "\n",
       "    .dataframe thead th {\n",
       "        text-align: right;\n",
       "    }\n",
       "</style>\n",
       "<table border=\"1\" class=\"dataframe\">\n",
       "  <thead>\n",
       "    <tr style=\"text-align: right;\">\n",
       "      <th></th>\n",
       "      <th>State</th>\n",
       "      <th>FIPS</th>\n",
       "      <th>Heat Deaths</th>\n",
       "      <th>Cold Deaths</th>\n",
       "      <th>Population</th>\n",
       "      <th>cold_rate</th>\n",
       "      <th>heat_rate</th>\n",
       "    </tr>\n",
       "  </thead>\n",
       "  <tbody>\n",
       "    <tr>\n",
       "      <th>111</th>\n",
       "      <td>NaN</td>\n",
       "      <td>NaN</td>\n",
       "      <td>NaN</td>\n",
       "      <td>33418.0</td>\n",
       "      <td>6.746357e+09</td>\n",
       "      <td>0.495349</td>\n",
       "      <td>NaN</td>\n",
       "    </tr>\n",
       "    <tr>\n",
       "      <th>112</th>\n",
       "      <td>NaN</td>\n",
       "      <td>NaN</td>\n",
       "      <td>NaN</td>\n",
       "      <td>NaN</td>\n",
       "      <td>NaN</td>\n",
       "      <td>NaN</td>\n",
       "      <td>NaN</td>\n",
       "    </tr>\n",
       "    <tr>\n",
       "      <th>113</th>\n",
       "      <td>NaN</td>\n",
       "      <td>NaN</td>\n",
       "      <td>NaN</td>\n",
       "      <td>NaN</td>\n",
       "      <td>NaN</td>\n",
       "      <td>NaN</td>\n",
       "      <td>NaN</td>\n",
       "    </tr>\n",
       "    <tr>\n",
       "      <th>114</th>\n",
       "      <td>NaN</td>\n",
       "      <td>NaN</td>\n",
       "      <td>NaN</td>\n",
       "      <td>NaN</td>\n",
       "      <td>NaN</td>\n",
       "      <td>NaN</td>\n",
       "      <td>NaN</td>\n",
       "    </tr>\n",
       "    <tr>\n",
       "      <th>115</th>\n",
       "      <td>NaN</td>\n",
       "      <td>NaN</td>\n",
       "      <td>NaN</td>\n",
       "      <td>NaN</td>\n",
       "      <td>NaN</td>\n",
       "      <td>NaN</td>\n",
       "      <td>NaN</td>\n",
       "    </tr>\n",
       "  </tbody>\n",
       "</table>\n",
       "</div>"
      ],
      "text/plain": [
       "    State  FIPS  Heat Deaths  Cold Deaths    Population  cold_rate  heat_rate\n",
       "111   NaN   NaN          NaN      33418.0  6.746357e+09   0.495349        NaN\n",
       "112   NaN   NaN          NaN          NaN           NaN        NaN        NaN\n",
       "113   NaN   NaN          NaN          NaN           NaN        NaN        NaN\n",
       "114   NaN   NaN          NaN          NaN           NaN        NaN        NaN\n",
       "115   NaN   NaN          NaN          NaN           NaN        NaN        NaN"
      ]
     },
     "execution_count": 17,
     "metadata": {},
     "output_type": "execute_result"
    }
   ],
   "source": [
    "merged[merged[\"Heat Deaths\"].isna()].head() # checking which columns have nan\n"
   ]
  },
  {
   "cell_type": "code",
   "execution_count": 18,
   "id": "f593bb59-65de-458d-a66e-95a9b1794d7d",
   "metadata": {},
   "outputs": [
    {
     "data": {
      "text/html": [
       "<div>\n",
       "<style scoped>\n",
       "    .dataframe tbody tr th:only-of-type {\n",
       "        vertical-align: middle;\n",
       "    }\n",
       "\n",
       "    .dataframe tbody tr th {\n",
       "        vertical-align: top;\n",
       "    }\n",
       "\n",
       "    .dataframe thead th {\n",
       "        text-align: right;\n",
       "    }\n",
       "</style>\n",
       "<table border=\"1\" class=\"dataframe\">\n",
       "  <thead>\n",
       "    <tr style=\"text-align: right;\">\n",
       "      <th></th>\n",
       "      <th>State</th>\n",
       "      <th>FIPS</th>\n",
       "      <th>Heat Deaths</th>\n",
       "      <th>Cold Deaths</th>\n",
       "      <th>Population</th>\n",
       "      <th>cold_rate</th>\n",
       "      <th>heat_rate</th>\n",
       "    </tr>\n",
       "  </thead>\n",
       "  <tbody>\n",
       "    <tr>\n",
       "      <th>52</th>\n",
       "      <td>NaN</td>\n",
       "      <td>NaN</td>\n",
       "      <td>15822.0</td>\n",
       "      <td>NaN</td>\n",
       "      <td>NaN</td>\n",
       "      <td>NaN</td>\n",
       "      <td>NaN</td>\n",
       "    </tr>\n",
       "    <tr>\n",
       "      <th>53</th>\n",
       "      <td>NaN</td>\n",
       "      <td>NaN</td>\n",
       "      <td>15822.0</td>\n",
       "      <td>NaN</td>\n",
       "      <td>NaN</td>\n",
       "      <td>NaN</td>\n",
       "      <td>NaN</td>\n",
       "    </tr>\n",
       "    <tr>\n",
       "      <th>54</th>\n",
       "      <td>NaN</td>\n",
       "      <td>NaN</td>\n",
       "      <td>15822.0</td>\n",
       "      <td>NaN</td>\n",
       "      <td>NaN</td>\n",
       "      <td>NaN</td>\n",
       "      <td>NaN</td>\n",
       "    </tr>\n",
       "    <tr>\n",
       "      <th>55</th>\n",
       "      <td>NaN</td>\n",
       "      <td>NaN</td>\n",
       "      <td>15822.0</td>\n",
       "      <td>NaN</td>\n",
       "      <td>NaN</td>\n",
       "      <td>NaN</td>\n",
       "      <td>NaN</td>\n",
       "    </tr>\n",
       "    <tr>\n",
       "      <th>56</th>\n",
       "      <td>NaN</td>\n",
       "      <td>NaN</td>\n",
       "      <td>15822.0</td>\n",
       "      <td>NaN</td>\n",
       "      <td>NaN</td>\n",
       "      <td>NaN</td>\n",
       "      <td>NaN</td>\n",
       "    </tr>\n",
       "  </tbody>\n",
       "</table>\n",
       "</div>"
      ],
      "text/plain": [
       "   State  FIPS  Heat Deaths  Cold Deaths  Population  cold_rate  heat_rate\n",
       "52   NaN   NaN      15822.0          NaN         NaN        NaN        NaN\n",
       "53   NaN   NaN      15822.0          NaN         NaN        NaN        NaN\n",
       "54   NaN   NaN      15822.0          NaN         NaN        NaN        NaN\n",
       "55   NaN   NaN      15822.0          NaN         NaN        NaN        NaN\n",
       "56   NaN   NaN      15822.0          NaN         NaN        NaN        NaN"
      ]
     },
     "execution_count": 18,
     "metadata": {},
     "output_type": "execute_result"
    }
   ],
   "source": [
    "merged[merged[\"Cold Deaths\"].isna()].head()"
   ]
  },
  {
   "cell_type": "code",
   "execution_count": 19,
   "id": "01784171-54ed-45cc-a7a5-f7159e7332cc",
   "metadata": {},
   "outputs": [
    {
     "ename": "FileNotFoundError",
     "evalue": "[Errno 2] No such file or directory: '/home/jovyan/Project2/data/intermediary/merged_death'",
     "output_type": "error",
     "traceback": [
      "\u001b[0;31m---------------------------------------------------------------------------\u001b[0m",
      "\u001b[0;31mFileNotFoundError\u001b[0m                         Traceback (most recent call last)",
      "\u001b[0;32m/tmp/ipykernel_54/2384691516.py\u001b[0m in \u001b[0;36m<module>\u001b[0;34m\u001b[0m\n\u001b[0;32m----> 1\u001b[0;31m \u001b[0mmerged\u001b[0m\u001b[0;34m.\u001b[0m\u001b[0mto_csv\u001b[0m\u001b[0;34m(\u001b[0m\u001b[0;34m\"/home/jovyan/Project2/data/intermediary/merged_death\"\u001b[0m\u001b[0;34m)\u001b[0m\u001b[0;34m\u001b[0m\u001b[0;34m\u001b[0m\u001b[0m\n\u001b[0m",
      "\u001b[0;32m/opt/conda/lib/python3.9/site-packages/pandas/core/generic.py\u001b[0m in \u001b[0;36mto_csv\u001b[0;34m(self, path_or_buf, sep, na_rep, float_format, columns, header, index, index_label, mode, encoding, compression, quoting, quotechar, line_terminator, chunksize, date_format, doublequote, escapechar, decimal, errors, storage_options)\u001b[0m\n\u001b[1;32m   3464\u001b[0m         )\n\u001b[1;32m   3465\u001b[0m \u001b[0;34m\u001b[0m\u001b[0m\n\u001b[0;32m-> 3466\u001b[0;31m         return DataFrameRenderer(formatter).to_csv(\n\u001b[0m\u001b[1;32m   3467\u001b[0m             \u001b[0mpath_or_buf\u001b[0m\u001b[0;34m,\u001b[0m\u001b[0;34m\u001b[0m\u001b[0;34m\u001b[0m\u001b[0m\n\u001b[1;32m   3468\u001b[0m             \u001b[0mline_terminator\u001b[0m\u001b[0;34m=\u001b[0m\u001b[0mline_terminator\u001b[0m\u001b[0;34m,\u001b[0m\u001b[0;34m\u001b[0m\u001b[0;34m\u001b[0m\u001b[0m\n",
      "\u001b[0;32m/opt/conda/lib/python3.9/site-packages/pandas/io/formats/format.py\u001b[0m in \u001b[0;36mto_csv\u001b[0;34m(self, path_or_buf, encoding, sep, columns, index_label, mode, compression, quoting, quotechar, line_terminator, chunksize, date_format, doublequote, escapechar, errors, storage_options)\u001b[0m\n\u001b[1;32m   1103\u001b[0m             \u001b[0mformatter\u001b[0m\u001b[0;34m=\u001b[0m\u001b[0mself\u001b[0m\u001b[0;34m.\u001b[0m\u001b[0mfmt\u001b[0m\u001b[0;34m,\u001b[0m\u001b[0;34m\u001b[0m\u001b[0;34m\u001b[0m\u001b[0m\n\u001b[1;32m   1104\u001b[0m         )\n\u001b[0;32m-> 1105\u001b[0;31m         \u001b[0mcsv_formatter\u001b[0m\u001b[0;34m.\u001b[0m\u001b[0msave\u001b[0m\u001b[0;34m(\u001b[0m\u001b[0;34m)\u001b[0m\u001b[0;34m\u001b[0m\u001b[0;34m\u001b[0m\u001b[0m\n\u001b[0m\u001b[1;32m   1106\u001b[0m \u001b[0;34m\u001b[0m\u001b[0m\n\u001b[1;32m   1107\u001b[0m         \u001b[0;32mif\u001b[0m \u001b[0mcreated_buffer\u001b[0m\u001b[0;34m:\u001b[0m\u001b[0;34m\u001b[0m\u001b[0;34m\u001b[0m\u001b[0m\n",
      "\u001b[0;32m/opt/conda/lib/python3.9/site-packages/pandas/io/formats/csvs.py\u001b[0m in \u001b[0;36msave\u001b[0;34m(self)\u001b[0m\n\u001b[1;32m    235\u001b[0m         \"\"\"\n\u001b[1;32m    236\u001b[0m         \u001b[0;31m# apply compression and byte/text conversion\u001b[0m\u001b[0;34m\u001b[0m\u001b[0;34m\u001b[0m\u001b[0m\n\u001b[0;32m--> 237\u001b[0;31m         with get_handle(\n\u001b[0m\u001b[1;32m    238\u001b[0m             \u001b[0mself\u001b[0m\u001b[0;34m.\u001b[0m\u001b[0mfilepath_or_buffer\u001b[0m\u001b[0;34m,\u001b[0m\u001b[0;34m\u001b[0m\u001b[0;34m\u001b[0m\u001b[0m\n\u001b[1;32m    239\u001b[0m             \u001b[0mself\u001b[0m\u001b[0;34m.\u001b[0m\u001b[0mmode\u001b[0m\u001b[0;34m,\u001b[0m\u001b[0;34m\u001b[0m\u001b[0;34m\u001b[0m\u001b[0m\n",
      "\u001b[0;32m/opt/conda/lib/python3.9/site-packages/pandas/io/common.py\u001b[0m in \u001b[0;36mget_handle\u001b[0;34m(path_or_buf, mode, encoding, compression, memory_map, is_text, errors, storage_options)\u001b[0m\n\u001b[1;32m    700\u001b[0m         \u001b[0;32mif\u001b[0m \u001b[0mioargs\u001b[0m\u001b[0;34m.\u001b[0m\u001b[0mencoding\u001b[0m \u001b[0;32mand\u001b[0m \u001b[0;34m\"b\"\u001b[0m \u001b[0;32mnot\u001b[0m \u001b[0;32min\u001b[0m \u001b[0mioargs\u001b[0m\u001b[0;34m.\u001b[0m\u001b[0mmode\u001b[0m\u001b[0;34m:\u001b[0m\u001b[0;34m\u001b[0m\u001b[0;34m\u001b[0m\u001b[0m\n\u001b[1;32m    701\u001b[0m             \u001b[0;31m# Encoding\u001b[0m\u001b[0;34m\u001b[0m\u001b[0;34m\u001b[0m\u001b[0m\n\u001b[0;32m--> 702\u001b[0;31m             handle = open(\n\u001b[0m\u001b[1;32m    703\u001b[0m                 \u001b[0mhandle\u001b[0m\u001b[0;34m,\u001b[0m\u001b[0;34m\u001b[0m\u001b[0;34m\u001b[0m\u001b[0m\n\u001b[1;32m    704\u001b[0m                 \u001b[0mioargs\u001b[0m\u001b[0;34m.\u001b[0m\u001b[0mmode\u001b[0m\u001b[0;34m,\u001b[0m\u001b[0;34m\u001b[0m\u001b[0;34m\u001b[0m\u001b[0m\n",
      "\u001b[0;31mFileNotFoundError\u001b[0m: [Errno 2] No such file or directory: '/home/jovyan/Project2/data/intermediary/merged_death'"
     ]
    }
   ],
   "source": [
    "merged.to_csv(\"/home/jovyan/Project2/data/intermediary/merged_death\")"
   ]
  },
  {
   "cell_type": "code",
   "execution_count": null,
   "id": "3afb9105-85c2-4726-8ccf-f28adcd7a0a5",
   "metadata": {},
   "outputs": [],
   "source": [
    "states = gpd.read_file(\"/home/jovyan/Project2/data/states/s_05mr24.shp\")"
   ]
  },
  {
   "cell_type": "code",
   "execution_count": null,
   "id": "ae0e9563-54cf-4737-af9c-2cdead0af669",
   "metadata": {},
   "outputs": [],
   "source": [
    "states.head()"
   ]
  },
  {
   "cell_type": "code",
   "execution_count": null,
   "id": "dca85133-5fbf-43b4-ad21-a4bfc4bc197b",
   "metadata": {},
   "outputs": [],
   "source": [
    "merged[\"FIPS\"] = (\n",
    "    merged[\"FIPS\"]\n",
    "    .fillna(\"\")              # Replace NaN with empty string\n",
    "    .astype(str)\n",
    "    .str.replace(\".0\", \"\", regex=False)  # Remove decimal part if any\n",
    "    .str.zfill(2)\n",
    ")\n",
    "states[\"FIPS\"] = states[\"FIPS\"].astype(str).str.zfill(2)\n",
    "gdf = states.merge(merged, on=\"FIPS\", how=\"left\")\n",
    "\n"
   ]
  },
  {
   "cell_type": "code",
   "execution_count": null,
   "id": "d9358f52-78f0-4b1f-9815-97cab0e62bcb",
   "metadata": {},
   "outputs": [],
   "source": [
    "gdf.head()"
   ]
  },
  {
   "cell_type": "code",
   "execution_count": null,
   "id": "6295e720-102e-47c3-a9df-cbda8f3fdcc5",
   "metadata": {},
   "outputs": [],
   "source": [
    "gdf.to_file(\"/home/jovyan/Project2/data/intermediary/merged_death_rates.shp\")\n"
   ]
  },
  {
   "cell_type": "code",
   "execution_count": null,
   "id": "f7922d43-c3e3-4d43-9c38-922ad892beba",
   "metadata": {
    "tags": []
   },
   "outputs": [],
   "source": [
    "# Create 2x2 grid\n",
    "fig, axes = plt.subplots(2, 2, figsize=(18, 12))\n",
    "\n",
    "# --- Top row: Rates ---\n",
    "gdf.plot(column='cold_rate',\n",
    "         cmap='Blues',\n",
    "         legend=True,\n",
    "         legend_kwds={'label': \"Cold-Related Death Rate per 100k\"},\n",
    "         edgecolor='black',\n",
    "         ax=axes[0, 0])\n",
    "axes[0, 0].set_title(\"Cold-Related Death Rate (1999–2020)\")\n",
    "axes[0, 0].axis('off')\n",
    "\n",
    "gdf.plot(column='heat_rate',\n",
    "         cmap='Reds',\n",
    "         legend=True,\n",
    "         legend_kwds={'label': \"Heat-Related Death Rate per 100k\"},\n",
    "         edgecolor='black',\n",
    "         ax=axes[0, 1])\n",
    "axes[0, 1].set_title(\"Heat-Related Death Rate (1999–2020)\")\n",
    "axes[0, 1].axis('off')\n",
    "\n",
    "# --- Bottom row: Raw Death Counts ---\n",
    "gdf.plot(column='Cold Deaths',\n",
    "         cmap='Blues',\n",
    "         legend=True,\n",
    "         legend_kwds={'label': \"Total Cold-Related Deaths\"},\n",
    "         edgecolor='black',\n",
    "         ax=axes[1, 0])\n",
    "axes[1, 0].set_title(\"Total Cold-Related Deaths (1999–2020)\")\n",
    "axes[1, 0].axis('off')\n",
    "\n",
    "gdf.plot(column='Heat Deaths',\n",
    "         cmap='Reds',\n",
    "         legend=True,\n",
    "         legend_kwds={'label': \"Total Heat-Related Deaths\"},\n",
    "         edgecolor='black',\n",
    "         ax=axes[1, 1])\n",
    "axes[1, 1].set_title(\"Total Heat-Related Deaths (1999–2020)\")\n",
    "axes[1, 1].axis('off')\n",
    "\n",
    "plt.tight_layout()\n",
    "plt.show()"
   ]
  },
  {
   "cell_type": "markdown",
   "id": "e1517dfb-f8e2-4782-b6a5-81ac6863a06a",
   "metadata": {},
   "source": [
    "## First look at the data\n",
    "\n",
    "Here is our first look at the data. So far all we have done is format the data by renaming and dropping certain columns, merged the hot and cold death tables based on the state code (FIPS), and recalculated the death rates for each state (because some of the rates were labeled \"unreliable\"). Then, merged the table with a state shape file in order to add the geometry for each state and then plot it.\n",
    "\n",
    "**This first view is okay but it is quite zoomed out and hard to see the details of the plots.** We will have to either zoom in or drop the geometry on the right of the plot to automatically zoom it in. We have also not pulled in the weather data yet, some ideas for this would be a supplemental scatterplot with number of deaths or death rate, and number of days below freezing or above 90 degrees. We will also likely trash the total death choropleths because it does not account for population like death rate does. Another approach is looking at rates at a county level. However, this will likely result in too many supressed values."
   ]
  },
  {
   "cell_type": "code",
   "execution_count": null,
   "id": "81c1b8f5-5aea-4823-9b2b-084a971ec9bc",
   "metadata": {},
   "outputs": [],
   "source": [
    "cold_county = pd.read_csv(\"/home/jovyan/Project2/data/mcod_county_cold.csv\")\n",
    "heat_county = pd.read_csv(\"/home/jovyan/Project2/data/mcod_county_heat.csv\")\n",
    "merged_county = pd.merge(cold_county, heat_county, on=\"County Code\", suffixes=((\"_cold\"), (\"_heat\"))) #merging hot and cold deaths\n",
    "merged_county.head()"
   ]
  },
  {
   "cell_type": "code",
   "execution_count": null,
   "id": "a4aa77e1-1c5e-4f12-9c42-0e354c801b69",
   "metadata": {},
   "outputs": [],
   "source": [
    "merged_county.rename(columns={\"County_cold\":\"County\", \"State_cold\":\"State\", \"State Code_cold\":\"State Code\", \"Population_cold\":\"Population\"}, inplace=True) #rename columns\n",
    "merged_county.columns.to_list()"
   ]
  },
  {
   "cell_type": "code",
   "execution_count": null,
   "id": "d633d869-32cf-407c-9bf6-1b3b48375764",
   "metadata": {},
   "outputs": [],
   "source": [
    "merged_county = merged_county.drop(columns=[\"Crude Rate_cold\", \"Notes_heat\", \"State_heat\", \"State Code_heat\", \"County_heat\", \"Population_heat\", \"Crude Rate_heat\"])\n",
    "merged_county.head()"
   ]
  },
  {
   "cell_type": "code",
   "execution_count": null,
   "id": "b9b5631b-7ea5-41bb-8e78-a43db1cf8846",
   "metadata": {},
   "outputs": [],
   "source": [
    "# Replace 'Suppressed' strings with 1\n",
    "merged_county['Deaths_cold'] = merged_county['Deaths_cold'].replace('Suppressed', 1)\n",
    "merged_county['Deaths_heat'] = merged_county['Deaths_heat'].replace('Suppressed', 1)"
   ]
  },
  {
   "cell_type": "code",
   "execution_count": null,
   "id": "ff36dada-e888-497e-aee4-48bece458ffe",
   "metadata": {},
   "outputs": [],
   "source": [
    "# Convert the column to numeric\n",
    "merged_county['Deaths_cold'] = pd.to_numeric(merged_county['Deaths_cold'])\n",
    "merged_county['Deaths_heat'] = pd.to_numeric(merged_county['Deaths_heat'])\n",
    "merged_county['Population'] = pd.to_numeric(merged_county['Population'])\n",
    "\n",
    "merged_county[\"cold_rate\"] = (merged_county[\"Deaths_cold\"] / merged_county[\"Population\"]) * 100000 #recalculating death rates \n",
    "merged_county[\"heat_rate\"] = (merged_county[\"Deaths_heat\"] / merged_county[\"Population\"]) * 100000\n",
    "merged_county.head()"
   ]
  },
  {
   "cell_type": "code",
   "execution_count": null,
   "id": "124ba7b0-fb8e-4c2f-9ee2-5bbabb6ddf66",
   "metadata": {},
   "outputs": [],
   "source": [
    "# Convert to integer\n",
    "merged_county['County Code'] = merged_county['County Code'].fillna(0).astype(int)\n",
    "merged_county['State Code'] = merged_county['State Code'].fillna(0).astype(int)\n",
    "\n",
    "# Convert County Code to string and remove extra leading '1' if present\n",
    "merged_county['County Code'] = merged_county['County Code'].astype(str).apply(lambda x: x[-3:] if len(x) > 3 else x)\n",
    "\n",
    "merged_county.head()\n"
   ]
  },
  {
   "cell_type": "code",
   "execution_count": null,
   "id": "f94febcf-d833-4f08-ad22-cdaf38a4df32",
   "metadata": {},
   "outputs": [],
   "source": [
    "counties = gpd.read_file(\"/home/jovyan/Project2/data/counties\")"
   ]
  },
  {
   "cell_type": "code",
   "execution_count": null,
   "id": "e4bf52f2-c069-408e-b39a-3cb2ce021d56",
   "metadata": {},
   "outputs": [],
   "source": [
    "print(counties.columns.to_list())"
   ]
  },
  {
   "cell_type": "code",
   "execution_count": null,
   "id": "d5b432b2-b90a-46c7-8eba-23b22aacf690",
   "metadata": {},
   "outputs": [],
   "source": [
    "# Make sure codes are strings and zero-padded\n",
    "counties['STATEFP'] = counties['STATEFP'].astype(str).str.zfill(2)\n",
    "counties['COUNTYFP'] = counties['COUNTYFP'].astype(str).str.zfill(3)\n",
    "\n",
    "merged_county['STATEFP'] = merged_county['State Code'].astype(str).str.zfill(2)\n",
    "merged_county['COUNTYFP'] = merged_county['County Code'].astype(str).str.zfill(3)\n",
    "print(merged_county[['State Code','County Code','STATEFP','COUNTYFP']].head(10))\n"
   ]
  },
  {
   "cell_type": "code",
   "execution_count": null,
   "id": "527d913b-4243-4e42-96c5-255d03010df2",
   "metadata": {},
   "outputs": [],
   "source": [
    "gdf_county = counties.merge(\n",
    "    merged_county,\n",
    "    on=['STATEFP', 'COUNTYFP'],\n",
    "    how='left' \n",
    ")\n",
    "gdf_county"
   ]
  },
  {
   "cell_type": "code",
   "execution_count": null,
   "id": "44ce4d7f-b994-4523-ad0e-04b59ab0ffaf",
   "metadata": {},
   "outputs": [],
   "source": [
    "print(gdf_county[['STATEFP','COUNTYFP','NAME','Deaths_cold','Deaths_heat']].head(20))\n"
   ]
  },
  {
   "cell_type": "code",
   "execution_count": null,
   "id": "c4750350-98aa-4be5-a159-8acffa4f63f9",
   "metadata": {},
   "outputs": [],
   "source": [
    "gdf_county = gdf_county.dropna(subset=['Deaths_cold','Deaths_heat'])\n",
    "\n",
    "# Check\n",
    "gdf_county[['STATEFP','COUNTYFP','NAME','Deaths_cold','Deaths_heat']].head(20)\n"
   ]
  },
  {
   "cell_type": "code",
   "execution_count": null,
   "id": "0036004c-524c-44a1-9bf3-52b5131c0e3c",
   "metadata": {},
   "outputs": [],
   "source": [
    "cols_to_keep = ['STATEFP','COUNTYFP','NAME','Deaths_cold','Deaths_heat','cold_rate','heat_rate','geometry']\n",
    "gdf_county = gdf_county[cols_to_keep]\n",
    "gdf_county"
   ]
  },
  {
   "cell_type": "code",
   "execution_count": null,
   "id": "06c58a10-87fc-40a2-adb7-aaca6d3c266b",
   "metadata": {},
   "outputs": [],
   "source": [
    "# Keep only rows where STATEFP corresponds to the 50 states\n",
    "state_fps_50 = [str(x).zfill(2) for x in range(1, 57) if x not in [3,7,14,43,52]]  # excluding special codes if any\n",
    "gdf_county = gdf_county[gdf_county['STATEFP'].isin(state_fps_50)]\n",
    "gdf_county"
   ]
  },
  {
   "cell_type": "code",
   "execution_count": null,
   "id": "bd261ff0-e6ba-4447-9e5a-3ad971ea9e04",
   "metadata": {},
   "outputs": [],
   "source": [
    "gdf_county['geometry'] = gdf_county['geometry'].simplify(tolerance=0.01, preserve_topology=True)\n",
    "gdf_county['Deaths_cold'] = pd.to_numeric(gdf_county['Deaths_cold'])\n",
    "gdf_county['Deaths_heat'] = pd.to_numeric(gdf_county['Deaths_heat'])\n",
    "gdf_county['cold_rate'] = pd.to_numeric(gdf_county['cold_rate'])\n",
    "gdf_county['heat_rate'] = pd.to_numeric(gdf_county['heat_rate'])\n",
    "gdf_county.to_file(\"/home/jovyan/Project2/data/gdf_county_clean.shp\")\n"
   ]
  },
  {
   "cell_type": "markdown",
   "id": "e49482bc-678c-407b-8486-0dc7171bd90e",
   "metadata": {},
   "source": [
    "_Note: Simplified the geometry for the counties because otherwise the kernel would shutdown._"
   ]
  },
  {
   "cell_type": "code",
   "execution_count": null,
   "id": "1d73a1e5-2aa3-4647-aedf-e1a682d1daa7",
   "metadata": {
    "tags": []
   },
   "outputs": [],
   "source": [
    "fig, axes = plt.subplots(2, 2, figsize=(18, 12))\n",
    "\n",
    "# -------------------\n",
    "# Top-left: Cold rate (county) with red outline for suppressed values\n",
    "# -------------------\n",
    "gdf_nonzero_cold = gdf_county[gdf_county['cold_rate'] != 0]\n",
    "gdf_zero_cold = gdf_county[gdf_county['cold_rate'] == 0]\n",
    "\n",
    "# Non-zero counties\n",
    "gdf_nonzero_cold.plot(column='cold_rate', cmap='Blues', linewidth=0.1,\n",
    "                      ax=axes[0, 0], edgecolor='black', legend=True,\n",
    "                      legend_kwds={'label': \"Cold-Related Death Rate per 100k\"})\n",
    "\n",
    "# Zero counties\n",
    "gdf_zero_cold.plot(color='lightgray', linewidth=0.1, ax=axes[0, 0], edgecolor='black')\n",
    "\n",
    "# State boundaries\n",
    "gdf.boundary.plot(ax=axes[0, 0], color='black', linewidth=0.5)\n",
    "axes[0, 0].set_title(\"Cold-Related Death Rate by County (1999–2020)\")\n",
    "axes[0, 0].axis('off')\n",
    "axes[0, 0].set_xlim(-170, -65)\n",
    "axes[0, 0].set_ylim(18, 72)\n",
    "\n",
    "# -------------------\n",
    "# Top-right: Heat rate (county) with red outline for suppressed values\n",
    "# -------------------\n",
    "gdf_nonzero_heat = gdf_county[gdf_county['heat_rate'] != 0]\n",
    "gdf_zero_heat = gdf_county[gdf_county['heat_rate'] == 0]\n",
    "\n",
    "# Non-zero counties\n",
    "gdf_nonzero_heat.plot(column='heat_rate', cmap='Reds', linewidth=0.1,\n",
    "                      ax=axes[0, 1], edgecolor='black', legend=True,\n",
    "                      legend_kwds={'label': \"Heat-Related Death Rate per 100k\"})\n",
    "\n",
    "# Zero counties\n",
    "gdf_zero_heat.plot(color='lightgray', linewidth=0.1, ax=axes[0, 1], edgecolor='black')\n",
    "\n",
    "# State boundaries\n",
    "gdf.boundary.plot(ax=axes[0, 1], color='black', linewidth=0.5)\n",
    "axes[0, 1].set_title(\"Heat-Related Death Rate by County (1999–2020)\")\n",
    "axes[0, 1].axis('off')\n",
    "axes[0, 1].set_xlim(-170, -65)\n",
    "axes[0, 1].set_ylim(18, 72)\n",
    "\n",
    "# -------------------\n",
    "# Bottom-left: Cold rate (state)\n",
    "# -------------------\n",
    "gdf.plot(column='cold_rate', cmap='Blues', linewidth=0.8, edgecolor='black',\n",
    "         ax=axes[1, 0], legend=True,\n",
    "         legend_kwds={'label': \"Cold-Related Death Rate per 100k\"})\n",
    "axes[1, 0].set_title(\"Cold-Related Death Rate by State (1999–2020)\")\n",
    "axes[1, 0].axis('off')\n",
    "axes[1, 0].set_xlim(-170, -65)\n",
    "axes[1, 0].set_ylim(18, 72)\n",
    "\n",
    "# -------------------\n",
    "# Bottom-right: Heat rate (state)\n",
    "# -------------------\n",
    "gdf.plot(column='heat_rate', cmap='Reds', linewidth=0.8, edgecolor='black',\n",
    "         ax=axes[1, 1], legend=True,\n",
    "         legend_kwds={'label': \"Heat-Related Death Rate per 100k\"})\n",
    "axes[1, 1].set_title(\"Heat-Related Death Rate by State (1999–2020)\")\n",
    "axes[1, 1].axis('off')\n",
    "axes[1, 1].set_xlim(-170, -65)\n",
    "axes[1, 1].set_ylim(18, 72)\n",
    "\n",
    "plt.tight_layout()\n",
    "plt.show()"
   ]
  },
  {
   "cell_type": "markdown",
   "id": "68175b26-f249-4c5d-b62b-e83dc39ab2d1",
   "metadata": {},
   "source": [
    "## 2nd Revision\n",
    "\n",
    "This is interesting to look at. However, the county rates are not entirely accurate since we replaced suppressed values with a 1. We did this because the CDC suppresses any row with a number of deaths less than or equal to 10, so we know at least one person died due to a temperature related death, but we are not sure how many.\n",
    "\n",
    "For this reason we will likely have to stick with a \"by state\" analysis even though the county rate plots are much more detailed. We did similar processing to the first revision, but this time on a county level. This included formatting the tables again, merging the heat and cold deaths to a county shape file by the COUNTYFP and STATEFP. We also calculated the rates after replacing the suppressed values with 1, again this is why the map is not entirely accurate.\n",
    "\n",
    "We then plotted all 4 maps just to compare how they look, this time zoomed in on the 50 states - ignoring overseas territories that were in our shapefile. Gray colored counties denote 0 deaths for temperature related deaths. One thing we could do for the county plot is to keep track of which values were originally suppressed and apply a pattern accross those counties to see how many are just estimates of the rate. We still need to tie in the number of days above or below a certain temperature threshold."
   ]
  },
  {
   "cell_type": "code",
   "execution_count": null,
   "id": "7b240ec8-7796-4ff0-86a0-e6cf0cc6996d",
   "metadata": {
    "tags": []
   },
   "outputs": [],
   "source": [
    "## Plot the resulting graphs based on the transformations above\n",
    "\n",
    "fig, axes = plt.subplots(1, 2, figsize=(18, 12))\n",
    "\n",
    "# -------------------\n",
    "# Top-left: Cold rate (county) w/ suppressed rates in black\n",
    "gdf_nonzero_cold = gdf_county[gdf_county['cold_rate'] != 0]\n",
    "gdf_zero_cold = gdf_county[gdf_county['cold_rate'] == 0]\n",
    "gdf_suppressed_cold = gdf_county[gdf_county['Deaths_cold'] == 1]\n",
    "\n",
    "# Non-zero counties\n",
    "gdf_nonzero_cold.plot(column='cold_rate', cmap='Blues', linewidth=0.1,\n",
    "                      ax=axes[0], edgecolor='black', legend=True,\n",
    "                      legend_kwds={'label': \"Cold-Related Death Rate per 100k\"})\n",
    "\n",
    "# Zero counties\n",
    "gdf_zero_cold.plot(color='lightgray', linewidth=0.1, ax=axes[0], edgecolor='black')\n",
    "\n",
    "# Suppressed counties in black\n",
    "gdf_suppressed_cold.plot(color='black', edgecolor='black', linewidth=1.0, ax=axes[0])\n",
    "\n",
    "# State boundaries\n",
    "gdf.boundary.plot(ax=axes[0], color='black', linewidth=0.5)\n",
    "axes[0].set_title(\"Cold-Related Death Rate by County (1999–2020)\")\n",
    "axes[0].axis('off')\n",
    "axes[0].set_xlim(-170, -65)\n",
    "axes[0].set_ylim(18, 72)\n",
    "\n",
    "# -------------------\n",
    "# Top-right: Heat rate (county) w/ suppressed rates in black\n",
    "# -------------------\n",
    "gdf_nonzero_heat = gdf_county[gdf_county['heat_rate'] != 0]\n",
    "gdf_zero_heat = gdf_county[gdf_county['heat_rate'] == 0]\n",
    "gdf_suppressed_heat = gdf_county[gdf_county['Deaths_heat'] == 1]\n",
    "\n",
    "# Non-zero counties\n",
    "gdf_nonzero_heat.plot(column='heat_rate', cmap='Reds', linewidth=0.1,\n",
    "                      ax=axes[1], edgecolor='black', legend=True,\n",
    "                      legend_kwds={'label': \"Heat-Related Death Rate per 100k\"})\n",
    "\n",
    "# Zero counties\n",
    "gdf_zero_heat.plot(color='lightgray', linewidth=0.1, ax=axes[1], edgecolor='black')\n",
    "\n",
    "# Suppressed counties in black\n",
    "gdf_suppressed_heat.plot(color='black', edgecolor='black', linewidth=1.0, ax=axes[1])\n",
    "\n",
    "# State boundaries\n",
    "gdf.boundary.plot(ax=axes[1], color='black', linewidth=0.5)\n",
    "axes[1].set_title(\"Heat-Related Death Rate by County (1999–2020)\")\n",
    "axes[1].axis('off')\n",
    "axes[1].set_xlim(-170, -65)\n",
    "axes[1].set_ylim(18, 72)\n",
    "\n",
    "plt.tight_layout()\n",
    "plt.show()"
   ]
  },
  {
   "cell_type": "markdown",
   "id": "99476f31-3e18-48ec-8c15-9d01e6dc627e",
   "metadata": {},
   "source": [
    "_Note: This is more of a exploratory visual to see how many county death rates are suppressed (black). Obviously, most of them are. This is why we decided to stick to a state-level analysis to stay true to the data integrity._"
   ]
  },
  {
   "cell_type": "code",
   "execution_count": null,
   "id": "3390dc2a-89a1-4c61-8496-99bd951f629f",
   "metadata": {
    "tags": []
   },
   "outputs": [],
   "source": [
    "weather = pd.read_csv(\"/home/jovyan/Project2/data/temp.csv\")\n",
    "weather.head()"
   ]
  },
  {
   "cell_type": "code",
   "execution_count": null,
   "id": "fd09bc30-c6b2-47c3-843a-ff6ba4bce9e9",
   "metadata": {
    "tags": []
   },
   "outputs": [],
   "source": [
    "counts = weather.groupby(['st_abb', 'st_code']).agg(\n",
    "    hot_days=('tmax', lambda x: (x > 32).sum()),  # max temp in Celsius\n",
    "    cold_days=('tmin', lambda x: (x < 0).sum())   # min temp in Celsius\n",
    ").reset_index()\n",
    "\n",
    "counts.head(20)\n"
   ]
  },
  {
   "cell_type": "code",
   "execution_count": null,
   "id": "d3925da2-4407-4291-b707-1fd5bd65f42a",
   "metadata": {
    "tags": []
   },
   "outputs": [],
   "source": [
    "counts.rename(columns={\"st_code\":\"FIPS\"}, inplace=True)\n",
    "counts['FIPS'] = counts['FIPS'].astype(str).str.zfill(2)\n",
    "counts"
   ]
  },
  {
   "cell_type": "code",
   "execution_count": null,
   "id": "a2d31d3c-ad8f-41b8-8c1c-e135def58158",
   "metadata": {
    "tags": []
   },
   "outputs": [],
   "source": [
    "gdf = gpd.read_file(\"/home/jovyan/Project2/data/intermediary/merged_death_rates.shp\")\n",
    "gdf.head()"
   ]
  },
  {
   "cell_type": "code",
   "execution_count": null,
   "id": "b34d297b-eb21-46f3-a35b-75f53653c433",
   "metadata": {
    "tags": []
   },
   "outputs": [],
   "source": [
    "print(gdf[\"FIPS\"].dtype)\n",
    "print(counts[\"FIPS\"].dtype)\n"
   ]
  },
  {
   "cell_type": "code",
   "execution_count": null,
   "id": "67c3f1a1-1e40-4154-84e9-896633896a25",
   "metadata": {
    "tags": []
   },
   "outputs": [],
   "source": [
    "gdf = gdf.merge(counts, on=\"FIPS\", how=\"left\")\n",
    "gdf = gdf[gdf['FIPS'].isin(state_fps_50)] # only the 50 states\n",
    "gdf.columns.to_list()"
   ]
  },
  {
   "cell_type": "code",
   "execution_count": null,
   "id": "97c9acf9-d7c2-4ff1-8f3b-a278f49897f6",
   "metadata": {
    "tags": []
   },
   "outputs": [],
   "source": [
    "gdf=gdf.drop(columns=[\"st_abb\", \"State_1\"])"
   ]
  },
  {
   "cell_type": "code",
   "execution_count": null,
   "id": "5b923993-d1f3-41bf-91c0-a54afeeac404",
   "metadata": {
    "tags": []
   },
   "outputs": [],
   "source": [
    "# Sort by cold mortality rate\n",
    "gdf_sorted = gdf.sort_values('cold_rate', ascending=False)\n",
    "\n",
    "states = gdf_sorted['NAME']\n",
    "x = np.arange(len(states))\n",
    "\n",
    "fig, ax = plt.subplots(figsize=(16,6))\n",
    "\n",
    "width = 0.4\n",
    "\n",
    "ax.bar(x - width/2, gdf_sorted['cold_rate'], width, label='Cold Rate', color='blue')\n",
    "ax.bar(x + width/2, gdf_sorted['heat_rate'], width, label='Hot Rate', color='red')\n",
    "\n",
    "ax.set_xticks(x)\n",
    "ax.set_xticklabels(states, rotation=90)\n",
    "ax.set_ylabel(\"Mortality Rate\")\n",
    "ax.set_title(\"Cold vs Hot Mortality Rates by State\")\n",
    "ax.legend()\n",
    "\n",
    "plt.tight_layout()\n",
    "plt.show()"
   ]
  },
  {
   "cell_type": "code",
   "execution_count": null,
   "id": "30a84f17-8d1f-4bee-b828-bd4e8fc6a8b2",
   "metadata": {
    "tags": []
   },
   "outputs": [],
   "source": [
    "# Sort by cold moratility rate\n",
    "gdf_sorted = gdf.sort_values('cold_rate', ascending=False)\n",
    "\n",
    "states = gdf_sorted['NAME']\n",
    "x = np.arange(len(states))\n",
    "\n",
    "fig, ax = plt.subplots(figsize=(16,6))\n",
    "\n",
    "width = 0.4\n",
    "\n",
    "ax.bar(x - width/2, gdf_sorted['cold_days'], width, label='Days below 0 degrees celsius', color='blue')\n",
    "ax.bar(x + width/2, gdf_sorted['hot_days'], width, label='Days above 32 degrees celsius', color='red')\n",
    "\n",
    "ax.set_xticks(x)\n",
    "ax.set_xticklabels(states, rotation=90)\n",
    "ax.set_ylabel(\"Number of Days\")\n",
    "ax.set_title(\"Cold vs Hot Days by State\")\n",
    "ax.legend()\n",
    "\n",
    "plt.tight_layout()\n",
    "plt.show()"
   ]
  },
  {
   "cell_type": "code",
   "execution_count": null,
   "id": "328f9580-488f-4d7a-a5c7-15a4edfd4a78",
   "metadata": {
    "tags": []
   },
   "outputs": [],
   "source": [
    "gdf[\"death_rate_diff\"] = gdf[\"cold_rate\"]-gdf['heat_rate'] # difference between cold and heat rate, negative values mean higher heat rate positive mean higher cold rate\n",
    "gdf.head()"
   ]
  },
  {
   "cell_type": "code",
   "execution_count": null,
   "id": "02b94b64-ffb0-440b-bbbd-781b2a7474ae",
   "metadata": {
    "tags": []
   },
   "outputs": [],
   "source": [
    "# Create a Normalize object centered at 0\n",
    "norm = colors.TwoSlopeNorm(vmin=gdf['death_rate_diff'].min(),\n",
    "                           vcenter=0,\n",
    "                           vmax=gdf['death_rate_diff'].max())\n",
    "\n",
    "fig, ax = plt.subplots(figsize=(12, 8))\n",
    "gdf.plot(\n",
    "    column='death_rate_diff',\n",
    "    cmap='bwr_r',   # reversed blue-white-red: positive = blue, negative = red\n",
    "    linewidth=0.8,\n",
    "    edgecolor='black',\n",
    "    legend=True,\n",
    "    legend_kwds={'label': \"Cold - Heat Death Rate (per 100k)\"},\n",
    "    ax=ax,\n",
    "    norm=norm       # center color scale at 0\n",
    ")\n",
    "\n",
    "ax.set_title(\"Difference in Cold vs Heat Death Rates by State\")\n",
    "ax.axis('off')\n",
    "ax.set_xlim(-170, -65)\n",
    "ax.set_ylim(18, 72)\n",
    "plt.show()"
   ]
  },
  {
   "cell_type": "markdown",
   "id": "f562832b-9561-4c2d-b4dd-d18c140ddc05",
   "metadata": {},
   "source": [
    "## 3rd Revision\n",
    "\n",
    "These plots look a lot better. This choropleth gives us an idea of which states have a higher death rate due to cold related deaths versus heat related deaths.\n",
    "\n",
    "To get this value we took the difference between the cold death rate and the heat death rate. Values that are positive show a higher death rate from cold, and values that are negative show a higher death rate from heat.\n",
    "\n",
    "There certainly seems to be more blue colored states which means that per 100,000 people there is a higher rate of deaths due to cold temperatures. The bar graphs are mostly supplemental, but they show heat-related versus cold-related mortality rates for each state and the number of days where the minimum temperature in the state was below 0°C (32°F) or where the maximum temperature was above 32°C (89.6°F).\n",
    "\n",
    "From the first bar graph we can see that a few states have much higher mortality rates due to heat, such as Arizona or Texas, but the cold related mortality rates seem to be more consistent across the states.\n",
    "\n",
    "From the second bar graph we can see that most of the states have a higher amount of days below freezing.\n",
    "\n",
    "**Critique:** We still need to add a border to the map and a cartographer's block. It may be worth while to do an inset for Alaska and possibly Hawaii to allow us to zoom in on the map even more. It may also be interesting to look at poverty values for each of the states and see if there is a relationship between the amount of deaths and poverty rate. "
   ]
  },
  {
   "cell_type": "code",
   "execution_count": null,
   "id": "3a6d0993-a670-47a7-88f2-e414c1b11391",
   "metadata": {
    "tags": []
   },
   "outputs": [],
   "source": [
    "file_path = \"/home/jovyan/Project2/data/poverty_rate.xlsx\"\n",
    "\n",
    "# Row numbers where each table's header starts\n",
    "header_rows = [5, 58, 111, 164, 217, 270, 323, 376, 429, 482,\n",
    "               535, 588, 641, 694, 747, 800, 853, 906, 959,\n",
    "               1012, 1065, 1118, 1171, 1224, 1277, 1330, 1383,\n",
    "               1436, 1489, 1542, 1595, 1648, 1701, 1754, 1807,\n",
    "               1860, 1913, 1966, 2019, 2072, 2125, 2178, 2231,\n",
    "               2284, 2337, 2390, 2443]\n",
    "\n",
    "# Number of rows per table (≈ 53 states + 1 header)\n",
    "nrows = 54\n",
    "\n",
    "# Store tables\n",
    "tables = []\n",
    "\n",
    "for i, start_row in enumerate(header_rows):\n",
    "    # Read each table\n",
    "    df = pd.read_excel(file_path, skiprows=start_row - 1, nrows=nrows)\n",
    "    \n",
    "    # Skip if not a valid table\n",
    "    if df.empty or \"State\" not in df.columns[0]:\n",
    "        continue\n",
    "\n",
    "    # Clean columns\n",
    "    df.columns = [\n",
    "        \"State\", \"Total_population\", \"Number_in_poverty\",\n",
    "        \"MOE_population\", \"Percent_in_poverty\", \"MOE_percent\"\n",
    "    ]\n",
    "\n",
    "    # Get year (usually the row before the header)\n",
    "    year_cell = pd.read_excel(file_path, skiprows=start_row - 3, nrows=1).iloc[0, 0]\n",
    "    year_match = re.search(r'(\\d{4})', str(year_cell))\n",
    "    if year_match:\n",
    "        year = int(year_match.group(1))\n",
    "    else:\n",
    "        continue\n",
    "\n",
    "\n",
    "    df[\"Year\"] = year\n",
    "    tables.append(df)\n",
    "\n",
    "# Combine all tables\n",
    "poverty_all = pd.concat(tables, ignore_index=True)\n",
    "\n",
    "# Filter to 1999–2020\n",
    "poverty_filtered = poverty_all[(poverty_all[\"Year\"] >= 1999) & (poverty_all[\"Year\"] <= 2020)]\n",
    "\n"
   ]
  },
  {
   "cell_type": "code",
   "execution_count": null,
   "id": "896ad566-4928-4e2b-8c43-257b66054366",
   "metadata": {},
   "outputs": [],
   "source": [
    "poverty_filtered = poverty_filtered.copy()\n",
    "poverty_filtered['Year'] = poverty_filtered['Year'].astype(str).str.extract(r'(\\d{4})')[0].astype(int)\n",
    "\n",
    "\n",
    "# filter for 1999–2020, these numbers are in thousands\n",
    "poverty_filtered = poverty_filtered.query('1999 <= Year <= 2020')\n",
    "poverty_filtered = poverty_filtered[~poverty_filtered['State'].str.match(r'^\\d{4}')]\n",
    "poverty_filtered.head()"
   ]
  },
  {
   "cell_type": "code",
   "execution_count": null,
   "id": "17c2a547-29e2-4c0f-8f3d-dd41b1b4f5bc",
   "metadata": {},
   "outputs": [],
   "source": [
    "# poverty_filtered[\"Total_population\"] = pd.to_numeric(\n",
    "#     poverty_filtered[\"Total_population\"], errors=\"coerce\"\n",
    "# )\n",
    "# poverty_filtered[\"Number_in_poverty\"] = pd.to_numeric(\n",
    "#     poverty_filtered[\"Number_in_poverty\"], errors=\"coerce\"\n",
    "# )\n",
    "poverty_filtered[\"Percent_in_poverty\"] = pd.to_numeric(poverty_filtered[\"Percent_in_poverty\"], errors=\"coerce\")\n",
    "poverty_filtered.head(10)\n"
   ]
  },
  {
   "cell_type": "code",
   "execution_count": null,
   "id": "18bdb401-f872-4b51-b3f0-02178ce55b59",
   "metadata": {},
   "outputs": [],
   "source": [
    "state_totals = (\n",
    "    poverty_filtered.groupby(\"State\")[\"Percent_in_poverty\"]\n",
    "    .mean()\n",
    "    .reset_index(name=\"Poverty_percent\")\n",
    ")\n"
   ]
  },
  {
   "cell_type": "code",
   "execution_count": null,
   "id": "9fb5f263-ecf7-414e-82a4-e9f5e0e4c6cf",
   "metadata": {},
   "outputs": [],
   "source": [
    "state_totals.head()"
   ]
  },
  {
   "cell_type": "code",
   "execution_count": null,
   "id": "d295d00d-8bd9-4f5a-9b68-2e577ec52f72",
   "metadata": {},
   "outputs": [],
   "source": [
    "state_totals = state_totals.rename(columns={'State': 'NAME'})\n",
    "state_totals['NAME'] = state_totals['NAME'].str.strip().str.upper()\n",
    "gdf['NAME'] = gdf['NAME'].str.strip().str.upper()\n"
   ]
  },
  {
   "cell_type": "code",
   "execution_count": null,
   "id": "a7db567f-874a-43f8-871d-11175113ee53",
   "metadata": {},
   "outputs": [],
   "source": [
    "# Merge into gdf\n",
    "gdf = gdf.merge(state_totals[['NAME','Poverty_percent']], \n",
    "                on='NAME', \n",
    "                how='left')\n"
   ]
  },
  {
   "cell_type": "code",
   "execution_count": null,
   "id": "2f8b24f9-aba0-4cd5-b7d8-49f242e52281",
   "metadata": {},
   "outputs": [],
   "source": [
    "gdf.head()"
   ]
  },
  {
   "cell_type": "code",
   "execution_count": null,
   "id": "2070df3f-54f3-45e8-a88b-449148723aea",
   "metadata": {
    "tags": []
   },
   "outputs": [],
   "source": [
    "gdf.to_file(\"/home/jovyan/Project2/data/final_file.shp\")"
   ]
  },
  {
   "cell_type": "code",
   "execution_count": null,
   "id": "c81c528c-b94c-4c0b-8a0a-b90efc92d391",
   "metadata": {
    "tags": []
   },
   "outputs": [],
   "source": [
    "fig, axes = plt.subplots(3, 1, figsize=(12, 20))  # 3 rows, 1 column\n",
    "\n",
    "# 1. Poverty Percent\n",
    "norm_pov = colors.Normalize(vmin=gdf['Poverty_percent'].min(),\n",
    "                            vmax=gdf['Poverty_percent'].max())\n",
    "\n",
    "gdf.plot(\n",
    "    column='Poverty_percent',\n",
    "    cmap='OrRd',\n",
    "    linewidth=0.8,\n",
    "    edgecolor='black',\n",
    "    legend=True,\n",
    "    legend_kwds={'label': \"Poverty Percent\"},\n",
    "    ax=axes[0],\n",
    "    norm=norm_pov\n",
    ")\n",
    "axes[0].set_title(\"Avg Poverty Percent by State (1999-2020)\")\n",
    "axes[0].axis('off')\n",
    "axes[0].set_xlim(-170, -65)\n",
    "axes[0].set_ylim(18, 72)\n",
    "\n",
    "# 2. Cold Death Rate\n",
    "norm_cold = colors.Normalize(vmin=gdf['cold_rate'].min(),\n",
    "                             vmax=gdf['cold_rate'].max())\n",
    "\n",
    "gdf.plot(\n",
    "    column='cold_rate',\n",
    "    cmap='Blues',\n",
    "    linewidth=0.8,\n",
    "    edgecolor='black',\n",
    "    legend=True,\n",
    "    legend_kwds={'label': \"Cold Death Rate (per 100k)\"},\n",
    "    ax=axes[1],\n",
    "    norm=norm_cold\n",
    ")\n",
    "axes[1].set_title(\"Total Cold Death Rate by State (1999-2020)\")\n",
    "axes[1].axis('off')\n",
    "axes[1].set_xlim(-170, -65)\n",
    "axes[1].set_ylim(18, 72)\n",
    "\n",
    "# 3. Heat Death Rate\n",
    "norm_heat = colors.Normalize(vmin=gdf['heat_rate'].min(),\n",
    "                             vmax=gdf['heat_rate'].max())\n",
    "\n",
    "gdf.plot(\n",
    "    column='heat_rate',\n",
    "    cmap='Reds',\n",
    "    linewidth=0.8,\n",
    "    edgecolor='black',\n",
    "    legend=True,\n",
    "    legend_kwds={'label': \"Heat Death Rate (per 100k)\"},\n",
    "    ax=axes[2],\n",
    "    norm=norm_heat\n",
    ")\n",
    "axes[2].set_title(\"Total Heat Death Rate by State 1999-2020\")\n",
    "axes[2].axis('off')\n",
    "axes[2].set_xlim(-170, -65)\n",
    "axes[2].set_ylim(18, 72)\n",
    "\n",
    "plt.tight_layout()\n",
    "plt.show()"
   ]
  },
  {
   "cell_type": "markdown",
   "id": "6657886d-4d53-416d-9078-f6c9891d1293",
   "metadata": {},
   "source": [
    "## 4th Revision \n",
    "\n",
    "We have now tied in poverty to a choropleth, but not sure this shows us much. It might look better as a scatter plot showing cold deaths and heat deaths - to see if there is a relationship or not. This data was given in an Excel file with different tables for each year, so we had to concatenate multiple tables from each sheet to put them into one DataFrame and then filtered that for the years that we wanted. We then summed the population and people in poverty counts for each state and merged this table with our GeoDataFrame from earlier to get all our data into on GeoDataFrame.\n",
    "\n",
    "At this point we have done most of the calculations we can. For the final revision, we think it would be best to have the (1) choropleth with differences in death rates, (2) a bar charts comparing cold days versus hot days, (3) another bar chart comparing cold and heat related mortality rates, (4) and a scatter plot of the poverty percentage vs total deaths for each state.\n",
    "\n",
    "**Critique:** We realized that we have not tansformed the crs. We will convert this to EPSG:5070 to keep the states in reasonable proportions. We will fine tune each of these plots for the final visuals."
   ]
  },
  {
   "cell_type": "code",
<<<<<<< HEAD
   "execution_count": 186,
=======
   "execution_count": null,
>>>>>>> origin/proof-reading-edits
   "id": "920d7c0e-1cea-4d07-96e0-3009f7c91479",
   "metadata": {},
   "outputs": [],
   "source": [
    "gdf = gpd.read_file(\"/home/jovyan/Project2/data/final_file.shp\")"
   ]
  },
  {
   "cell_type": "code",
<<<<<<< HEAD
   "execution_count": 187,
   "id": "c3603ac4-1319-4b16-914d-381ef747978b",
   "metadata": {},
   "outputs": [
    {
     "data": {
      "text/html": [
       "<div>\n",
       "<style scoped>\n",
       "    .dataframe tbody tr th:only-of-type {\n",
       "        vertical-align: middle;\n",
       "    }\n",
       "\n",
       "    .dataframe tbody tr th {\n",
       "        vertical-align: top;\n",
       "    }\n",
       "\n",
       "    .dataframe thead th {\n",
       "        text-align: right;\n",
       "    }\n",
       "</style>\n",
       "<table border=\"1\" class=\"dataframe\">\n",
       "  <thead>\n",
       "    <tr style=\"text-align: right;\">\n",
       "      <th></th>\n",
       "      <th>STATE</th>\n",
       "      <th>NAME</th>\n",
       "      <th>FIPS</th>\n",
       "      <th>LON</th>\n",
       "      <th>LAT</th>\n",
       "      <th>Heat Death</th>\n",
       "      <th>Cold Death</th>\n",
       "      <th>Population</th>\n",
       "      <th>cold_rate</th>\n",
       "      <th>heat_rate</th>\n",
       "      <th>hot_days</th>\n",
       "      <th>cold_days</th>\n",
       "      <th>death_rate</th>\n",
       "      <th>Poverty_pe</th>\n",
       "      <th>geometry</th>\n",
       "    </tr>\n",
       "  </thead>\n",
       "  <tbody>\n",
       "    <tr>\n",
       "      <th>0</th>\n",
       "      <td>AL</td>\n",
       "      <td>ALABAMA</td>\n",
       "      <td>01</td>\n",
       "      <td>-86.82676</td>\n",
       "      <td>32.79354</td>\n",
       "      <td>238.0</td>\n",
       "      <td>388.0</td>\n",
       "      <td>103604166.0</td>\n",
       "      <td>0.374502</td>\n",
       "      <td>0.229720</td>\n",
       "      <td>1341.0</td>\n",
       "      <td>1046.0</td>\n",
       "      <td>0.144782</td>\n",
       "      <td>15.641667</td>\n",
       "      <td>MULTIPOLYGON (((-88.11011 30.25891, -88.10638 ...</td>\n",
       "    </tr>\n",
       "    <tr>\n",
       "      <th>1</th>\n",
       "      <td>AR</td>\n",
       "      <td>ARKANSAS</td>\n",
       "      <td>05</td>\n",
       "      <td>-92.43920</td>\n",
       "      <td>34.89977</td>\n",
       "      <td>271.0</td>\n",
       "      <td>319.0</td>\n",
       "      <td>63181817.0</td>\n",
       "      <td>0.504892</td>\n",
       "      <td>0.428921</td>\n",
       "      <td>1270.0</td>\n",
       "      <td>1413.0</td>\n",
       "      <td>0.075971</td>\n",
       "      <td>16.275000</td>\n",
       "      <td>POLYGON ((-91.62986 36.49921, -91.62849 36.499...</td>\n",
       "    </tr>\n",
       "    <tr>\n",
       "      <th>2</th>\n",
       "      <td>AZ</td>\n",
       "      <td>ARIZONA</td>\n",
       "      <td>04</td>\n",
       "      <td>-111.66457</td>\n",
       "      <td>34.29323</td>\n",
       "      <td>2462.0</td>\n",
       "      <td>864.0</td>\n",
       "      <td>138079425.0</td>\n",
       "      <td>0.625727</td>\n",
       "      <td>1.783032</td>\n",
       "      <td>2088.0</td>\n",
       "      <td>1362.0</td>\n",
       "      <td>-1.157305</td>\n",
       "      <td>15.454167</td>\n",
       "      <td>POLYGON ((-110.49090 37.00361, -110.48750 37.0...</td>\n",
       "    </tr>\n",
       "    <tr>\n",
       "      <th>3</th>\n",
       "      <td>CA</td>\n",
       "      <td>CALIFORNIA</td>\n",
       "      <td>06</td>\n",
       "      <td>-119.60818</td>\n",
       "      <td>37.24537</td>\n",
       "      <td>1481.0</td>\n",
       "      <td>1743.0</td>\n",
       "      <td>815706063.0</td>\n",
       "      <td>0.213680</td>\n",
       "      <td>0.181560</td>\n",
       "      <td>1160.0</td>\n",
       "      <td>696.0</td>\n",
       "      <td>0.032119</td>\n",
       "      <td>13.625000</td>\n",
       "      <td>MULTIPOLYGON (((-118.42620 32.79973, -118.4263...</td>\n",
       "    </tr>\n",
       "    <tr>\n",
       "      <th>4</th>\n",
       "      <td>CO</td>\n",
       "      <td>COLORADO</td>\n",
       "      <td>08</td>\n",
       "      <td>-105.54783</td>\n",
       "      <td>38.99855</td>\n",
       "      <td>106.0</td>\n",
       "      <td>1023.0</td>\n",
       "      <td>110389320.0</td>\n",
       "      <td>0.926720</td>\n",
       "      <td>0.096024</td>\n",
       "      <td>82.0</td>\n",
       "      <td>4100.0</td>\n",
       "      <td>0.830696</td>\n",
       "      <td>10.191667</td>\n",
       "      <td>POLYGON ((-106.87560 41.00301, -106.85850 41.0...</td>\n",
       "    </tr>\n",
       "  </tbody>\n",
       "</table>\n",
       "</div>"
      ],
      "text/plain": [
       "  STATE        NAME FIPS        LON       LAT  Heat Death  Cold Death  \\\n",
       "0    AL     ALABAMA   01  -86.82676  32.79354       238.0       388.0   \n",
       "1    AR    ARKANSAS   05  -92.43920  34.89977       271.0       319.0   \n",
       "2    AZ     ARIZONA   04 -111.66457  34.29323      2462.0       864.0   \n",
       "3    CA  CALIFORNIA   06 -119.60818  37.24537      1481.0      1743.0   \n",
       "4    CO    COLORADO   08 -105.54783  38.99855       106.0      1023.0   \n",
       "\n",
       "    Population  cold_rate  heat_rate  hot_days  cold_days  death_rate  \\\n",
       "0  103604166.0   0.374502   0.229720    1341.0     1046.0    0.144782   \n",
       "1   63181817.0   0.504892   0.428921    1270.0     1413.0    0.075971   \n",
       "2  138079425.0   0.625727   1.783032    2088.0     1362.0   -1.157305   \n",
       "3  815706063.0   0.213680   0.181560    1160.0      696.0    0.032119   \n",
       "4  110389320.0   0.926720   0.096024      82.0     4100.0    0.830696   \n",
       "\n",
       "   Poverty_pe                                           geometry  \n",
       "0   15.641667  MULTIPOLYGON (((-88.11011 30.25891, -88.10638 ...  \n",
       "1   16.275000  POLYGON ((-91.62986 36.49921, -91.62849 36.499...  \n",
       "2   15.454167  POLYGON ((-110.49090 37.00361, -110.48750 37.0...  \n",
       "3   13.625000  MULTIPOLYGON (((-118.42620 32.79973, -118.4263...  \n",
       "4   10.191667  POLYGON ((-106.87560 41.00301, -106.85850 41.0...  "
      ]
     },
     "execution_count": 187,
     "metadata": {},
     "output_type": "execute_result"
    }
   ],
=======
   "execution_count": null,
   "id": "c3603ac4-1319-4b16-914d-381ef747978b",
   "metadata": {},
   "outputs": [],
>>>>>>> origin/proof-reading-edits
   "source": [
    "gdf.head()"
   ]
  },
  {
   "cell_type": "code",
<<<<<<< HEAD
   "execution_count": 188,
   "id": "4694e2fb-b1b6-457b-977e-391fcf92a0ed",
   "metadata": {},
   "outputs": [
    {
     "name": "stdout",
     "output_type": "stream",
     "text": [
      "Correlation between poverty percent and death rate difference: -0.233\n"
     ]
    }
   ],
=======
   "execution_count": null,
   "id": "4694e2fb-b1b6-457b-977e-391fcf92a0ed",
   "metadata": {},
   "outputs": [],
>>>>>>> origin/proof-reading-edits
   "source": [
    "corr = gdf['death_rate'].corr(gdf['Poverty_pe'])\n",
    "print(f\"Correlation between poverty percent and death rate difference: {corr:.3f}\")"
   ]
  },
  {
   "cell_type": "code",
<<<<<<< HEAD
   "execution_count": 189,
   "id": "b116da05-f580-4714-8bd3-94c239e52c3d",
   "metadata": {},
   "outputs": [
    {
     "name": "stdout",
     "output_type": "stream",
     "text": [
      "Correlation between poverty percent and cold death rate difference: -0.136\n"
     ]
    }
   ],
=======
   "execution_count": null,
   "id": "b116da05-f580-4714-8bd3-94c239e52c3d",
   "metadata": {},
   "outputs": [],
>>>>>>> origin/proof-reading-edits
   "source": [
    "corr = gdf['cold_rate'].corr(gdf['Poverty_pe'])\n",
    "print(f\"Correlation between poverty percent and cold death rate difference: {corr:.3f}\")"
   ]
  },
  {
   "cell_type": "code",
<<<<<<< HEAD
   "execution_count": 190,
   "id": "963401dd-6467-43f3-bb0a-98d7563fbf6d",
   "metadata": {},
   "outputs": [
    {
     "name": "stdout",
     "output_type": "stream",
     "text": [
      "Correlation between poverty percent and heat death rate difference: 0.260\n"
     ]
    }
   ],
=======
   "execution_count": null,
   "id": "963401dd-6467-43f3-bb0a-98d7563fbf6d",
   "metadata": {},
   "outputs": [],
>>>>>>> origin/proof-reading-edits
   "source": [
    "corr = gdf['heat_rate'].corr(gdf['Poverty_pe'])\n",
    "print(f\"Correlation between poverty percent and heat death rate difference: {corr:.3f}\")"
   ]
  },
  {
   "cell_type": "code",
<<<<<<< HEAD
   "execution_count": 191,
=======
   "execution_count": null,
>>>>>>> origin/proof-reading-edits
   "id": "7ea69dd6-44f5-4548-9d19-c2e86a21b03e",
   "metadata": {
    "tags": []
   },
<<<<<<< HEAD
   "outputs": [
    {
     "data": {
      "image/png": "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\n",
      "text/plain": [
       "<Figure size 576x864 with 2 Axes>"
      ]
     },
     "metadata": {},
     "output_type": "display_data"
    }
   ],
=======
   "outputs": [],
>>>>>>> origin/proof-reading-edits
   "source": [
    "# Set style\n",
    "sns.set(style=\"whitegrid\")\n",
    "\n",
    "fig, axes = plt.subplots(2, 1, figsize=(8, 12), sharex=True)\n",
    "\n",
    "# Cold death rate\n",
    "sns.regplot(\n",
    "    x='Poverty_pe', \n",
    "    y='cold_rate', \n",
    "    data=gdf,\n",
    "    ax=axes[0],\n",
    "    scatter_kws={'s':50, 'color':'cyan'},\n",
    "    line_kws={'color':'red'}\n",
    ")\n",
    "axes[0].set_title(\"Poverty Percent vs Cold Death Rate\")\n",
    "axes[0].set_ylabel(\"Cold Death Rate (per 100k)\")\n",
    "# Calculate correlation\n",
    "corr_cold = gdf['cold_rate'].corr(gdf['Poverty_pe'])\n",
    "axes[0].text(\n",
    "    0.05, 0.9, f'r = {corr_cold:.3f}', \n",
    "    transform=axes[0].transAxes, \n",
    "    fontsize=12, \n",
    "    bbox=dict(facecolor='white', alpha=0.5)\n",
    ")\n",
    "\n",
    "# Heat death rate\n",
    "sns.regplot(\n",
    "    x='Poverty_pe', \n",
    "    y='heat_rate', \n",
    "    data=gdf,\n",
    "    ax=axes[1],\n",
    "    scatter_kws={'s':50, 'color':'orange'},\n",
    "    line_kws={'color':'red'}\n",
    ")\n",
    "axes[1].set_title(\"Poverty Percent vs Heat Death Rate\")\n",
    "axes[1].set_xlabel(\"Poverty Percent (%)\")\n",
    "axes[1].set_ylabel(\"Heat Death Rate (per 100k)\")\n",
    "# Calculate correlation\n",
    "corr_heat = gdf['heat_rate'].corr(gdf['Poverty_pe'])\n",
    "axes[1].text(\n",
    "    0.05, 0.9, f'r = {corr_heat:.3f}', \n",
    "    transform=axes[1].transAxes, \n",
    "    fontsize=12, \n",
    "    bbox=dict(facecolor='white', alpha=0.5)\n",
    ")\n",
    "\n",
    "plt.tight_layout()\n",
    "plt.show()\n",
    "\n",
    "\n"
   ]
  },
  {
   "cell_type": "markdown",
   "id": "c4488cb3-92ff-4294-9ff6-eb4c58f5c959",
   "metadata": {},
   "source": [
    "**Interesting Insight:** There seems to be a positive correlation between poverty percent and heat death rates but a negative correlation between cold death rates and poverty percent. Maybe people who live in poverty don't have as much access to air conditioning, but are able to access heat?"
   ]
  },
  {
   "cell_type": "code",
<<<<<<< HEAD
   "execution_count": 195,
   "id": "5eab3011-ce18-44d5-affe-1d02a20f01fb",
   "metadata": {},
   "outputs": [
    {
     "name": "stdout",
     "output_type": "stream",
     "text": [
      "('WARNING: ', 10, ' is an island (no neighbors)')\n",
      "('WARNING: ', 49, ' is an island (no neighbors)')\n",
      "('WARNING: ', 50, ' is an island (no neighbors)')\n",
      "Moran's I for death_rate_diff: 0.218, p-value: 0.0100\n",
      "Moran's I for cold_rate: 0.193, p-value: 0.0200\n",
      "Moran's I for heat_rate: 0.172, p-value: 0.0340\n"
     ]
    }
   ],
=======
   "execution_count": null,
   "id": "5eab3011-ce18-44d5-affe-1d02a20f01fb",
   "metadata": {},
   "outputs": [],
>>>>>>> origin/proof-reading-edits
   "source": [
    "# Create spatial weights based on contiguity (neighboring states)\n",
    "w = libpysal.weights.Queen.from_dataframe(gdf)\n",
    "w.transform = 'r'  # row-standardize\n",
    "\n",
    "# Compute Moran’s I for death rate difference\n",
    "moran_death = Moran(gdf['death_rate'], w)\n",
<<<<<<< HEAD
    "print(f\"Moran's I for death_rate_diff: {moran_death.I:.3f}, p-value: {moran_death.p_sim:.4f}\")\n",
    "# Compute Moran's I for cold rate\n",
    "moran_death = Moran(gdf['cold_rate'], w)\n",
    "print(f\"Moran's I for cold_rate: {moran_death.I:.3f}, p-value: {moran_death.p_sim:.4f}\")\n",
=======
    "print(f\"Moran's I for death_rate_diff: {moran_death.I:.3f}, p-value: {moran_death.p_sim:.4f}\")"
   ]
  },
  {
   "cell_type": "code",
   "execution_count": null,
   "id": "5a6390a1-e3dd-40fc-a111-f520e074d5c9",
   "metadata": {},
   "outputs": [],
   "source": [
    "# Create spatial weights based on contiguity (neighboring states)\n",
    "w = libpysal.weights.Queen.from_dataframe(gdf)\n",
    "w.transform = 'r'  # row-standardize\n",
    "\n",
    "# Compute Moran’s I for cold rate difference\n",
    "moran_death = Moran(gdf['cold_rate'], w)\n",
    "print(f\"Moran's I for cold_rate: {moran_death.I:.3f}, p-value: {moran_death.p_sim:.4f}\")"
   ]
  },
  {
   "cell_type": "code",
   "execution_count": null,
   "id": "8a56b395-44e6-496c-ab8e-3798eb8c66e1",
   "metadata": {},
   "outputs": [],
   "source": [
    "# Create spatial weights based on contiguity (neighboring states)\n",
    "w = libpysal.weights.Queen.from_dataframe(gdf)\n",
    "w.transform = 'r'  # row-standardize\n",
    "\n",
>>>>>>> origin/proof-reading-edits
    "# Compute Moran’s I for heat rate\n",
    "moran_death = Moran(gdf['heat_rate'], w)\n",
    "print(f\"Moran's I for heat_rate: {moran_death.I:.3f}, p-value: {moran_death.p_sim:.4f}\")"
   ]
  },
  {
   "cell_type": "markdown",
   "id": "2b4d192c-b71d-40c6-89bb-ea782cdbe4d4",
   "metadata": {},
   "source": [
    "**Moran's I Analysis:** We ran Moran's I analysis on the death rate difference (cold-hot), cold death rate, and heat death rate to check and see if neighbors nearby have similar values. Moran's I was positive for all three which tells us that each value for the states are clustered near eachother. Also, the p-value was less than 0.05 which means the clustering is not random."
   ]
  },
  {
   "cell_type": "code",
<<<<<<< HEAD
   "execution_count": 196,
=======
   "execution_count": null,
>>>>>>> origin/proof-reading-edits
   "id": "3181507f-8288-4b65-803a-fe194c5bbc10",
   "metadata": {
    "tags": []
   },
<<<<<<< HEAD
   "outputs": [
    {
     "data": {
      "text/html": [
       "<div>\n",
       "<style scoped>\n",
       "    .dataframe tbody tr th:only-of-type {\n",
       "        vertical-align: middle;\n",
       "    }\n",
       "\n",
       "    .dataframe tbody tr th {\n",
       "        vertical-align: top;\n",
       "    }\n",
       "\n",
       "    .dataframe thead th {\n",
       "        text-align: right;\n",
       "    }\n",
       "</style>\n",
       "<table border=\"1\" class=\"dataframe\">\n",
       "  <thead>\n",
       "    <tr style=\"text-align: right;\">\n",
       "      <th></th>\n",
       "      <th>STATE</th>\n",
       "      <th>NAME</th>\n",
       "      <th>FIPS</th>\n",
       "      <th>LON</th>\n",
       "      <th>LAT</th>\n",
       "      <th>Heat Death</th>\n",
       "      <th>Cold Death</th>\n",
       "      <th>Population</th>\n",
       "      <th>cold_rate</th>\n",
       "      <th>heat_rate</th>\n",
       "      <th>hot_days</th>\n",
       "      <th>cold_days</th>\n",
       "      <th>death_rate</th>\n",
       "      <th>Poverty_pe</th>\n",
       "      <th>geometry</th>\n",
       "    </tr>\n",
       "  </thead>\n",
       "  <tbody>\n",
       "    <tr>\n",
       "      <th>0</th>\n",
       "      <td>AL</td>\n",
       "      <td>ALABAMA</td>\n",
       "      <td>01</td>\n",
       "      <td>-86.82676</td>\n",
       "      <td>32.79354</td>\n",
       "      <td>238.0</td>\n",
       "      <td>388.0</td>\n",
       "      <td>103604166.0</td>\n",
       "      <td>0.374502</td>\n",
       "      <td>0.229720</td>\n",
       "      <td>1341.0</td>\n",
       "      <td>1046.0</td>\n",
       "      <td>0.144782</td>\n",
       "      <td>15.641667</td>\n",
       "      <td>MULTIPOLYGON (((757193.013 829564.839, 757562....</td>\n",
       "    </tr>\n",
       "    <tr>\n",
       "      <th>1</th>\n",
       "      <td>AR</td>\n",
       "      <td>ARKANSAS</td>\n",
       "      <td>05</td>\n",
       "      <td>-92.43920</td>\n",
       "      <td>34.89977</td>\n",
       "      <td>271.0</td>\n",
       "      <td>319.0</td>\n",
       "      <td>63181817.0</td>\n",
       "      <td>0.504892</td>\n",
       "      <td>0.428921</td>\n",
       "      <td>1270.0</td>\n",
       "      <td>1413.0</td>\n",
       "      <td>0.075971</td>\n",
       "      <td>16.275000</td>\n",
       "      <td>POLYGON ((387717.031 1503566.564, 387838.480 1...</td>\n",
       "    </tr>\n",
       "    <tr>\n",
       "      <th>2</th>\n",
       "      <td>AZ</td>\n",
       "      <td>ARIZONA</td>\n",
       "      <td>04</td>\n",
       "      <td>-111.66457</td>\n",
       "      <td>34.29323</td>\n",
       "      <td>2462.0</td>\n",
       "      <td>864.0</td>\n",
       "      <td>138079425.0</td>\n",
       "      <td>0.625727</td>\n",
       "      <td>1.783032</td>\n",
       "      <td>2088.0</td>\n",
       "      <td>1362.0</td>\n",
       "      <td>-1.157305</td>\n",
       "      <td>15.454167</td>\n",
       "      <td>POLYGON ((-1272519.464 1648367.829, -1272239.9...</td>\n",
       "    </tr>\n",
       "    <tr>\n",
       "      <th>3</th>\n",
       "      <td>CA</td>\n",
       "      <td>CALIFORNIA</td>\n",
       "      <td>06</td>\n",
       "      <td>-119.60818</td>\n",
       "      <td>37.24537</td>\n",
       "      <td>1481.0</td>\n",
       "      <td>1743.0</td>\n",
       "      <td>815706063.0</td>\n",
       "      <td>0.213680</td>\n",
       "      <td>0.181560</td>\n",
       "      <td>1160.0</td>\n",
       "      <td>696.0</td>\n",
       "      <td>0.032119</td>\n",
       "      <td>13.625000</td>\n",
       "      <td>MULTIPOLYGON (((-2068648.575 1326168.145, -206...</td>\n",
       "    </tr>\n",
       "    <tr>\n",
       "      <th>4</th>\n",
       "      <td>CO</td>\n",
       "      <td>COLORADO</td>\n",
       "      <td>08</td>\n",
       "      <td>-105.54783</td>\n",
       "      <td>38.99855</td>\n",
       "      <td>106.0</td>\n",
       "      <td>1023.0</td>\n",
       "      <td>110389320.0</td>\n",
       "      <td>0.926720</td>\n",
       "      <td>0.096024</td>\n",
       "      <td>82.0</td>\n",
       "      <td>4100.0</td>\n",
       "      <td>0.830696</td>\n",
       "      <td>10.191667</td>\n",
       "      <td>POLYGON ((-905484.580 2051196.799, -904073.656...</td>\n",
       "    </tr>\n",
       "  </tbody>\n",
       "</table>\n",
       "</div>"
      ],
      "text/plain": [
       "  STATE        NAME FIPS        LON       LAT  Heat Death  Cold Death  \\\n",
       "0    AL     ALABAMA   01  -86.82676  32.79354       238.0       388.0   \n",
       "1    AR    ARKANSAS   05  -92.43920  34.89977       271.0       319.0   \n",
       "2    AZ     ARIZONA   04 -111.66457  34.29323      2462.0       864.0   \n",
       "3    CA  CALIFORNIA   06 -119.60818  37.24537      1481.0      1743.0   \n",
       "4    CO    COLORADO   08 -105.54783  38.99855       106.0      1023.0   \n",
       "\n",
       "    Population  cold_rate  heat_rate  hot_days  cold_days  death_rate  \\\n",
       "0  103604166.0   0.374502   0.229720    1341.0     1046.0    0.144782   \n",
       "1   63181817.0   0.504892   0.428921    1270.0     1413.0    0.075971   \n",
       "2  138079425.0   0.625727   1.783032    2088.0     1362.0   -1.157305   \n",
       "3  815706063.0   0.213680   0.181560    1160.0      696.0    0.032119   \n",
       "4  110389320.0   0.926720   0.096024      82.0     4100.0    0.830696   \n",
       "\n",
       "   Poverty_pe                                           geometry  \n",
       "0   15.641667  MULTIPOLYGON (((757193.013 829564.839, 757562....  \n",
       "1   16.275000  POLYGON ((387717.031 1503566.564, 387838.480 1...  \n",
       "2   15.454167  POLYGON ((-1272519.464 1648367.829, -1272239.9...  \n",
       "3   13.625000  MULTIPOLYGON (((-2068648.575 1326168.145, -206...  \n",
       "4   10.191667  POLYGON ((-905484.580 2051196.799, -904073.656...  "
      ]
     },
     "execution_count": 196,
     "metadata": {},
     "output_type": "execute_result"
    }
   ],
=======
   "outputs": [],
>>>>>>> origin/proof-reading-edits
   "source": [
    "gdf = gdf.to_crs(\"EPSG:5070\")\n",
    "gdf.head()"
   ]
  },
  {
   "cell_type": "code",
<<<<<<< HEAD
   "execution_count": 197,
   "id": "70fb1ca3-b97c-46f1-85f3-8646f80de780",
   "metadata": {
    "tags": []
   },
   "outputs": [
    {
     "data": {
      "text/plain": [
       "<Projected CRS: EPSG:5070>\n",
       "Name: NAD83 / Conus Albers\n",
       "Axis Info [cartesian]:\n",
       "- X[east]: Easting (metre)\n",
       "- Y[north]: Northing (metre)\n",
       "Area of Use:\n",
       "- name: United States (USA) - CONUS onshore - Alabama; Arizona; Arkansas; California; Colorado; Connecticut; Delaware; Florida; Georgia; Idaho; Illinois; Indiana; Iowa; Kansas; Kentucky; Louisiana; Maine; Maryland; Massachusetts; Michigan; Minnesota; Mississippi; Missouri; Montana; Nebraska; Nevada; New Hampshire; New Jersey; New Mexico; New York; North Carolina; North Dakota; Ohio; Oklahoma; Oregon; Pennsylvania; Rhode Island; South Carolina; South Dakota; Tennessee; Texas; Utah; Vermont; Virginia; Washington; West Virginia; Wisconsin; Wyoming.\n",
       "- bounds: (-124.79, 24.41, -66.91, 49.38)\n",
       "Coordinate Operation:\n",
       "- name: Conus Albers\n",
       "- method: Albers Equal Area\n",
       "Datum: North American Datum 1983\n",
       "- Ellipsoid: GRS 1980\n",
       "- Prime Meridian: Greenwich"
      ]
     },
     "execution_count": 197,
     "metadata": {},
     "output_type": "execute_result"
    }
   ],
=======
   "execution_count": null,
   "id": "70fb1ca3-b97c-46f1-85f3-8646f80de780",
   "metadata": {
    "jupyter": {
     "outputs_hidden": true
    },
    "tags": []
   },
   "outputs": [],
>>>>>>> origin/proof-reading-edits
   "source": [
    "gdf.crs"
   ]
  },
  {
   "cell_type": "markdown",
   "id": "0ac947a7-36c8-4c93-9da6-c7e667c6f9a7",
   "metadata": {},
   "source": [
    "# Final Visuals (before prototype/development)"
   ]
  },
  {
   "cell_type": "markdown",
   "id": "50185fcf-2454-45ca-b8c4-264258363203",
   "metadata": {},
   "source": [
    "## Hypothesis Restated:\n",
    "\n",
    "### Across the United States, mortality rates associated with cold weather are higher than mortality rates associated with hot weather."
   ]
  },
  {
   "cell_type": "code",
<<<<<<< HEAD
   "execution_count": 198,
=======
   "execution_count": null,
>>>>>>> origin/proof-reading-edits
   "id": "32d30822-58e6-41da-9386-b5b83b2a70b1",
   "metadata": {
    "tags": []
   },
<<<<<<< HEAD
   "outputs": [
    {
     "data": {
      "image/png": "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\n",
      "text/plain": [
       "<Figure size 1152x3024 with 8 Axes>"
      ]
     },
     "metadata": {},
     "output_type": "display_data"
    }
   ],
=======
   "outputs": [],
>>>>>>> origin/proof-reading-edits
   "source": [
    "# Separate contiguous US, Alaska, Hawaii for insets\n",
    "contig = gdf[~gdf['FIPS'].isin(['02', '15'])]  # exclude Alaska (02) and Hawaii (15)\n",
    "alaska = gdf[gdf['FIPS'] == '02']\n",
    "hawaii = gdf[gdf['FIPS'] == '15']\n",
    "\n",
    "# Create figure\n",
    "fig = plt.figure(figsize=(16, 42))  # taller figure\n",
    "\n",
    "# -----------------------------\n",
    "# 1️⃣ Death Rate Choropleth\n",
    "# -----------------------------\n",
    "ax_main = fig.add_axes([0.05, 0.75, 0.9, 0.22])\n",
    "norm = colors.TwoSlopeNorm(vmin=gdf['death_rate'].min(),\n",
    "                           vcenter=0,\n",
    "                           vmax=gdf['death_rate'].max())\n",
    "plot = contig.plot(\n",
    "    column='death_rate', \n",
    "    cmap='bwr_r', \n",
    "    linewidth=0.8, \n",
    "    edgecolor='black', \n",
    "    legend=True,\n",
    "    legend_kwds={'label': \"Cold Mortality Rate - Heat Mortality Rate (per 100k)\"},\n",
    "    ax=ax_main,\n",
    "    norm=norm\n",
    ")\n",
    "ax_main.axis('off')\n",
    "\n",
    "# Move the colorbar manually\n",
    "cbar = plot.get_figure().axes[-1]  # the colorbar is usually the last axes\n",
    "cbar.set_position([0.81, 0.715, 0.03, 0.24])  # [left, bottom, width, height] in figure coords\n",
    "\n",
    "# Move the title above the rectangle\n",
    "fig.text(\n",
    "    0.1, 0.965, \n",
    "    \"Difference between Cold and Heat Related Mortality Rate by State (1999-2020)\", \n",
    "    fontsize=16, \n",
    "    fontweight='bold',\n",
    "    ha='left'\n",
    ")\n",
    "\n",
    "ax_main.axis('off')\n",
    "\n",
    "# Alaska inset\n",
    "ax_ak = fig.add_axes([0.05, 0.69, 0.2, 0.12])\n",
    "alaska.plot(column='death_rate', cmap='bwr_r', linewidth=0.8, edgecolor='black', ax=ax_ak, norm=norm)\n",
    "ax_ak.axis('off')\n",
    "# Label at the bottom\n",
    "ax_ak.text(\n",
    "    0.5, -0.05, \"Alaska\", \n",
    "    ha='center', va='top', fontsize=10, transform=ax_ak.transAxes\n",
    ")\n",
    "\n",
    "# Hawaii inset (moved slightly up)\n",
    "ax_hi = fig.add_axes([0.28, 0.725, 0.06, 0.04])\n",
    "hawaii.plot(column='death_rate', cmap='bwr_r', linewidth=0.8, edgecolor='black', ax=ax_hi, norm=norm)\n",
    "ax_hi.axis('off')\n",
    "# Label at the bottom\n",
    "ax_hi.text(\n",
    "    0.5, -0.1, \"Hawaii\", \n",
    "    ha='center', va='top', fontsize=10, transform=ax_hi.transAxes\n",
    ")\n",
    "\n",
    "# Rectangle around both insets, aligned with main map rectangle\n",
    "rect_insets = patches.Rectangle(\n",
    "    (0.04, 0.715),  # lower-left corner slightly above bottom of main rectangle\n",
    "    0.34,           # width to cover both Alaska + Hawaii\n",
    "    0.065,           # height to fit insets nicely\n",
    "    linewidth=2,\n",
    "    edgecolor='black',\n",
    "    facecolor='none',\n",
    "    transform=fig.transFigure\n",
    ")\n",
    "fig.patches.append(rect_insets)\n",
    "\n",
    "# Main rectangle around map + insets (unchanged)\n",
    "rect = patches.FancyBboxPatch(\n",
    "    (0.04, 0.715),   # lower-left corner\n",
    "    0.74,            # width\n",
    "    0.24,            # height\n",
    "    boxstyle=\"square,pad=0\",\n",
    "    fill=False,\n",
    "    linewidth=2,\n",
    "    edgecolor='black',\n",
    "    transform=fig.transFigure\n",
    ")\n",
    "fig.patches.append(rect)\n",
    "\n",
    "# North arrow\n",
    "ax_main.annotate(\n",
    "    'N', \n",
    "    xy=(0.97, 0.98),     # tip of the arrow\n",
    "    xytext=(0.97, 0.88), # tail of the arrow\n",
    "    arrowprops=dict(facecolor='black', width=3, headwidth=12),\n",
    "    ha='center', \n",
    "    va='center', \n",
    "    fontsize=12,\n",
    "    xycoords='axes fraction'\n",
    ")\n",
    "# Add text inside the rectangle\n",
    "info_text = (\n",
    "    \"CRS:EPSG:5070\\n\"\n",
    "    \"Sources: NOAA, CDC Wonder\\n\"\n",
    "    \"Cartographers: Tim Van Driel and Ted Toporkov\\n\"\n",
    "    \"Date: 10/13/2025\"\n",
    ")\n",
    "\n",
    "rect_info = patches.Rectangle(\n",
    "    (0.54, 0.715),  # slightly above bottom of figure\n",
    "    0.24,\n",
    "    0.02,\n",
    "    linewidth=1.5,\n",
    "    edgecolor='black',\n",
    "    facecolor='white',\n",
    "    transform=fig.transFigure\n",
    ")\n",
    "fig.patches.append(rect_info)\n",
    "\n",
    "fig.text(\n",
    "    0.55, 0.717,  # slightly inside rectangle\n",
    "    info_text,\n",
    "    fontsize=10,\n",
    "    va='bottom',\n",
    "    ha='left'\n",
    ")\n",
    "\n",
    "# -----------------------------\n",
    "# 2️⃣ Cold vs Hot Deaths by State\n",
    "# -----------------------------\n",
    "ax2 = fig.add_axes([0.05, 0.50, 0.9, 0.14])\n",
    "gdf_sorted = gdf.sort_values('cold_rate', ascending=False)\n",
    "states = gdf_sorted['STATE'] \n",
    "x = np.arange(len(states))\n",
    "width = 0.4\n",
    "ax2.bar(x - width/2, gdf_sorted['cold_rate'], width, label='Cold Mortality Rate', color='blue')\n",
    "ax2.bar(x + width/2, gdf_sorted['heat_rate'], width, label='Heat Mortality Rate', color='red')\n",
    "ax2.set_xticks(x)\n",
    "ax2.set_xticklabels(states, rotation=90)\n",
    "ax2.set_ylabel(\"Mortality Rate\")\n",
    "ax2.set_title(\"Cold vs Heat Mortality Rates by State (1999-2020)\")\n",
    "ax2.legend()\n",
    "\n",
    "# -----------------------------\n",
    "# 3️⃣ Cold vs Hot Days by State\n",
    "# -----------------------------\n",
    "ax3 = fig.add_axes([0.05, 0.32, 0.9, 0.14])\n",
    "ax3.bar(x - width/2, gdf_sorted['cold_days'], width, label='Days below 0°C', color='blue')\n",
    "ax3.bar(x + width/2, gdf_sorted['hot_days'], width, label='Days above 32°C', color='red')\n",
    "ax3.set_xticks(x)\n",
    "ax3.set_xticklabels(states, rotation=90)\n",
    "ax3.set_ylabel(\"Number of Days\")\n",
    "ax3.set_title(\"Cold vs Hot Days by State (1999-2020(\")\n",
    "ax3.legend()\n",
    "\n",
    "# -----------------------------\n",
    "# 4️⃣ Poverty Percent vs Cold Death Rate\n",
    "# -----------------------------\n",
    "ax4 = fig.add_axes([0.05, 0.16, 0.9, 0.12])\n",
    "sns.regplot(\n",
    "    x='Poverty_pe',\n",
    "    y='cold_rate',\n",
    "    data=gdf,\n",
    "    ax=ax4,\n",
    "    scatter_kws={'s':50, 'color':'blue'},\n",
    "    line_kws={'color':'red'}\n",
    ")\n",
    "ax4.set_title(\"Poverty Percent vs Cold Death Rate (1999-2020)\")\n",
    "ax4.set_ylabel(\"Cold Death Rate (per 100k)\")\n",
    "ax4.set_xlabel(\"Poverty Percent (%)\")\n",
    "corr_cold = gdf['cold_rate'].corr(gdf['Poverty_pe'])\n",
    "ax4.text(0.05, 0.9, f'r = {corr_cold:.3f}', transform=ax4.transAxes,\n",
    "         fontsize=12, bbox=dict(facecolor='white', alpha=0.5))\n",
    "\n",
    "# -----------------------------\n",
    "# 5️⃣ Poverty Percent vs Heat Death Rate\n",
    "# -----------------------------\n",
    "ax5 = fig.add_axes([0.05, 0.02, 0.9, 0.12])\n",
    "sns.regplot(\n",
    "    x='Poverty_pe',\n",
    "    y='heat_rate',\n",
    "    data=gdf,\n",
    "    ax=ax5,\n",
    "    scatter_kws={'s':50, 'color':'red'},\n",
    "    line_kws={'color':'red'}\n",
    ")\n",
    "ax5.set_title(\"Poverty Percent vs Heat Death Rate (1999-2020)\")\n",
    "ax5.set_xlabel(\"Poverty Percent (%)\")\n",
    "ax5.set_ylabel(\"Heat Death Rate (per 100k)\")\n",
    "corr_heat = gdf['heat_rate'].corr(gdf['Poverty_pe'])\n",
    "ax5.text(0.05, 0.9, f'r = {corr_heat:.3f}', transform=ax5.transAxes,\n",
    "         fontsize=12, bbox=dict(facecolor='white', alpha=0.5))\n",
    "\n",
    "plt.show()"
   ]
  },
  {
   "cell_type": "code",
   "execution_count": null,
   "id": "fde267d5-e504-4a69-9ade-e5cbe66d305e",
   "metadata": {
    "tags": []
   },
   "outputs": [],
   "source": [
    "print(f\"The total mortality rate for cold related deaths from 1999-2020 is {gdf['cold_rate'].sum():.2f}\")\n",
    "print(f\"The total mortality rate for heat related deaths from 1999-2020 is {gdf['heat_rate'].sum():.2f}\")"
   ]
  },
  {
   "cell_type": "markdown",
   "id": "5f27ec0b-23ed-461d-a199-0988291d3e3c",
   "metadata": {},
   "source": [
    "### Comments from Jesse & the class\n",
    "\n",
    "After reviewing our visuals with the class, there were a few things noted that we could address.\n",
    "\n",
    "- We should reorder the plots of the final visuals, so that we work up to our final plot, telling a story.\n",
    "- It was suggested to show mean mortality per year rather than the cumulative deaths for our 21-year study period.\n",
    "- It would also be interesting to plot the choropleth in Leaflet to allow hover funcitonality. Viewers could then see the mortality rates due to heat and cold as tooltips.\n",
    "- It was also suggested that we look at mortality rates by age group which shouldn't be too difficult.\n",
    "- Lastly, we may want to play around with the legend and colors used in the final plot to enhance the contrast."
   ]
  },
  {
   "cell_type": "code",
   "execution_count": null,
   "id": "c1d1cad8-10ba-4030-ab50-76f99cef1a35",
   "metadata": {},
   "outputs": [],
   "source": [
    "gdf = gpd.read_file(\"/home/jovyan/Project2/data/final_file.shp\")\n",
    "gdf.head()"
   ]
  },
  {
   "cell_type": "code",
   "execution_count": null,
   "id": "2026506f-6167-47ca-a865-7375123b0ef0",
   "metadata": {},
   "outputs": [],
   "source": [
    "gdf['cold_rate']=gdf['cold_rate'] / 21\n",
    "gdf['heat_rate']=gdf['heat_rate'] / 21\n",
    "gdf['death_rate']= gdf['cold_rate']-gdf['heat_rate']\n",
    "gdf['cold_days']=gdf['cold_days'] / 21\n",
    "gdf['hot_days']=gdf['hot_days'] / 21\n",
    "gdf.head()\n"
   ]
  },
  {
   "cell_type": "markdown",
   "id": "1418d4d9-ac8d-42d5-9a4b-0ff2765ac2f1",
   "metadata": {},
   "source": [
    "Converted rates to average over the 21 years for better units"
   ]
  },
  {
   "cell_type": "code",
   "execution_count": null,
   "id": "c3aa4b68-7b96-44e3-8190-af7cc43026c2",
   "metadata": {},
   "outputs": [],
   "source": [
    "# Create spatial weights based on contiguity (neighboring states)\n",
    "w = libpysal.weights.Queen.from_dataframe(gdf)\n",
    "w.transform = 'r'  # row-standardize\n",
    "\n",
    "# Compute Moran’s I for death rate difference\n",
    "moran_death = Moran(gdf['death_rate'], w)\n",
    "print(f\"Moran's I for death_rate_diff: {moran_death.I:.3f}, p-value: {moran_death.p_sim:.4f}\")\n",
    "\n",
    "moran_death = Moran(gdf['cold_rate'], w)\n",
    "print(f\"Moran's I for cold_rate: {moran_death.I:.3f}, p-value: {moran_death.p_sim:.4f}\")\n",
    "\n",
    "moran_death = Moran(gdf['heat_rate'], w)\n",
    "print(f\"Moran's I for heat_rate: {moran_death.I:.3f}, p-value: {moran_death.p_sim:.4f}\")"
   ]
  },
  {
   "cell_type": "code",
   "execution_count": null,
   "id": "62515407-b4d0-4aea-83c8-c65b7e9997dd",
   "metadata": {},
   "outputs": [],
   "source": [
    "heat_age_df =pd.read_csv(\"/home/jovyan/project2/data/mcod_heat_age.csv\")\n",
    "cold_age_df =pd.read_csv(\"/home/jovyan/project2/data/mcod_cold_age.csv\")"
   ]
  },
  {
   "cell_type": "code",
   "execution_count": null,
   "id": "14f057e7-7142-42ec-9813-2463d0e725b5",
   "metadata": {},
   "outputs": [],
   "source": [
    "heat_age_gdf.head(n=10)"
   ]
  },
  {
   "cell_type": "code",
   "execution_count": null,
   "id": "6778fb90-3187-4205-b7e9-0bd409092d49",
   "metadata": {},
   "outputs": [],
   "source": [
    "cold_age_gdf.head()"
   ]
  },
  {
   "cell_type": "code",
   "execution_count": null,
   "id": "086d292f-bc51-4f35-a70a-02c45f4b267a",
   "metadata": {},
   "outputs": [],
   "source": [
    "heat_age_df['Deaths']=pd.to_numeric(heat_age_df['Deaths'], errors=\"coerce\")\n",
    "cold_age_df['Deaths']=pd.to_numeric(cold_age_df['Deaths'], errors=\"coerce\")"
   ]
  },
  {
   "cell_type": "code",
   "execution_count": null,
   "id": "2c7136f4-7891-4acc-b9d7-85726f21ec00",
   "metadata": {},
   "outputs": [],
   "source": [
    "cold_max_df = (\n",
    "    cold_age_df.groupby('State')\n",
    "    .apply(lambda df: df.loc[df['Deaths'].idxmax()])\n",
    "    .reset_index(drop=True)\n",
    ")\n",
    "cold_max_df.head()"
   ]
  },
  {
   "cell_type": "code",
   "execution_count": null,
   "id": "1eb96b41-fb05-4ec4-ae56-57f32a2f4b8f",
   "metadata": {},
   "outputs": [],
   "source": [
    "heat_max_df = (\n",
    "    heat_age_df.groupby('State')\n",
    "    .apply(lambda df: df.loc[df['Deaths'].idxmax()])\n",
    "    .reset_index(drop=True)\n",
    ")\n",
    "heat_max_df.head()"
   ]
  },
  {
   "cell_type": "code",
   "execution_count": null,
   "id": "ddb2531c-9659-48e5-adcd-39b1fcc07d08",
   "metadata": {},
   "outputs": [],
   "source": [
    "states= gpd.read_file(\"/home/jovyan/project2/data/states\")\n",
    "states = states.to_crs(\"EPSG:5070\")\n",
    "states.head()"
   ]
  },
  {
   "cell_type": "code",
   "execution_count": null,
   "id": "ef5845fb-77d2-461c-a068-257d6710d23f",
   "metadata": {},
   "outputs": [],
   "source": [
    "heat_max_df[\"State Code\"] = (heat_max_df[\"State Code\"].astype(str).str.replace(\".0\", \"\", regex=False).str.zfill(2))\n",
    "heat_max_df.rename(columns={\"State Code\":\"FIPS\"}, inplace=True)\n",
    "gdf_heat_age = states.merge(heat_max_df, on=\"FIPS\", how=\"left\")\n",
    "cold_max_df[\"State Code\"] = (cold_max_df[\"State Code\"].astype(str).str.replace(\".0\", \"\", regex=False).str.zfill(2))\n",
    "cold_max_df.rename(columns={\"State Code\":\"FIPS\"}, inplace=True)\n",
    "gdf_cold_age = states.merge(cold_max_df, on=\"FIPS\", how=\"left\")\n",
    "# states[\"FIPS\"] = states[\"FIPS\"].astype(str).str.zfill(2)\n",
    "# gdf = states.merge(merged, on=\"FIPS\", how=\"left\")"
   ]
  },
  {
   "cell_type": "code",
   "execution_count": null,
   "id": "715920fa-dbd0-4fbc-b724-f8f1adf734f7",
   "metadata": {},
   "outputs": [],
   "source": [
    "gdf_heat_age.head()"
   ]
  },
  {
   "cell_type": "code",
   "execution_count": null,
   "id": "18e14cd6-312b-49bc-be9d-452328715d70",
   "metadata": {},
   "outputs": [],
   "source": [
    "gdf_cold_age.head()"
   ]
  },
  {
   "cell_type": "code",
   "execution_count": null,
   "id": "ff500beb-c18f-4b56-9bb8-4d7af7b13c24",
   "metadata": {
    "tags": []
   },
   "outputs": [],
   "source": [
    "# Drop rows without geometries\n",
    "gdf_cold_age = gdf_cold_age.dropna(subset=['geometry'])\n",
    "gdf_heat_age = gdf_heat_age.dropna(subset=['geometry'])\n",
    "\n",
    "# Drop rows without valid age groups\n",
    "gdf_cold_age = gdf_cold_age.dropna(subset=['Ten-Year Age Groups'])\n",
    "gdf_heat_age = gdf_heat_age.dropna(subset=['Ten-Year Age Groups'])\n",
    "\n",
    "# Ensure all are strings\n",
    "gdf_cold_age['Ten-Year Age Groups'] = gdf_cold_age['Ten-Year Age Groups'].astype(str)\n",
    "gdf_heat_age['Ten-Year Age Groups'] = gdf_heat_age['Ten-Year Age Groups'].astype(str)\n",
    "\n",
    "# Sort age groups logically (by numeric start or handle special cases)\n",
    "def sort_key(age):\n",
    "    if '<' in age:\n",
    "        return -1\n",
    "    if '85' in age:\n",
    "        return 100\n",
    "    match = re.search(r'\\d+', age)\n",
    "    return int(match.group()) if match else 999\n",
    "\n",
    "# Define any age groups you want to always include\n",
    "missing_groups = {\"25-34\", \"35-44\"}\n",
    "\n",
    "# Combine all unique groups + the ones you want to include\n",
    "age_groups = sorted(\n",
    "    set(gdf_cold_age['Ten-Year Age Groups'])\n",
    "    .union(gdf_heat_age['Ten-Year Age Groups'])\n",
    "    .union(missing_groups),\n",
    "    key=sort_key\n",
    ")\n",
    "\n",
    "# Assign colors in order\n",
    "colors_list = plt.cm.tab20.colors\n",
    "age_color_map = dict(zip(age_groups, colors_list[:len(age_groups)]))\n",
    "\n",
    "# Apply color, black for zero deaths\n",
    "def get_color(row):\n",
    "    if row['Deaths'] == 0:\n",
    "        return 'black'\n",
    "    return age_color_map.get(row['Ten-Year Age Groups'], 'gray')\n",
    "\n",
    "gdf_cold_age['color'] = gdf_cold_age.apply(get_color, axis=1)\n",
    "gdf_heat_age['color'] = gdf_heat_age.apply(get_color, axis=1)\n",
    "\n",
    "# Plot\n",
    "fig, (ax1, ax2) = plt.subplots(1, 2, figsize=(18, 10))\n",
    "\n",
    "gdf_cold_age.plot(color=gdf_cold_age['color'], edgecolor='black', ax=ax1)\n",
    "ax1.set_title(\"Most Vulnerable Age Group to Cold Deaths (1999-2020)\")\n",
    "ax1.axis('off')\n",
    "\n",
    "gdf_heat_age.plot(color=gdf_heat_age['color'], edgecolor='black', ax=ax2)\n",
    "ax2.set_title(\"Most Vulnerable Age Group to Heat Deaths (1999-2020)\")\n",
    "ax2.axis('off')\n",
    "\n",
    "# Create ordered legend\n",
    "legend_patches = [patches.Patch(color=age_color_map[age], label=age) for age in age_groups]\n",
    "legend_patches.append(patches.Patch(color='black', label='No Data'))\n",
    "\n",
    "fig.legend(handles=legend_patches, loc='lower center', ncol=6)\n",
    "plt.tight_layout()\n",
    "plt.show()"
   ]
  },
  {
   "cell_type": "markdown",
   "id": "bc0abb8c-7703-43aa-acce-8ceed03e11a8",
   "metadata": {},
   "source": [
    "_Cold related deaths (left) heat related deaths (right)._\n",
    "\n",
    "**Analysis:** This map is a choropleth of the age group with the highest deaths for each state. To get this map we found the age group for each state with the most amount of deaths from 1999-2020 and merged them into a GeoDataFrame to add geometry for the values. This gives us an idea of which age group is most at risk for weather related deaths. States colored in black are no data because the values were suppressed for the age groups or 0. It'd be nice to scale down Alaska, and scale up Hawaii and then inset them for each of the maps."
   ]
  },
  {
   "cell_type": "code",
   "execution_count": null,
   "id": "c7559dcc-ceb9-485a-97c6-81459757d984",
   "metadata": {},
   "outputs": [],
   "source": [
    "print(f\"Average mortality rate for cold related deaths across the US from 1999-2020: {gdf['cold_rate'].sum():.2f}\")\n",
    "print(f\"Average mortality rate for heat related deaths across the US from 1999-2020: {gdf['heat_rate'].sum():.2f}\")"
   ]
  },
  {
   "cell_type": "code",
   "execution_count": null,
   "id": "6a0a78f0-47b1-4c0e-806f-cee31ea9b45a",
   "metadata": {},
   "outputs": [],
   "source": [
    "gdf.to_file(\"/home/jovyan/project2/data/final_file2.shp\")"
   ]
  },
  {
   "cell_type": "markdown",
   "id": "55d74ff2-6d3d-47d7-a47c-4a8f1ca4f859",
   "metadata": {},
   "source": [
    "## **Hypothesis**:\n",
    "*Across the United States, mortality rates associated with cold weather are higher than mortality rates associated with hot weather.*\n",
    "\n",
    "## Introduction\n",
    "Extreme temperatures pose significant risks to people across the United States. Both cold and heat can lead to death, but these mortality rates are not equal. Which type of extreme temperature causes more deaths? Do socioeconomic conditions play a role? Are certain age groups more affected than others?\n",
    "\n",
    "This project aims to explore these questions by analyzing state level mortality data from 1999–2020, comparing deaths related to cold and heat across demographic and environmental factors. \n"
   ]
  },
  {
   "cell_type": "markdown",
   "id": "f9f07e01-7aba-48e8-9489-b9f86e6cacee",
   "metadata": {},
   "source": [
    "## Data Explanation\n",
    "\n",
    "We obtained mortality data from **CDC WONDER**, querying the *Multiple Cause of Death (1999–2020)* database. This includes cases where exposure to extreme temperatures was either the **underlying cause** or a **contributing factor** of death.  \n",
    "\n",
    "**Cold-related deaths** were identified using the following ICD-10 codes:  \n",
    "- **X31:** Exposure to excessive natural cold  \n",
    "- **T68:** Hypothermia  \n",
    "\n",
    "**Heat-related deaths** were identified using:  \n",
    "- **X30:** Exposure to excessive natural heat  \n",
    "- **T67:** Effects of heat and light  \n",
    "\n",
    "For each state, we calculated the **average annual mortality rate** from 1999–2020 as:  \n",
    "\n",
    "**Average Mortality Rate** = ((Temperature related deaths / Total population) × 100,000) / 21\n",
    "\n",
    "This represents the **average number of deaths per 100,000 people per year** associated with the above ICD-10 codes.  \n",
    "\n",
    "Weather data were obtained from the [**PRISM Climate Group**](https://asmith-agdata.shinyapps.io/prism_downloader/_w_a6c5076cc76b4c3fb50f4b256b4bafb5/#tab-5484-1), which provides daily minimum, mean, and maximum temperature data for each state.  \n",
    "- **Cold days** were defined as those with a minimum temperature (**tmin**) below 0°C (32°F).  \n",
    "- **Hot days** were defined as those with a maximum temperature (**tmax**) above 32°C (89.4°F).  \n",
    "\n",
    "The number of hot and cold days per state was averaged across the 21-year period.  \n",
    "\n",
    "Finally, **poverty percentages** were derived from datasets published by the **U.S. Census Bureau**, representing the average poverty rate per state across the same time span.  \n"
   ]
  },
  {
   "cell_type": "markdown",
   "id": "e0521af9-d6d9-4e25-8eb7-d5a9f347ed9f",
   "metadata": {},
   "source": [
    "## Analysis"
   ]
  },
  {
   "cell_type": "code",
   "execution_count": null,
   "id": "d6716410-46f1-45d7-95e3-8f3d8bf98977",
   "metadata": {
    "tags": []
   },
   "outputs": [],
   "source": [
    "gdf = gpd.read_file(\"/home/jovyan/project2/data/final_file2.shp\")\n",
    "gdf_sorted = gdf.sort_values('cold_rate', ascending=False)\n",
    "states = gdf_sorted['STATE'] \n",
    "gdf_sorted.head()"
   ]
  },
  {
   "cell_type": "code",
   "execution_count": null,
   "id": "8cc6fa50-9f6e-4a42-ac27-982f8072e6bb",
   "metadata": {
    "tags": []
   },
   "outputs": [],
   "source": [
    "x = np.arange(len(states))\n",
    "width = 0.4\n",
    "\n",
    "fig, ax = plt.subplots(figsize=(16,6))\n",
    "ax.bar(x - width/2, gdf_sorted['cold_days'], width, label='Days below 0°C', color='blue')\n",
    "ax.bar(x + width/2, gdf_sorted['hot_days'], width, label='Days above 32°C', color='red')\n",
    "ax.set_xticks(x)\n",
    "ax.set_xticklabels(states, rotation=90)\n",
    "ax.set_ylabel(\"Average Number of Days\")\n",
    "ax.set_title(\"Average Cold vs Hot Days by State per year(1999-2020)\")\n",
    "ax.legend()\n",
    "plt.tight_layout()\n",
    "plt.show()"
   ]
  },
  {
   "cell_type": "markdown",
   "id": "ec29b964-0590-43bd-89fd-576056c022c2",
   "metadata": {},
   "source": [
    "This first plot is a simple bar chart comparing the average number of days below 0 degrees celsius (32 degrees farenheit) and above 32 degrees celsisus (89.4 degrees farenheit) for each state from 1999-2020. It seems that colder days are much more frequent than hot days."
   ]
  },
  {
   "cell_type": "code",
   "execution_count": null,
   "id": "c23bd341-0499-4e25-8216-703587089125",
   "metadata": {
    "tags": []
   },
   "outputs": [],
   "source": [
    "fig, ax = plt.subplots(figsize=(16,6))\n",
    "ax.bar(x - width/2, gdf_sorted['cold_rate'], width, label='Average Cold Mortality Rate', color='blue')\n",
    "ax.bar(x + width/2, gdf_sorted['heat_rate'], width, label='Average Heat Mortality Rate', color='red')\n",
    "ax.set_xticks(x)\n",
    "ax.set_xticklabels(states, rotation=90)\n",
    "ax.set_ylabel(\"Average Mortality Rate\")\n",
    "ax.set_title(\"Average Cold and Heat Mortality Rates by State (1999-2020)\")\n",
    "ax.legend()\n",
    "plt.tight_layout()\n",
    "plt.show()"
   ]
  },
  {
   "cell_type": "markdown",
   "id": "30d8b0b0-e9e7-4eb1-b7bd-02822d65891c",
   "metadata": {},
   "source": [
    "This bar chart represents the average mortality rate for cold and heat related deaths by state from 1999-2020. It seems that cold mortality rates seem to be greater in most of the states besides a select few such as Arizona and Nevada. "
   ]
  },
  {
   "cell_type": "code",
   "execution_count": null,
   "id": "c2f72620-1f95-4768-9cb2-c246094628d0",
   "metadata": {
    "tags": []
   },
   "outputs": [],
   "source": [
    "# Compute correlations\n",
    "corr_cold = gdf['cold_rate'].corr(gdf['Poverty_pe'])\n",
    "corr_heat = gdf['heat_rate'].corr(gdf['Poverty_pe'])\n",
    "\n",
    "# Create a figure with 1 row and 2 columns\n",
    "fig, (ax1, ax2) = plt.subplots(1, 2, figsize=(17, 4), sharex=True, sharey=True)\n",
    "\n",
    "# --- Left: Cold Deaths ---\n",
    "sns.regplot(\n",
    "    x='Poverty_pe', \n",
    "    y='cold_rate', \n",
    "    data=gdf, \n",
    "    scatter_kws={'s':50, 'color':'blue'}, \n",
    "    line_kws={'color':'red'},\n",
    "    ax=ax1\n",
    ")\n",
    "ax1.set_title(\"Average Poverty Percent vs Average Cold Mortality Rate by State (1999–2020)\")\n",
    "ax1.set_xlabel(\"Average Poverty Percent (%)\")\n",
    "ax1.set_ylabel(\"Average Cold Mortality Rate (per 100k)\")\n",
    "ax1.text(0.05, 0.9, f'r = {corr_cold:.3f}', transform=ax1.transAxes,\n",
    "         fontsize=12, bbox=dict(facecolor='white', alpha=0.5))\n",
    "\n",
    "# --- Right: Heat Deaths ---\n",
    "sns.regplot(\n",
    "    x='Poverty_pe', \n",
    "    y='heat_rate', \n",
    "    data=gdf, \n",
    "    scatter_kws={'s':50, 'color':'red'}, \n",
    "    line_kws={'color':'red'},\n",
    "    ax=ax2\n",
    ")\n",
    "ax2.set_title(\"Average Poverty Percent vs Average Heat Mortality Rate by State (1999–2020)\")\n",
    "ax2.set_xlabel(\"Average Poverty Percent (%)\")\n",
    "ax2.set_ylabel(\"Average Heat Mortality Rate (per 100k)\") \n",
    "ax2.text(0.05, 0.9, f'r = {corr_heat:.3f}', transform=ax2.transAxes,\n",
    "         fontsize=12, bbox=dict(facecolor='white', alpha=0.5))\n",
    "\n",
    "plt.tight_layout()\n",
    "plt.show()"
   ]
  },
  {
   "cell_type": "markdown",
   "id": "631522bb-e4f4-41ad-9947-26d6e1a7ceb1",
   "metadata": {},
   "source": [
    "These scatterplots are seeing if there is any correlation between the mortality rates and the poverty percent for each state. Cold mortality rates seem to have a negative correlation, while heat mortality rates have a positive one. This is opposite of what we would have thought, but may suggest that people in poverty have more access to infrastructure with heat during cold months."
   ]
  },
  {
   "cell_type": "code",
   "execution_count": null,
   "id": "3171692b-3a57-4671-ba4b-ea3decfbed4a",
   "metadata": {
    "tags": []
   },
   "outputs": [],
   "source": [
    "# --- Separate contiguous US, AK, HI ---\n",
    "gdf_cold_contig = gdf_cold_age[~gdf_cold_age['State'].isin(['Alaska', 'Hawaii'])]\n",
    "gdf_heat_contig = gdf_heat_age[~gdf_heat_age['State'].isin(['Alaska', 'Hawaii'])]\n",
    "\n",
    "gdf_cold_ak = gdf_cold_age[gdf_cold_age['State'] == 'Alaska']\n",
    "gdf_heat_ak = gdf_heat_age[gdf_heat_age['State'] == 'Alaska']\n",
    "\n",
    "gdf_cold_hi = gdf_cold_age[gdf_cold_age['State'] == 'Hawaii']\n",
    "gdf_heat_hi = gdf_heat_age[gdf_heat_age['State'] == 'Hawaii']\n",
    "\n",
    "# --- Plot main US map ---\n",
    "fig, (ax1, ax2) = plt.subplots(1, 2, figsize=(18, 10))\n",
    "gdf_cold_contig.plot(color=gdf_cold_contig['color'], edgecolor='black', ax=ax1)\n",
    "gdf_heat_contig.plot(color=gdf_heat_contig['color'], edgecolor='black', ax=ax2)\n",
    "ax1.set_title(\"Most Vulnerable Age Group to Cold Deaths (1999–2020)\", fontsize=14)\n",
    "ax2.set_title(\"Most Vulnerable Age Group to Heat Deaths (1999–2020)\", fontsize=14)\n",
    "ax1.axis('off')\n",
    "ax2.axis('off')\n",
    "\n",
    "# --- Add insets for Alaska ---\n",
    "ax_ak = fig.add_axes([0.01, 0.1, 0.15, 0.15])  # [left, bottom, width, height]\n",
    "gdf_cold_ak.plot(color=gdf_cold_ak['color'], edgecolor='black', ax=ax_ak)\n",
    "ax_ak.axis('off')\n",
    "ax_ak.set_title(\"AK\", fontsize=10)\n",
    "\n",
    "ax_ak2 = fig.add_axes([0.5, 0.1, 0.15, 0.15])\n",
    "gdf_heat_ak.plot(color=gdf_heat_ak['color'], edgecolor='black', ax=ax_ak2)\n",
    "ax_ak2.axis('off')\n",
    "ax_ak2.set_title(\"AK\", fontsize=10)\n",
    "\n",
    "# --- Add insets for Hawaii ---\n",
    "ax_hi = fig.add_axes([0.11, 0.1, 0.1, 0.1])\n",
    "gdf_cold_hi.plot(color=gdf_cold_hi['color'], edgecolor='black', ax=ax_hi)\n",
    "ax_hi.axis('off')\n",
    "ax_hi.set_title(\"HI\", fontsize=10)\n",
    "\n",
    "ax_hi2 = fig.add_axes([0.61, 0.1, 0.1, 0.1])\n",
    "gdf_heat_hi.plot(color=gdf_heat_hi['color'], edgecolor='black', ax=ax_hi2)\n",
    "ax_hi2.axis('off')\n",
    "ax_hi2.set_title(\"HI\", fontsize=10)\n",
    "        \n",
    "# --- Add legend ---\n",
    "legend_patches = [patches.Patch(color=age_color_map[age], label=age) for age in age_groups]\n",
    "legend_patches.append(patches.Patch(color='black', label='No Data'))\n",
    "fig.legend(handles=legend_patches, loc='lower center', ncol=6, title=\"Ten-Year Age Groups\", frameon=False)\n",
    "\n",
    "plt.tight_layout()\n",
    "plt.show()"
   ]
  },
  {
   "cell_type": "markdown",
   "id": "541206cf-c167-4741-ba42-dd90f22c8c02",
   "metadata": {},
   "source": [
    "This choropleth represents which ten-year age group has the most cold and heat related deaths. For both maps it seems that people 45 and older are most affected. "
   ]
  },
  {
<<<<<<< HEAD
=======
   "cell_type": "code",
   "execution_count": null,
   "id": "cdad0cc6-464a-404f-af4e-b3712d834790",
   "metadata": {},
   "outputs": [],
   "source": []
  },
  {
>>>>>>> origin/proof-reading-edits
   "cell_type": "markdown",
   "id": "3921000d-4f5d-4915-bd16-b9b243aed6d5",
   "metadata": {},
   "source": [
    "| Variable             | Moran's I | p-value  |\n",
    "|----------------------|-----------|----------|\n",
    "| Death Rate Difference| 0.218     | 0.0120   |\n",
    "| Cold Mortality Rate  | 0.193     | 0.0150   |\n",
    "| Heat Mortality Rate  | 0.172     | 0.0310   |\n"
   ]
  },
  {
   "cell_type": "markdown",
   "id": "3f0ded0f-43fa-475c-8d07-c055ab5c93a5",
   "metadata": {},
   "source": [
    "Moran’s I measures spatial autocorrelation, indicating whether similar values cluster geographically. The difference in mortality rates had a Moran’s I of 0.218 (p = 0.012), cold mortality 0.193 (p = 0.015), and heat mortality 0.172 (p = 0.031), all showing statistically significant positive spatial clustering. This suggests that states with similar mortality rates tend to be near each other rather than randomly distributed."
   ]
  },
  {
   "cell_type": "markdown",
   "id": "ed2e0957-f19a-406e-9d76-c255aeafa691",
   "metadata": {},
   "source": [
    "| Type of Mortality     | Rate (per 100,000) | Year/Period                  |\n",
    "|-----------------------|------------------|------------------------------|\n",
    "| Drug Overdose         | 32.4             | 2021                         |\n",
    "| Homicide              | 5.9              | 2023                         |\n",
    "| Cold related Mortality| 1.89             | Average 1999–2020            |\n",
    "| Heat related Mortality| 0.61             | Average 1999–2020            |\n",
    "                                                         \n"
   ]
  },
  {
   "cell_type": "markdown",
   "id": "1d23eda3-2f09-4b35-a780-8604d20c8c38",
   "metadata": {},
   "source": [
    "This table provides a comparison of mortality rates in the United States for selected causes. Cold related deaths (1.89 per 100,000) occur at a higher rate than heatrelated deaths (0.61 per 100,000), but both are substantially lower than deaths due to homicide (5.9 per 100,000) and drug overdose (32.4 per 100,000). "
   ]
  },
  {
   "cell_type": "markdown",
   "id": "f7d9637d-a6be-44cc-b36c-5c27c9ebba61",
   "metadata": {},
   "source": [
    "## Conclusion\n",
    "The first plot, a bar chart showing cold and hot days by state, indicates that most states experience more cold days (blue) than hot days (red). This helps explain why cold related mortality is generally higher.\n",
    "\n",
    "The second plot, a bar chart comparing cold (blue) and heat (red) mortality rates by state, reinforces this trend. With the exception of Arizona and Nevada, cold related mortality rates are consistently higher than heat related rates.\n",
    "\n",
    "The third plot, a scatterplot comparing poverty percentage to mortality rates, provides insight into potential socioeconomic effects. Cold mortality shows a slight negative correlation with poverty, while heat mortality shows a slightly stronger positive correlation. This may suggest that people in poverty have better access to heating during cold periods but limited access to air conditioning during heat waves, though further study would be needed to confirm this.\n",
    "\n",
    "The fourth plot, a pair of choropleths showing the most affected age groups for cold and heat related deaths, highlights that different age groups are more vulnerable depending on temperature extremes.\n",
    "\n",
    "The fifth and final plot, a choropleth of the difference in mortality rates, provides the strongest support for our hypothesis. Positive values (blue) indicate higher cold related mortality, while negative values (red) indicate higher heat related mortality. Most states are shaded light to moderate blue, showing that cold-related deaths are generally higher. Alaska exhibits the largest difference, whereas Arizona and Nevada have higher heat-related mortality.\n",
    "\n",
    "Spatial analysis using Moran’s I autocorrelation confirms that states with similar mortality rates are geographically clustered rather than randomly distributed, with all Moran’s I values positive and p-values < 0.05.\n",
    "\n",
    "Finally, the average mortality rate from 1999 to 2020 was 1.89 per 100,000 for cold-related deaths and 0.61 per 100,000 for heat-related deaths, confirming that cold-related mortality is substantially higher across the U.S. over this period. However, this is relatively small compared to other mortality rates, such as drug overdose."
   ]
  },
  {
   "cell_type": "markdown",
   "id": "c18680d6-c292-408d-96e9-f4d1a6791a60",
   "metadata": {},
   "source": [
    "### Sources\n",
    "- CDC Wonder: https://wonder.cdc.gov\n",
    "- PRISM Weather Data: https://asmith-agdata.shinyapps.io/prism_downloader/_w_a6c5076cc76b4c3fb50f4b256b4bafb5/#tab-5484-1\n",
    "- State Shapefile: https://www.weather.gov/gis/USStates\n",
    "- United States Census Bureau: https://www.census.gov/data/tables/time-series/demo/income-poverty/historical-poverty-people.html\n",
    "- County Shapefile (not used for final visuals): https://catalog.data.gov/dataset/tiger-line-shapefile-2019-nation-u-s-current-county-and-equivalent-national-shapefile\n",
    "- Homicide Mortality Rate: https://bjs.ojp.gov/document/hvus23.pdf\n",
    "- Drug Overdose Mortality Rate: https://www.cdc.gov/nchs/nvss/drug-overdose-deaths.htm\n",
    "- ChatGPT: Prompted for creating and editing plots, and reading in/filtering poverty data"
   ]
  },
  {
   "cell_type": "code",
   "execution_count": null,
   "id": "919c44dc-8e9c-44de-a268-3c1fb559e804",
   "metadata": {},
   "outputs": [],
   "source": []
  }
 ],
 "metadata": {
  "kernelspec": {
   "display_name": "Python 3 (ipykernel)",
   "language": "python",
   "name": "python3"
  },
  "language_info": {
   "codemirror_mode": {
    "name": "ipython",
    "version": 3
   },
   "file_extension": ".py",
   "mimetype": "text/x-python",
   "name": "python",
   "nbconvert_exporter": "python",
   "pygments_lexer": "ipython3",
   "version": "3.9.7"
  }
 },
 "nbformat": 4,
 "nbformat_minor": 5
}
