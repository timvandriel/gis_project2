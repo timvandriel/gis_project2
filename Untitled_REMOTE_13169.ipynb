{
 "cells": [
  {
   "cell_type": "markdown",
   "id": "18053851-1553-44b1-926e-8b375985a9a1",
   "metadata": {},
   "source": [
    "# Project 2\n",
    "## Hypothesis: Across the United States, mortality rates associated with cold weather are higher than mortality rates associated with hot weather.\n",
    "### By Tim and Ted"
   ]
  },
  {
   "cell_type": "markdown",
   "id": "b3ab1cbe-fb48-43a5-a8a3-cb2c9ce2e0e3",
   "metadata": {},
   "source": [
    "### Exploratory Visuals in QGIS\n",
    "![Crude Total Heat Rate by State 1999-2020](data/crude_heat_rate.png)\n",
    "![Crude Total Cold Rate by State 1999-2020](data/crude_cold_rate.png)\n",
    "![Temperature Average by State 1999-2020](data/avg_temp.png)\n",
    "\n",
    "These first visuals were to just give us a sense of what the data looks like and how we can manipulate it or use it.\n",
    "\n",
    "- The first one shows a heat map of mortality rate due to heat across the entiremortality data set.\n",
    "- The second one show a heat map of mortality rate due to cold across the entire mortality data set.\n",
    "- The third one shows the average daily temperature for a specific date (1999-01-01) joined with the state shapefile. QGIS default join was on the first date available in the temperature dataset (PRISM Weather Download Tool)."
   ]
  },
  {
   "cell_type": "markdown",
   "id": "14095ca9",
   "metadata": {},
   "source": [
    "## Merge cold deaths and heat deaths with state boundaries (initial exploration)\n",
    "\n",
    "**Cold-related deaths** were identified using the following ICD-10 codes:  \n",
    "- **X31:** Exposure to excessive natural cold  \n",
    "- **T68:** Hypothermia  \n",
    "\n",
    "**Heat-related deaths** were identified using the following ICD-10 codes:  \n",
    "- **X30:** Exposure to excessive natural heat  \n",
    "- **T67:** Effects of heat and light\n",
    "\n",
    "These were preprocessed/exported using the CDC WONDER tool."
   ]
  },
  {
   "cell_type": "code",
   "execution_count": 6,
   "id": "86fb20af-275e-489e-9ad7-d8de7ee721e0",
   "metadata": {},
   "outputs": [],
   "source": [
    "import pandas as pd\n",
    "import geopandas as gpd\n",
    "import matplotlib.pyplot as plt\n",
    "import numpy as np\n",
    "import re\n",
    "import libpysal\n",
    "from esda import Moran\n",
    "import matplotlib.colors as colors\n",
    "import seaborn as sns\n",
    "import matplotlib.patches as patches\n",
    "import warnings\n",
    "warnings.filterwarnings(\"ignore\", \"This figure includes Axes that are not compatible with tight_layout\")"
   ]
  },
  {
   "cell_type": "code",
   "execution_count": 7,
   "id": "22506690-0250-4032-bcfa-3e6b4c5fa5f1",
   "metadata": {},
   "outputs": [],
   "source": [
    "cold = pd.read_csv(\"/home/jovyan/Project2/data/mcod_cold.csv\")"
   ]
  },
  {
   "cell_type": "code",
   "execution_count": 8,
   "id": "b040c274-3701-4974-82d9-2deab61dfbcb",
   "metadata": {},
   "outputs": [
    {
     "data": {
      "text/html": [
       "<div>\n",
       "<style scoped>\n",
       "    .dataframe tbody tr th:only-of-type {\n",
       "        vertical-align: middle;\n",
       "    }\n",
       "\n",
       "    .dataframe tbody tr th {\n",
       "        vertical-align: top;\n",
       "    }\n",
       "\n",
       "    .dataframe thead th {\n",
       "        text-align: right;\n",
       "    }\n",
       "</style>\n",
       "<table border=\"1\" class=\"dataframe\">\n",
       "  <thead>\n",
       "    <tr style=\"text-align: right;\">\n",
       "      <th></th>\n",
       "      <th>Notes</th>\n",
       "      <th>State</th>\n",
       "      <th>State Code</th>\n",
       "      <th>Cold Deaths</th>\n",
       "      <th>Population</th>\n",
       "      <th>Crude Rate</th>\n",
       "    </tr>\n",
       "  </thead>\n",
       "  <tbody>\n",
       "    <tr>\n",
       "      <th>0</th>\n",
       "      <td>NaN</td>\n",
       "      <td>Alabama</td>\n",
       "      <td>1.0</td>\n",
       "      <td>388.0</td>\n",
       "      <td>103604166.0</td>\n",
       "      <td>0.4</td>\n",
       "    </tr>\n",
       "    <tr>\n",
       "      <th>1</th>\n",
       "      <td>NaN</td>\n",
       "      <td>Alaska</td>\n",
       "      <td>2.0</td>\n",
       "      <td>647.0</td>\n",
       "      <td>15300884.0</td>\n",
       "      <td>4.2</td>\n",
       "    </tr>\n",
       "    <tr>\n",
       "      <th>2</th>\n",
       "      <td>NaN</td>\n",
       "      <td>Arizona</td>\n",
       "      <td>4.0</td>\n",
       "      <td>864.0</td>\n",
       "      <td>138079425.0</td>\n",
       "      <td>0.6</td>\n",
       "    </tr>\n",
       "    <tr>\n",
       "      <th>3</th>\n",
       "      <td>NaN</td>\n",
       "      <td>Arkansas</td>\n",
       "      <td>5.0</td>\n",
       "      <td>319.0</td>\n",
       "      <td>63181817.0</td>\n",
       "      <td>0.5</td>\n",
       "    </tr>\n",
       "    <tr>\n",
       "      <th>4</th>\n",
       "      <td>NaN</td>\n",
       "      <td>California</td>\n",
       "      <td>6.0</td>\n",
       "      <td>1743.0</td>\n",
       "      <td>815706063.0</td>\n",
       "      <td>0.2</td>\n",
       "    </tr>\n",
       "  </tbody>\n",
       "</table>\n",
       "</div>"
      ],
      "text/plain": [
       "  Notes       State  State Code  Cold Deaths   Population Crude Rate\n",
       "0   NaN     Alabama         1.0        388.0  103604166.0        0.4\n",
       "1   NaN      Alaska         2.0        647.0   15300884.0        4.2\n",
       "2   NaN     Arizona         4.0        864.0  138079425.0        0.6\n",
       "3   NaN    Arkansas         5.0        319.0   63181817.0        0.5\n",
       "4   NaN  California         6.0       1743.0  815706063.0        0.2"
      ]
     },
     "execution_count": 8,
     "metadata": {},
     "output_type": "execute_result"
    }
   ],
   "source": [
    "cold.rename(columns={\"Deaths\":\"Cold Deaths\"}, inplace=True) #rename columns\n",
    "cold.head() "
   ]
  },
  {
   "cell_type": "code",
   "execution_count": 9,
   "id": "bf80ebd6-4ff5-42d5-88d0-c68aaa2e4aca",
   "metadata": {},
   "outputs": [],
   "source": [
    "heat = pd.read_csv(\"/home/jovyan/Project2/data/mcod_heat.csv\")"
   ]
  },
  {
   "cell_type": "code",
   "execution_count": 10,
   "id": "b36ed30d-9645-4cbf-b6c4-652b06f05b0a",
   "metadata": {},
   "outputs": [
    {
     "data": {
      "text/html": [
       "<div>\n",
       "<style scoped>\n",
       "    .dataframe tbody tr th:only-of-type {\n",
       "        vertical-align: middle;\n",
       "    }\n",
       "\n",
       "    .dataframe tbody tr th {\n",
       "        vertical-align: top;\n",
       "    }\n",
       "\n",
       "    .dataframe thead th {\n",
       "        text-align: right;\n",
       "    }\n",
       "</style>\n",
       "<table border=\"1\" class=\"dataframe\">\n",
       "  <thead>\n",
       "    <tr style=\"text-align: right;\">\n",
       "      <th></th>\n",
       "      <th>Notes</th>\n",
       "      <th>State</th>\n",
       "      <th>State Code</th>\n",
       "      <th>Heat Deaths</th>\n",
       "      <th>Population</th>\n",
       "      <th>Crude Rate</th>\n",
       "    </tr>\n",
       "  </thead>\n",
       "  <tbody>\n",
       "    <tr>\n",
       "      <th>0</th>\n",
       "      <td>NaN</td>\n",
       "      <td>Alabama</td>\n",
       "      <td>1.0</td>\n",
       "      <td>238.0</td>\n",
       "      <td>103604166.0</td>\n",
       "      <td>0.2</td>\n",
       "    </tr>\n",
       "    <tr>\n",
       "      <th>1</th>\n",
       "      <td>NaN</td>\n",
       "      <td>Alaska</td>\n",
       "      <td>2.0</td>\n",
       "      <td>28.0</td>\n",
       "      <td>15300884.0</td>\n",
       "      <td>0.2</td>\n",
       "    </tr>\n",
       "    <tr>\n",
       "      <th>2</th>\n",
       "      <td>NaN</td>\n",
       "      <td>Arizona</td>\n",
       "      <td>4.0</td>\n",
       "      <td>2462.0</td>\n",
       "      <td>138079425.0</td>\n",
       "      <td>1.8</td>\n",
       "    </tr>\n",
       "    <tr>\n",
       "      <th>3</th>\n",
       "      <td>NaN</td>\n",
       "      <td>Arkansas</td>\n",
       "      <td>5.0</td>\n",
       "      <td>271.0</td>\n",
       "      <td>63181817.0</td>\n",
       "      <td>0.4</td>\n",
       "    </tr>\n",
       "    <tr>\n",
       "      <th>4</th>\n",
       "      <td>NaN</td>\n",
       "      <td>California</td>\n",
       "      <td>6.0</td>\n",
       "      <td>1481.0</td>\n",
       "      <td>815706063.0</td>\n",
       "      <td>0.2</td>\n",
       "    </tr>\n",
       "  </tbody>\n",
       "</table>\n",
       "</div>"
      ],
      "text/plain": [
       "  Notes       State  State Code  Heat Deaths   Population Crude Rate\n",
       "0   NaN     Alabama         1.0        238.0  103604166.0        0.2\n",
       "1   NaN      Alaska         2.0         28.0   15300884.0        0.2\n",
       "2   NaN     Arizona         4.0       2462.0  138079425.0        1.8\n",
       "3   NaN    Arkansas         5.0        271.0   63181817.0        0.4\n",
       "4   NaN  California         6.0       1481.0  815706063.0        0.2"
      ]
     },
     "execution_count": 10,
     "metadata": {},
     "output_type": "execute_result"
    }
   ],
   "source": [
    "heat.rename(columns={\"Deaths\":\"Heat Deaths\"}, inplace=True) \n",
    "heat.head()"
   ]
  },
  {
   "cell_type": "code",
   "execution_count": 11,
   "id": "e2501d03-3b7a-42a7-9260-9c32f8013c57",
   "metadata": {
    "tags": []
   },
   "outputs": [],
   "source": [
    "merged = pd.merge(heat, cold, on=\"State Code\", suffixes=((\"_cold\"), (\"_heat\"))) #merging hot and cold deaths"
   ]
  },
  {
   "cell_type": "code",
   "execution_count": 12,
   "id": "d3800925-2d8f-4210-8de7-7886ea9fc343",
   "metadata": {},
   "outputs": [
    {
     "data": {
      "text/html": [
       "<div>\n",
       "<style scoped>\n",
       "    .dataframe tbody tr th:only-of-type {\n",
       "        vertical-align: middle;\n",
       "    }\n",
       "\n",
       "    .dataframe tbody tr th {\n",
       "        vertical-align: top;\n",
       "    }\n",
       "\n",
       "    .dataframe thead th {\n",
       "        text-align: right;\n",
       "    }\n",
       "</style>\n",
       "<table border=\"1\" class=\"dataframe\">\n",
       "  <thead>\n",
       "    <tr style=\"text-align: right;\">\n",
       "      <th></th>\n",
       "      <th>Notes_cold</th>\n",
       "      <th>State_cold</th>\n",
       "      <th>State Code</th>\n",
       "      <th>Heat Deaths</th>\n",
       "      <th>Population_cold</th>\n",
       "      <th>Crude Rate_cold</th>\n",
       "      <th>Notes_heat</th>\n",
       "      <th>State_heat</th>\n",
       "      <th>Cold Deaths</th>\n",
       "      <th>Population_heat</th>\n",
       "      <th>Crude Rate_heat</th>\n",
       "    </tr>\n",
       "  </thead>\n",
       "  <tbody>\n",
       "    <tr>\n",
       "      <th>0</th>\n",
       "      <td>NaN</td>\n",
       "      <td>Alabama</td>\n",
       "      <td>1.0</td>\n",
       "      <td>238.0</td>\n",
       "      <td>103604166.0</td>\n",
       "      <td>0.2</td>\n",
       "      <td>NaN</td>\n",
       "      <td>Alabama</td>\n",
       "      <td>388.0</td>\n",
       "      <td>103604166.0</td>\n",
       "      <td>0.4</td>\n",
       "    </tr>\n",
       "    <tr>\n",
       "      <th>1</th>\n",
       "      <td>NaN</td>\n",
       "      <td>Alaska</td>\n",
       "      <td>2.0</td>\n",
       "      <td>28.0</td>\n",
       "      <td>15300884.0</td>\n",
       "      <td>0.2</td>\n",
       "      <td>NaN</td>\n",
       "      <td>Alaska</td>\n",
       "      <td>647.0</td>\n",
       "      <td>15300884.0</td>\n",
       "      <td>4.2</td>\n",
       "    </tr>\n",
       "    <tr>\n",
       "      <th>2</th>\n",
       "      <td>NaN</td>\n",
       "      <td>Arizona</td>\n",
       "      <td>4.0</td>\n",
       "      <td>2462.0</td>\n",
       "      <td>138079425.0</td>\n",
       "      <td>1.8</td>\n",
       "      <td>NaN</td>\n",
       "      <td>Arizona</td>\n",
       "      <td>864.0</td>\n",
       "      <td>138079425.0</td>\n",
       "      <td>0.6</td>\n",
       "    </tr>\n",
       "    <tr>\n",
       "      <th>3</th>\n",
       "      <td>NaN</td>\n",
       "      <td>Arkansas</td>\n",
       "      <td>5.0</td>\n",
       "      <td>271.0</td>\n",
       "      <td>63181817.0</td>\n",
       "      <td>0.4</td>\n",
       "      <td>NaN</td>\n",
       "      <td>Arkansas</td>\n",
       "      <td>319.0</td>\n",
       "      <td>63181817.0</td>\n",
       "      <td>0.5</td>\n",
       "    </tr>\n",
       "    <tr>\n",
       "      <th>4</th>\n",
       "      <td>NaN</td>\n",
       "      <td>California</td>\n",
       "      <td>6.0</td>\n",
       "      <td>1481.0</td>\n",
       "      <td>815706063.0</td>\n",
       "      <td>0.2</td>\n",
       "      <td>NaN</td>\n",
       "      <td>California</td>\n",
       "      <td>1743.0</td>\n",
       "      <td>815706063.0</td>\n",
       "      <td>0.2</td>\n",
       "    </tr>\n",
       "  </tbody>\n",
       "</table>\n",
       "</div>"
      ],
      "text/plain": [
       "  Notes_cold  State_cold  State Code  Heat Deaths  Population_cold  \\\n",
       "0        NaN     Alabama         1.0        238.0      103604166.0   \n",
       "1        NaN      Alaska         2.0         28.0       15300884.0   \n",
       "2        NaN     Arizona         4.0       2462.0      138079425.0   \n",
       "3        NaN    Arkansas         5.0        271.0       63181817.0   \n",
       "4        NaN  California         6.0       1481.0      815706063.0   \n",
       "\n",
       "  Crude Rate_cold Notes_heat  State_heat  Cold Deaths  Population_heat  \\\n",
       "0             0.2        NaN     Alabama        388.0      103604166.0   \n",
       "1             0.2        NaN      Alaska        647.0       15300884.0   \n",
       "2             1.8        NaN     Arizona        864.0      138079425.0   \n",
       "3             0.4        NaN    Arkansas        319.0       63181817.0   \n",
       "4             0.2        NaN  California       1743.0      815706063.0   \n",
       "\n",
       "  Crude Rate_heat  \n",
       "0             0.4  \n",
       "1             4.2  \n",
       "2             0.6  \n",
       "3             0.5  \n",
       "4             0.2  "
      ]
     },
     "execution_count": 12,
     "metadata": {},
     "output_type": "execute_result"
    }
   ],
   "source": [
    "merged.head()"
   ]
  },
  {
   "cell_type": "code",
   "execution_count": 13,
   "id": "91fd6c7b-5d7d-4581-a228-f347b298cc8e",
   "metadata": {},
   "outputs": [],
   "source": [
    "merged = merged.drop(columns=[\"State_heat\", \"Population_cold\", \"Notes_cold\", \"Notes_heat\", \"Crude Rate_cold\", \"Crude Rate_heat\"]) #dropping columns we dont need"
   ]
  },
  {
   "cell_type": "code",
   "execution_count": 14,
   "id": "c1e0b51b-8ead-41a2-92e6-11474a60588d",
   "metadata": {},
   "outputs": [],
   "source": [
    "merged.rename(columns={\"State_cold\":\"State\", \"Population_heat\":\"Population\", \"State Code\":\"FIPS\"}, inplace=True) #rename columns"
   ]
  },
  {
   "cell_type": "code",
   "execution_count": 15,
   "id": "3bfbe9e8-18c4-4a86-ab89-e1584137ebc6",
   "metadata": {},
   "outputs": [
    {
     "data": {
      "text/html": [
       "<div>\n",
       "<style scoped>\n",
       "    .dataframe tbody tr th:only-of-type {\n",
       "        vertical-align: middle;\n",
       "    }\n",
       "\n",
       "    .dataframe tbody tr th {\n",
       "        vertical-align: top;\n",
       "    }\n",
       "\n",
       "    .dataframe thead th {\n",
       "        text-align: right;\n",
       "    }\n",
       "</style>\n",
       "<table border=\"1\" class=\"dataframe\">\n",
       "  <thead>\n",
       "    <tr style=\"text-align: right;\">\n",
       "      <th></th>\n",
       "      <th>State</th>\n",
       "      <th>FIPS</th>\n",
       "      <th>Heat Deaths</th>\n",
       "      <th>Cold Deaths</th>\n",
       "      <th>Population</th>\n",
       "    </tr>\n",
       "  </thead>\n",
       "  <tbody>\n",
       "    <tr>\n",
       "      <th>0</th>\n",
       "      <td>Alabama</td>\n",
       "      <td>1.0</td>\n",
       "      <td>238.0</td>\n",
       "      <td>388.0</td>\n",
       "      <td>103604166.0</td>\n",
       "    </tr>\n",
       "    <tr>\n",
       "      <th>1</th>\n",
       "      <td>Alaska</td>\n",
       "      <td>2.0</td>\n",
       "      <td>28.0</td>\n",
       "      <td>647.0</td>\n",
       "      <td>15300884.0</td>\n",
       "    </tr>\n",
       "    <tr>\n",
       "      <th>2</th>\n",
       "      <td>Arizona</td>\n",
       "      <td>4.0</td>\n",
       "      <td>2462.0</td>\n",
       "      <td>864.0</td>\n",
       "      <td>138079425.0</td>\n",
       "    </tr>\n",
       "    <tr>\n",
       "      <th>3</th>\n",
       "      <td>Arkansas</td>\n",
       "      <td>5.0</td>\n",
       "      <td>271.0</td>\n",
       "      <td>319.0</td>\n",
       "      <td>63181817.0</td>\n",
       "    </tr>\n",
       "    <tr>\n",
       "      <th>4</th>\n",
       "      <td>California</td>\n",
       "      <td>6.0</td>\n",
       "      <td>1481.0</td>\n",
       "      <td>1743.0</td>\n",
       "      <td>815706063.0</td>\n",
       "    </tr>\n",
       "  </tbody>\n",
       "</table>\n",
       "</div>"
      ],
      "text/plain": [
       "        State  FIPS  Heat Deaths  Cold Deaths   Population\n",
       "0     Alabama   1.0        238.0        388.0  103604166.0\n",
       "1      Alaska   2.0         28.0        647.0   15300884.0\n",
       "2     Arizona   4.0       2462.0        864.0  138079425.0\n",
       "3    Arkansas   5.0        271.0        319.0   63181817.0\n",
       "4  California   6.0       1481.0       1743.0  815706063.0"
      ]
     },
     "execution_count": 15,
     "metadata": {},
     "output_type": "execute_result"
    }
   ],
   "source": [
    "merged.head()"
   ]
  },
  {
   "cell_type": "code",
   "execution_count": 16,
   "id": "1c011466-046a-4cac-b76d-660e30d55613",
   "metadata": {},
   "outputs": [],
   "source": [
    "merged[\"cold_rate\"] = (merged[\"Cold Deaths\"] / merged[\"Population\"]) * 100000 # recalculating death rates \n",
    "merged[\"heat_rate\"] = (merged[\"Heat Deaths\"] / merged[\"Population\"]) * 100000"
   ]
  },
  {
   "cell_type": "code",
   "execution_count": 17,
   "id": "b2c61ea9-fdce-438d-b339-e401f5cac23a",
   "metadata": {},
   "outputs": [
    {
     "data": {
      "text/html": [
       "<div>\n",
       "<style scoped>\n",
       "    .dataframe tbody tr th:only-of-type {\n",
       "        vertical-align: middle;\n",
       "    }\n",
       "\n",
       "    .dataframe tbody tr th {\n",
       "        vertical-align: top;\n",
       "    }\n",
       "\n",
       "    .dataframe thead th {\n",
       "        text-align: right;\n",
       "    }\n",
       "</style>\n",
       "<table border=\"1\" class=\"dataframe\">\n",
       "  <thead>\n",
       "    <tr style=\"text-align: right;\">\n",
       "      <th></th>\n",
       "      <th>State</th>\n",
       "      <th>FIPS</th>\n",
       "      <th>Heat Deaths</th>\n",
       "      <th>Cold Deaths</th>\n",
       "      <th>Population</th>\n",
       "      <th>cold_rate</th>\n",
       "      <th>heat_rate</th>\n",
       "    </tr>\n",
       "  </thead>\n",
       "  <tbody>\n",
       "    <tr>\n",
       "      <th>111</th>\n",
       "      <td>NaN</td>\n",
       "      <td>NaN</td>\n",
       "      <td>NaN</td>\n",
       "      <td>33418.0</td>\n",
       "      <td>6.746357e+09</td>\n",
       "      <td>0.495349</td>\n",
       "      <td>NaN</td>\n",
       "    </tr>\n",
       "    <tr>\n",
       "      <th>112</th>\n",
       "      <td>NaN</td>\n",
       "      <td>NaN</td>\n",
       "      <td>NaN</td>\n",
       "      <td>NaN</td>\n",
       "      <td>NaN</td>\n",
       "      <td>NaN</td>\n",
       "      <td>NaN</td>\n",
       "    </tr>\n",
       "    <tr>\n",
       "      <th>113</th>\n",
       "      <td>NaN</td>\n",
       "      <td>NaN</td>\n",
       "      <td>NaN</td>\n",
       "      <td>NaN</td>\n",
       "      <td>NaN</td>\n",
       "      <td>NaN</td>\n",
       "      <td>NaN</td>\n",
       "    </tr>\n",
       "    <tr>\n",
       "      <th>114</th>\n",
       "      <td>NaN</td>\n",
       "      <td>NaN</td>\n",
       "      <td>NaN</td>\n",
       "      <td>NaN</td>\n",
       "      <td>NaN</td>\n",
       "      <td>NaN</td>\n",
       "      <td>NaN</td>\n",
       "    </tr>\n",
       "    <tr>\n",
       "      <th>115</th>\n",
       "      <td>NaN</td>\n",
       "      <td>NaN</td>\n",
       "      <td>NaN</td>\n",
       "      <td>NaN</td>\n",
       "      <td>NaN</td>\n",
       "      <td>NaN</td>\n",
       "      <td>NaN</td>\n",
       "    </tr>\n",
       "  </tbody>\n",
       "</table>\n",
       "</div>"
      ],
      "text/plain": [
       "    State  FIPS  Heat Deaths  Cold Deaths    Population  cold_rate  heat_rate\n",
       "111   NaN   NaN          NaN      33418.0  6.746357e+09   0.495349        NaN\n",
       "112   NaN   NaN          NaN          NaN           NaN        NaN        NaN\n",
       "113   NaN   NaN          NaN          NaN           NaN        NaN        NaN\n",
       "114   NaN   NaN          NaN          NaN           NaN        NaN        NaN\n",
       "115   NaN   NaN          NaN          NaN           NaN        NaN        NaN"
      ]
     },
     "execution_count": 17,
     "metadata": {},
     "output_type": "execute_result"
    }
   ],
   "source": [
    "merged[merged[\"Heat Deaths\"].isna()].head() # checking which columns have nan\n"
   ]
  },
  {
   "cell_type": "code",
   "execution_count": 18,
   "id": "f593bb59-65de-458d-a66e-95a9b1794d7d",
   "metadata": {},
   "outputs": [
    {
     "data": {
      "text/html": [
       "<div>\n",
       "<style scoped>\n",
       "    .dataframe tbody tr th:only-of-type {\n",
       "        vertical-align: middle;\n",
       "    }\n",
       "\n",
       "    .dataframe tbody tr th {\n",
       "        vertical-align: top;\n",
       "    }\n",
       "\n",
       "    .dataframe thead th {\n",
       "        text-align: right;\n",
       "    }\n",
       "</style>\n",
       "<table border=\"1\" class=\"dataframe\">\n",
       "  <thead>\n",
       "    <tr style=\"text-align: right;\">\n",
       "      <th></th>\n",
       "      <th>State</th>\n",
       "      <th>FIPS</th>\n",
       "      <th>Heat Deaths</th>\n",
       "      <th>Cold Deaths</th>\n",
       "      <th>Population</th>\n",
       "      <th>cold_rate</th>\n",
       "      <th>heat_rate</th>\n",
       "    </tr>\n",
       "  </thead>\n",
       "  <tbody>\n",
       "    <tr>\n",
       "      <th>52</th>\n",
       "      <td>NaN</td>\n",
       "      <td>NaN</td>\n",
       "      <td>15822.0</td>\n",
       "      <td>NaN</td>\n",
       "      <td>NaN</td>\n",
       "      <td>NaN</td>\n",
       "      <td>NaN</td>\n",
       "    </tr>\n",
       "    <tr>\n",
       "      <th>53</th>\n",
       "      <td>NaN</td>\n",
       "      <td>NaN</td>\n",
       "      <td>15822.0</td>\n",
       "      <td>NaN</td>\n",
       "      <td>NaN</td>\n",
       "      <td>NaN</td>\n",
       "      <td>NaN</td>\n",
       "    </tr>\n",
       "    <tr>\n",
       "      <th>54</th>\n",
       "      <td>NaN</td>\n",
       "      <td>NaN</td>\n",
       "      <td>15822.0</td>\n",
       "      <td>NaN</td>\n",
       "      <td>NaN</td>\n",
       "      <td>NaN</td>\n",
       "      <td>NaN</td>\n",
       "    </tr>\n",
       "    <tr>\n",
       "      <th>55</th>\n",
       "      <td>NaN</td>\n",
       "      <td>NaN</td>\n",
       "      <td>15822.0</td>\n",
       "      <td>NaN</td>\n",
       "      <td>NaN</td>\n",
       "      <td>NaN</td>\n",
       "      <td>NaN</td>\n",
       "    </tr>\n",
       "    <tr>\n",
       "      <th>56</th>\n",
       "      <td>NaN</td>\n",
       "      <td>NaN</td>\n",
       "      <td>15822.0</td>\n",
       "      <td>NaN</td>\n",
       "      <td>NaN</td>\n",
       "      <td>NaN</td>\n",
       "      <td>NaN</td>\n",
       "    </tr>\n",
       "  </tbody>\n",
       "</table>\n",
       "</div>"
      ],
      "text/plain": [
       "   State  FIPS  Heat Deaths  Cold Deaths  Population  cold_rate  heat_rate\n",
       "52   NaN   NaN      15822.0          NaN         NaN        NaN        NaN\n",
       "53   NaN   NaN      15822.0          NaN         NaN        NaN        NaN\n",
       "54   NaN   NaN      15822.0          NaN         NaN        NaN        NaN\n",
       "55   NaN   NaN      15822.0          NaN         NaN        NaN        NaN\n",
       "56   NaN   NaN      15822.0          NaN         NaN        NaN        NaN"
      ]
     },
     "execution_count": 18,
     "metadata": {},
     "output_type": "execute_result"
    }
   ],
   "source": [
    "merged[merged[\"Cold Deaths\"].isna()].head()"
   ]
  },
  {
   "cell_type": "code",
   "execution_count": 19,
   "id": "01784171-54ed-45cc-a7a5-f7159e7332cc",
   "metadata": {},
   "outputs": [
    {
     "ename": "FileNotFoundError",
     "evalue": "[Errno 2] No such file or directory: '/home/jovyan/Project2/data/intermediary/merged_death'",
     "output_type": "error",
     "traceback": [
      "\u001b[0;31m---------------------------------------------------------------------------\u001b[0m",
      "\u001b[0;31mFileNotFoundError\u001b[0m                         Traceback (most recent call last)",
      "\u001b[0;32m/tmp/ipykernel_54/2384691516.py\u001b[0m in \u001b[0;36m<module>\u001b[0;34m\u001b[0m\n\u001b[0;32m----> 1\u001b[0;31m \u001b[0mmerged\u001b[0m\u001b[0;34m.\u001b[0m\u001b[0mto_csv\u001b[0m\u001b[0;34m(\u001b[0m\u001b[0;34m\"/home/jovyan/Project2/data/intermediary/merged_death\"\u001b[0m\u001b[0;34m)\u001b[0m\u001b[0;34m\u001b[0m\u001b[0;34m\u001b[0m\u001b[0m\n\u001b[0m",
      "\u001b[0;32m/opt/conda/lib/python3.9/site-packages/pandas/core/generic.py\u001b[0m in \u001b[0;36mto_csv\u001b[0;34m(self, path_or_buf, sep, na_rep, float_format, columns, header, index, index_label, mode, encoding, compression, quoting, quotechar, line_terminator, chunksize, date_format, doublequote, escapechar, decimal, errors, storage_options)\u001b[0m\n\u001b[1;32m   3464\u001b[0m         )\n\u001b[1;32m   3465\u001b[0m \u001b[0;34m\u001b[0m\u001b[0m\n\u001b[0;32m-> 3466\u001b[0;31m         return DataFrameRenderer(formatter).to_csv(\n\u001b[0m\u001b[1;32m   3467\u001b[0m             \u001b[0mpath_or_buf\u001b[0m\u001b[0;34m,\u001b[0m\u001b[0;34m\u001b[0m\u001b[0;34m\u001b[0m\u001b[0m\n\u001b[1;32m   3468\u001b[0m             \u001b[0mline_terminator\u001b[0m\u001b[0;34m=\u001b[0m\u001b[0mline_terminator\u001b[0m\u001b[0;34m,\u001b[0m\u001b[0;34m\u001b[0m\u001b[0;34m\u001b[0m\u001b[0m\n",
      "\u001b[0;32m/opt/conda/lib/python3.9/site-packages/pandas/io/formats/format.py\u001b[0m in \u001b[0;36mto_csv\u001b[0;34m(self, path_or_buf, encoding, sep, columns, index_label, mode, compression, quoting, quotechar, line_terminator, chunksize, date_format, doublequote, escapechar, errors, storage_options)\u001b[0m\n\u001b[1;32m   1103\u001b[0m             \u001b[0mformatter\u001b[0m\u001b[0;34m=\u001b[0m\u001b[0mself\u001b[0m\u001b[0;34m.\u001b[0m\u001b[0mfmt\u001b[0m\u001b[0;34m,\u001b[0m\u001b[0;34m\u001b[0m\u001b[0;34m\u001b[0m\u001b[0m\n\u001b[1;32m   1104\u001b[0m         )\n\u001b[0;32m-> 1105\u001b[0;31m         \u001b[0mcsv_formatter\u001b[0m\u001b[0;34m.\u001b[0m\u001b[0msave\u001b[0m\u001b[0;34m(\u001b[0m\u001b[0;34m)\u001b[0m\u001b[0;34m\u001b[0m\u001b[0;34m\u001b[0m\u001b[0m\n\u001b[0m\u001b[1;32m   1106\u001b[0m \u001b[0;34m\u001b[0m\u001b[0m\n\u001b[1;32m   1107\u001b[0m         \u001b[0;32mif\u001b[0m \u001b[0mcreated_buffer\u001b[0m\u001b[0;34m:\u001b[0m\u001b[0;34m\u001b[0m\u001b[0;34m\u001b[0m\u001b[0m\n",
      "\u001b[0;32m/opt/conda/lib/python3.9/site-packages/pandas/io/formats/csvs.py\u001b[0m in \u001b[0;36msave\u001b[0;34m(self)\u001b[0m\n\u001b[1;32m    235\u001b[0m         \"\"\"\n\u001b[1;32m    236\u001b[0m         \u001b[0;31m# apply compression and byte/text conversion\u001b[0m\u001b[0;34m\u001b[0m\u001b[0;34m\u001b[0m\u001b[0m\n\u001b[0;32m--> 237\u001b[0;31m         with get_handle(\n\u001b[0m\u001b[1;32m    238\u001b[0m             \u001b[0mself\u001b[0m\u001b[0;34m.\u001b[0m\u001b[0mfilepath_or_buffer\u001b[0m\u001b[0;34m,\u001b[0m\u001b[0;34m\u001b[0m\u001b[0;34m\u001b[0m\u001b[0m\n\u001b[1;32m    239\u001b[0m             \u001b[0mself\u001b[0m\u001b[0;34m.\u001b[0m\u001b[0mmode\u001b[0m\u001b[0;34m,\u001b[0m\u001b[0;34m\u001b[0m\u001b[0;34m\u001b[0m\u001b[0m\n",
      "\u001b[0;32m/opt/conda/lib/python3.9/site-packages/pandas/io/common.py\u001b[0m in \u001b[0;36mget_handle\u001b[0;34m(path_or_buf, mode, encoding, compression, memory_map, is_text, errors, storage_options)\u001b[0m\n\u001b[1;32m    700\u001b[0m         \u001b[0;32mif\u001b[0m \u001b[0mioargs\u001b[0m\u001b[0;34m.\u001b[0m\u001b[0mencoding\u001b[0m \u001b[0;32mand\u001b[0m \u001b[0;34m\"b\"\u001b[0m \u001b[0;32mnot\u001b[0m \u001b[0;32min\u001b[0m \u001b[0mioargs\u001b[0m\u001b[0;34m.\u001b[0m\u001b[0mmode\u001b[0m\u001b[0;34m:\u001b[0m\u001b[0;34m\u001b[0m\u001b[0;34m\u001b[0m\u001b[0m\n\u001b[1;32m    701\u001b[0m             \u001b[0;31m# Encoding\u001b[0m\u001b[0;34m\u001b[0m\u001b[0;34m\u001b[0m\u001b[0m\n\u001b[0;32m--> 702\u001b[0;31m             handle = open(\n\u001b[0m\u001b[1;32m    703\u001b[0m                 \u001b[0mhandle\u001b[0m\u001b[0;34m,\u001b[0m\u001b[0;34m\u001b[0m\u001b[0;34m\u001b[0m\u001b[0m\n\u001b[1;32m    704\u001b[0m                 \u001b[0mioargs\u001b[0m\u001b[0;34m.\u001b[0m\u001b[0mmode\u001b[0m\u001b[0;34m,\u001b[0m\u001b[0;34m\u001b[0m\u001b[0;34m\u001b[0m\u001b[0m\n",
      "\u001b[0;31mFileNotFoundError\u001b[0m: [Errno 2] No such file or directory: '/home/jovyan/Project2/data/intermediary/merged_death'"
     ]
    }
   ],
   "source": [
    "merged.to_csv(\"/home/jovyan/Project2/data/intermediary/merged_death\")"
   ]
  },
  {
   "cell_type": "code",
   "execution_count": null,
   "id": "3afb9105-85c2-4726-8ccf-f28adcd7a0a5",
   "metadata": {},
   "outputs": [],
   "source": [
    "states = gpd.read_file(\"/home/jovyan/Project2/data/states/s_05mr24.shp\")"
   ]
  },
  {
   "cell_type": "code",
   "execution_count": null,
   "id": "ae0e9563-54cf-4737-af9c-2cdead0af669",
   "metadata": {},
   "outputs": [],
   "source": [
    "states.head()"
   ]
  },
  {
   "cell_type": "code",
   "execution_count": null,
   "id": "dca85133-5fbf-43b4-ad21-a4bfc4bc197b",
   "metadata": {},
   "outputs": [],
   "source": [
    "merged[\"FIPS\"] = (\n",
    "    merged[\"FIPS\"]\n",
    "    .fillna(\"\")              # Replace NaN with empty string\n",
    "    .astype(str)\n",
    "    .str.replace(\".0\", \"\", regex=False)  # Remove decimal part if any\n",
    "    .str.zfill(2)\n",
    ")\n",
    "states[\"FIPS\"] = states[\"FIPS\"].astype(str).str.zfill(2)\n",
    "gdf = states.merge(merged, on=\"FIPS\", how=\"left\")\n",
    "\n"
   ]
  },
  {
   "cell_type": "code",
   "execution_count": null,
   "id": "d9358f52-78f0-4b1f-9815-97cab0e62bcb",
   "metadata": {},
   "outputs": [],
   "source": [
    "gdf.head()"
   ]
  },
  {
   "cell_type": "code",
   "execution_count": null,
   "id": "6295e720-102e-47c3-a9df-cbda8f3fdcc5",
   "metadata": {},
   "outputs": [],
   "source": [
    "gdf.to_file(\"/home/jovyan/Project2/data/intermediary/merged_death_rates.shp\")\n"
   ]
  },
  {
   "cell_type": "code",
   "execution_count": null,
   "id": "f7922d43-c3e3-4d43-9c38-922ad892beba",
   "metadata": {
    "tags": []
   },
   "outputs": [],
   "source": [
    "# Create 2x2 grid\n",
    "fig, axes = plt.subplots(2, 2, figsize=(18, 12))\n",
    "\n",
    "# --- Top row: Rates ---\n",
    "gdf.plot(column='cold_rate',\n",
    "         cmap='Blues',\n",
    "         legend=True,\n",
    "         legend_kwds={'label': \"Cold-Related Death Rate per 100k\"},\n",
    "         edgecolor='black',\n",
    "         ax=axes[0, 0])\n",
    "axes[0, 0].set_title(\"Cold-Related Death Rate (1999–2020)\")\n",
    "axes[0, 0].axis('off')\n",
    "\n",
    "gdf.plot(column='heat_rate',\n",
    "         cmap='Reds',\n",
    "         legend=True,\n",
    "         legend_kwds={'label': \"Heat-Related Death Rate per 100k\"},\n",
    "         edgecolor='black',\n",
    "         ax=axes[0, 1])\n",
    "axes[0, 1].set_title(\"Heat-Related Death Rate (1999–2020)\")\n",
    "axes[0, 1].axis('off')\n",
    "\n",
    "# --- Bottom row: Raw Death Counts ---\n",
    "gdf.plot(column='Cold Deaths',\n",
    "         cmap='Blues',\n",
    "         legend=True,\n",
    "         legend_kwds={'label': \"Total Cold-Related Deaths\"},\n",
    "         edgecolor='black',\n",
    "         ax=axes[1, 0])\n",
    "axes[1, 0].set_title(\"Total Cold-Related Deaths (1999–2020)\")\n",
    "axes[1, 0].axis('off')\n",
    "\n",
    "gdf.plot(column='Heat Deaths',\n",
    "         cmap='Reds',\n",
    "         legend=True,\n",
    "         legend_kwds={'label': \"Total Heat-Related Deaths\"},\n",
    "         edgecolor='black',\n",
    "         ax=axes[1, 1])\n",
    "axes[1, 1].set_title(\"Total Heat-Related Deaths (1999–2020)\")\n",
    "axes[1, 1].axis('off')\n",
    "\n",
    "plt.tight_layout()\n",
    "plt.show()"
   ]
  },
  {
   "cell_type": "markdown",
   "id": "e1517dfb-f8e2-4782-b6a5-81ac6863a06a",
   "metadata": {},
   "source": [
    "## First look at the data\n",
    "\n",
    "Here is our first look at the data. So far all we have done is format the data by renaming and dropping certain columns, merged the hot and cold death tables based on the state code (FIPS), and recalculated the death rates for each state (because some of the rates were labeled \"unreliable\"). Then, merged the table with a state shape file in order to add the geometry for each state and then plot it.\n",
    "\n",
    "**This first view is okay but it is quite zoomed out and hard to see the details of the plots.** We will have to either zoom in or drop the geometry on the right of the plot to automatically zoom it in. We have also not pulled in the weather data yet, some ideas for this would be a supplemental scatterplot with number of deaths or death rate, and number of days below freezing or above 90 degrees. We will also likely trash the total death choropleths because it does not account for population like death rate does. Another approach is looking at rates at a county level. However, this will likely result in too many supressed values."
   ]
  },
  {
   "cell_type": "code",
   "execution_count": null,
   "id": "81c1b8f5-5aea-4823-9b2b-084a971ec9bc",
   "metadata": {},
   "outputs": [],
   "source": [
    "cold_county = pd.read_csv(\"/home/jovyan/Project2/data/mcod_county_cold.csv\")\n",
    "heat_county = pd.read_csv(\"/home/jovyan/Project2/data/mcod_county_heat.csv\")\n",
    "merged_county = pd.merge(cold_county, heat_county, on=\"County Code\", suffixes=((\"_cold\"), (\"_heat\"))) #merging hot and cold deaths\n",
    "merged_county.head()"
   ]
  },
  {
   "cell_type": "code",
   "execution_count": null,
   "id": "a4aa77e1-1c5e-4f12-9c42-0e354c801b69",
   "metadata": {},
   "outputs": [],
   "source": [
    "merged_county.rename(columns={\"County_cold\":\"County\", \"State_cold\":\"State\", \"State Code_cold\":\"State Code\", \"Population_cold\":\"Population\"}, inplace=True) #rename columns\n",
    "merged_county.columns.to_list()"
   ]
  },
  {
   "cell_type": "code",
   "execution_count": null,
   "id": "d633d869-32cf-407c-9bf6-1b3b48375764",
   "metadata": {},
   "outputs": [],
   "source": [
    "merged_county = merged_county.drop(columns=[\"Crude Rate_cold\", \"Notes_heat\", \"State_heat\", \"State Code_heat\", \"County_heat\", \"Population_heat\", \"Crude Rate_heat\"])\n",
    "merged_county.head()"
   ]
  },
  {
   "cell_type": "code",
   "execution_count": null,
   "id": "b9b5631b-7ea5-41bb-8e78-a43db1cf8846",
   "metadata": {},
   "outputs": [],
   "source": [
    "# Replace 'Suppressed' strings with 1\n",
    "merged_county['Deaths_cold'] = merged_county['Deaths_cold'].replace('Suppressed', 1)\n",
    "merged_county['Deaths_heat'] = merged_county['Deaths_heat'].replace('Suppressed', 1)"
   ]
  },
  {
   "cell_type": "code",
   "execution_count": null,
   "id": "ff36dada-e888-497e-aee4-48bece458ffe",
   "metadata": {},
   "outputs": [],
   "source": [
    "# Convert the column to numeric\n",
    "merged_county['Deaths_cold'] = pd.to_numeric(merged_county['Deaths_cold'])\n",
    "merged_county['Deaths_heat'] = pd.to_numeric(merged_county['Deaths_heat'])\n",
    "merged_county['Population'] = pd.to_numeric(merged_county['Population'])\n",
    "\n",
    "merged_county[\"cold_rate\"] = (merged_county[\"Deaths_cold\"] / merged_county[\"Population\"]) * 100000 #recalculating death rates \n",
    "merged_county[\"heat_rate\"] = (merged_county[\"Deaths_heat\"] / merged_county[\"Population\"]) * 100000\n",
    "merged_county.head()"
   ]
  },
  {
   "cell_type": "code",
   "execution_count": null,
   "id": "124ba7b0-fb8e-4c2f-9ee2-5bbabb6ddf66",
   "metadata": {},
   "outputs": [],
   "source": [
    "# Convert to integer\n",
    "merged_county['County Code'] = merged_county['County Code'].fillna(0).astype(int)\n",
    "merged_county['State Code'] = merged_county['State Code'].fillna(0).astype(int)\n",
    "\n",
    "# Convert County Code to string and remove extra leading '1' if present\n",
    "merged_county['County Code'] = merged_county['County Code'].astype(str).apply(lambda x: x[-3:] if len(x) > 3 else x)\n",
    "\n",
    "merged_county.head()\n"
   ]
  },
  {
   "cell_type": "code",
   "execution_count": null,
   "id": "f94febcf-d833-4f08-ad22-cdaf38a4df32",
   "metadata": {},
   "outputs": [],
   "source": [
    "counties = gpd.read_file(\"/home/jovyan/Project2/data/counties\")"
   ]
  },
  {
   "cell_type": "code",
   "execution_count": null,
   "id": "e4bf52f2-c069-408e-b39a-3cb2ce021d56",
   "metadata": {},
   "outputs": [],
   "source": [
    "print(counties.columns.to_list())"
   ]
  },
  {
   "cell_type": "code",
   "execution_count": null,
   "id": "d5b432b2-b90a-46c7-8eba-23b22aacf690",
   "metadata": {},
   "outputs": [],
   "source": [
    "# Make sure codes are strings and zero-padded\n",
    "counties['STATEFP'] = counties['STATEFP'].astype(str).str.zfill(2)\n",
    "counties['COUNTYFP'] = counties['COUNTYFP'].astype(str).str.zfill(3)\n",
    "\n",
    "merged_county['STATEFP'] = merged_county['State Code'].astype(str).str.zfill(2)\n",
    "merged_county['COUNTYFP'] = merged_county['County Code'].astype(str).str.zfill(3)\n",
    "print(merged_county[['State Code','County Code','STATEFP','COUNTYFP']].head(10))\n"
   ]
  },
  {
   "cell_type": "code",
   "execution_count": null,
   "id": "527d913b-4243-4e42-96c5-255d03010df2",
   "metadata": {},
   "outputs": [],
   "source": [
    "gdf_county = counties.merge(\n",
    "    merged_county,\n",
    "    on=['STATEFP', 'COUNTYFP'],\n",
    "    how='left' \n",
    ")\n",
    "gdf_county"
   ]
  },
  {
   "cell_type": "code",
   "execution_count": null,
   "id": "44ce4d7f-b994-4523-ad0e-04b59ab0ffaf",
   "metadata": {},
   "outputs": [],
   "source": [
    "print(gdf_county[['STATEFP','COUNTYFP','NAME','Deaths_cold','Deaths_heat']].head(20))\n"
   ]
  },
  {
   "cell_type": "code",
   "execution_count": null,
   "id": "c4750350-98aa-4be5-a159-8acffa4f63f9",
   "metadata": {},
   "outputs": [],
   "source": [
    "gdf_county = gdf_county.dropna(subset=['Deaths_cold','Deaths_heat'])\n",
    "\n",
    "# Check\n",
    "gdf_county[['STATEFP','COUNTYFP','NAME','Deaths_cold','Deaths_heat']].head(20)\n"
   ]
  },
  {
   "cell_type": "code",
   "execution_count": null,
   "id": "0036004c-524c-44a1-9bf3-52b5131c0e3c",
   "metadata": {},
   "outputs": [],
   "source": [
    "cols_to_keep = ['STATEFP','COUNTYFP','NAME','Deaths_cold','Deaths_heat','cold_rate','heat_rate','geometry']\n",
    "gdf_county = gdf_county[cols_to_keep]\n",
    "gdf_county"
   ]
  },
  {
   "cell_type": "code",
   "execution_count": null,
   "id": "06c58a10-87fc-40a2-adb7-aaca6d3c266b",
   "metadata": {},
   "outputs": [],
   "source": [
    "# Keep only rows where STATEFP corresponds to the 50 states\n",
    "state_fps_50 = [str(x).zfill(2) for x in range(1, 57) if x not in [3,7,14,43,52]]  # excluding special codes if any\n",
    "gdf_county = gdf_county[gdf_county['STATEFP'].isin(state_fps_50)]\n",
    "gdf_county"
   ]
  },
  {
   "cell_type": "code",
   "execution_count": null,
   "id": "bd261ff0-e6ba-4447-9e5a-3ad971ea9e04",
   "metadata": {},
   "outputs": [],
   "source": [
    "gdf_county['geometry'] = gdf_county['geometry'].simplify(tolerance=0.01, preserve_topology=True)\n",
    "gdf_county['Deaths_cold'] = pd.to_numeric(gdf_county['Deaths_cold'])\n",
    "gdf_county['Deaths_heat'] = pd.to_numeric(gdf_county['Deaths_heat'])\n",
    "gdf_county['cold_rate'] = pd.to_numeric(gdf_county['cold_rate'])\n",
    "gdf_county['heat_rate'] = pd.to_numeric(gdf_county['heat_rate'])\n",
    "gdf_county.to_file(\"/home/jovyan/Project2/data/gdf_county_clean.shp\")\n"
   ]
  },
  {
   "cell_type": "markdown",
   "id": "e49482bc-678c-407b-8486-0dc7171bd90e",
   "metadata": {},
   "source": [
    "_Note: Simplified the geometry for the counties because otherwise the kernel would shutdown._"
   ]
  },
  {
   "cell_type": "code",
   "execution_count": null,
   "id": "1d73a1e5-2aa3-4647-aedf-e1a682d1daa7",
   "metadata": {
    "tags": []
   },
   "outputs": [],
   "source": [
    "fig, axes = plt.subplots(2, 2, figsize=(18, 12))\n",
    "\n",
    "# -------------------\n",
    "# Top-left: Cold rate (county) with red outline for suppressed values\n",
    "# -------------------\n",
    "gdf_nonzero_cold = gdf_county[gdf_county['cold_rate'] != 0]\n",
    "gdf_zero_cold = gdf_county[gdf_county['cold_rate'] == 0]\n",
    "\n",
    "# Non-zero counties\n",
    "gdf_nonzero_cold.plot(column='cold_rate', cmap='Blues', linewidth=0.1,\n",
    "                      ax=axes[0, 0], edgecolor='black', legend=True,\n",
    "                      legend_kwds={'label': \"Cold-Related Death Rate per 100k\"})\n",
    "\n",
    "# Zero counties\n",
    "gdf_zero_cold.plot(color='lightgray', linewidth=0.1, ax=axes[0, 0], edgecolor='black')\n",
    "\n",
    "# State boundaries\n",
    "gdf.boundary.plot(ax=axes[0, 0], color='black', linewidth=0.5)\n",
    "axes[0, 0].set_title(\"Cold-Related Death Rate by County (1999–2020)\")\n",
    "axes[0, 0].axis('off')\n",
    "axes[0, 0].set_xlim(-170, -65)\n",
    "axes[0, 0].set_ylim(18, 72)\n",
    "\n",
    "# -------------------\n",
    "# Top-right: Heat rate (county) with red outline for suppressed values\n",
    "# -------------------\n",
    "gdf_nonzero_heat = gdf_county[gdf_county['heat_rate'] != 0]\n",
    "gdf_zero_heat = gdf_county[gdf_county['heat_rate'] == 0]\n",
    "\n",
    "# Non-zero counties\n",
    "gdf_nonzero_heat.plot(column='heat_rate', cmap='Reds', linewidth=0.1,\n",
    "                      ax=axes[0, 1], edgecolor='black', legend=True,\n",
    "                      legend_kwds={'label': \"Heat-Related Death Rate per 100k\"})\n",
    "\n",
    "# Zero counties\n",
    "gdf_zero_heat.plot(color='lightgray', linewidth=0.1, ax=axes[0, 1], edgecolor='black')\n",
    "\n",
    "# State boundaries\n",
    "gdf.boundary.plot(ax=axes[0, 1], color='black', linewidth=0.5)\n",
    "axes[0, 1].set_title(\"Heat-Related Death Rate by County (1999–2020)\")\n",
    "axes[0, 1].axis('off')\n",
    "axes[0, 1].set_xlim(-170, -65)\n",
    "axes[0, 1].set_ylim(18, 72)\n",
    "\n",
    "# -------------------\n",
    "# Bottom-left: Cold rate (state)\n",
    "# -------------------\n",
    "gdf.plot(column='cold_rate', cmap='Blues', linewidth=0.8, edgecolor='black',\n",
    "         ax=axes[1, 0], legend=True,\n",
    "         legend_kwds={'label': \"Cold-Related Death Rate per 100k\"})\n",
    "axes[1, 0].set_title(\"Cold-Related Death Rate by State (1999–2020)\")\n",
    "axes[1, 0].axis('off')\n",
    "axes[1, 0].set_xlim(-170, -65)\n",
    "axes[1, 0].set_ylim(18, 72)\n",
    "\n",
    "# -------------------\n",
    "# Bottom-right: Heat rate (state)\n",
    "# -------------------\n",
    "gdf.plot(column='heat_rate', cmap='Reds', linewidth=0.8, edgecolor='black',\n",
    "         ax=axes[1, 1], legend=True,\n",
    "         legend_kwds={'label': \"Heat-Related Death Rate per 100k\"})\n",
    "axes[1, 1].set_title(\"Heat-Related Death Rate by State (1999–2020)\")\n",
    "axes[1, 1].axis('off')\n",
    "axes[1, 1].set_xlim(-170, -65)\n",
    "axes[1, 1].set_ylim(18, 72)\n",
    "\n",
    "plt.tight_layout()\n",
    "plt.show()"
   ]
  },
  {
   "cell_type": "markdown",
   "id": "68175b26-f249-4c5d-b62b-e83dc39ab2d1",
   "metadata": {},
   "source": [
    "## 2nd Revision\n",
    "\n",
    "This is interesting to look at. However, the county rates are not entirely accurate since we replaced suppressed values with a 1. We did this because the CDC suppresses any row with a number of deaths less than or equal to 10, so we know at least one person died due to a temperature related death, but we are not sure how many.\n",
    "\n",
    "For this reason we will likely have to stick with a \"by state\" analysis even though the county rate plots are much more detailed. We did similar processing to the first revision, but this time on a county level. This included formatting the tables again, merging the heat and cold deaths to a county shape file by the COUNTYFP and STATEFP. We also calculated the rates after replacing the suppressed values with 1, again this is why the map is not entirely accurate.\n",
    "\n",
    "We then plotted all 4 maps just to compare how they look, this time zoomed in on the 50 states - ignoring overseas territories that were in our shapefile. Gray colored counties denote 0 deaths for temperature related deaths. One thing we could do for the county plot is to keep track of which values were originally suppressed and apply a pattern accross those counties to see how many are just estimates of the rate. We still need to tie in the number of days above or below a certain temperature threshold."
   ]
  },
  {
   "cell_type": "code",
   "execution_count": null,
   "id": "7b240ec8-7796-4ff0-86a0-e6cf0cc6996d",
   "metadata": {
    "tags": []
   },
   "outputs": [],
   "source": [
    "## Plot the resulting graphs based on the transformations above\n",
    "\n",
    "fig, axes = plt.subplots(1, 2, figsize=(18, 12))\n",
    "\n",
    "# -------------------\n",
    "# Top-left: Cold rate (county) w/ suppressed rates in black\n",
    "gdf_nonzero_cold = gdf_county[gdf_county['cold_rate'] != 0]\n",
    "gdf_zero_cold = gdf_county[gdf_county['cold_rate'] == 0]\n",
    "gdf_suppressed_cold = gdf_county[gdf_county['Deaths_cold'] == 1]\n",
    "\n",
    "# Non-zero counties\n",
    "gdf_nonzero_cold.plot(column='cold_rate', cmap='Blues', linewidth=0.1,\n",
    "                      ax=axes[0], edgecolor='black', legend=True,\n",
    "                      legend_kwds={'label': \"Cold-Related Death Rate per 100k\"})\n",
    "\n",
    "# Zero counties\n",
    "gdf_zero_cold.plot(color='lightgray', linewidth=0.1, ax=axes[0], edgecolor='black')\n",
    "\n",
    "# Suppressed counties in black\n",
    "gdf_suppressed_cold.plot(color='black', edgecolor='black', linewidth=1.0, ax=axes[0])\n",
    "\n",
    "# State boundaries\n",
    "gdf.boundary.plot(ax=axes[0], color='black', linewidth=0.5)\n",
    "axes[0].set_title(\"Cold-Related Death Rate by County (1999–2020)\")\n",
    "axes[0].axis('off')\n",
    "axes[0].set_xlim(-170, -65)\n",
    "axes[0].set_ylim(18, 72)\n",
    "\n",
    "# -------------------\n",
    "# Top-right: Heat rate (county) w/ suppressed rates in black\n",
    "# -------------------\n",
    "gdf_nonzero_heat = gdf_county[gdf_county['heat_rate'] != 0]\n",
    "gdf_zero_heat = gdf_county[gdf_county['heat_rate'] == 0]\n",
    "gdf_suppressed_heat = gdf_county[gdf_county['Deaths_heat'] == 1]\n",
    "\n",
    "# Non-zero counties\n",
    "gdf_nonzero_heat.plot(column='heat_rate', cmap='Reds', linewidth=0.1,\n",
    "                      ax=axes[1], edgecolor='black', legend=True,\n",
    "                      legend_kwds={'label': \"Heat-Related Death Rate per 100k\"})\n",
    "\n",
    "# Zero counties\n",
    "gdf_zero_heat.plot(color='lightgray', linewidth=0.1, ax=axes[1], edgecolor='black')\n",
    "\n",
    "# Suppressed counties in black\n",
    "gdf_suppressed_heat.plot(color='black', edgecolor='black', linewidth=1.0, ax=axes[1])\n",
    "\n",
    "# State boundaries\n",
    "gdf.boundary.plot(ax=axes[1], color='black', linewidth=0.5)\n",
    "axes[1].set_title(\"Heat-Related Death Rate by County (1999–2020)\")\n",
    "axes[1].axis('off')\n",
    "axes[1].set_xlim(-170, -65)\n",
    "axes[1].set_ylim(18, 72)\n",
    "\n",
    "plt.tight_layout()\n",
    "plt.show()"
   ]
  },
  {
   "cell_type": "markdown",
   "id": "99476f31-3e18-48ec-8c15-9d01e6dc627e",
   "metadata": {},
   "source": [
    "_Note: This is more of a exploratory visual to see how many county death rates are suppressed (black). Obviously, most of them are. This is why we decided to stick to a state-level analysis to stay true to the data integrity._"
   ]
  },
  {
   "cell_type": "code",
   "execution_count": null,
   "id": "3390dc2a-89a1-4c61-8496-99bd951f629f",
   "metadata": {
    "tags": []
   },
   "outputs": [],
   "source": [
    "weather = pd.read_csv(\"/home/jovyan/Project2/data/temp.csv\")\n",
    "weather.head()"
   ]
  },
  {
   "cell_type": "code",
   "execution_count": null,
   "id": "fd09bc30-c6b2-47c3-843a-ff6ba4bce9e9",
   "metadata": {
    "tags": []
   },
   "outputs": [],
   "source": [
    "counts = weather.groupby(['st_abb', 'st_code']).agg(\n",
    "    hot_days=('tmax', lambda x: (x > 32).sum()),  # max temp in Celsius\n",
    "    cold_days=('tmin', lambda x: (x < 0).sum())   # min temp in Celsius\n",
    ").reset_index()\n",
    "\n",
    "counts.head(20)\n"
   ]
  },
  {
   "cell_type": "code",
   "execution_count": null,
   "id": "d3925da2-4407-4291-b707-1fd5bd65f42a",
   "metadata": {
    "tags": []
   },
   "outputs": [],
   "source": [
    "counts.rename(columns={\"st_code\":\"FIPS\"}, inplace=True)\n",
    "counts['FIPS'] = counts['FIPS'].astype(str).str.zfill(2)\n",
    "counts"
   ]
  },
  {
   "cell_type": "code",
   "execution_count": null,
   "id": "a2d31d3c-ad8f-41b8-8c1c-e135def58158",
   "metadata": {
    "tags": []
   },
   "outputs": [],
   "source": [
    "gdf = gpd.read_file(\"/home/jovyan/Project2/data/intermediary/merged_death_rates.shp\")\n",
    "gdf.head()"
   ]
  },
  {
   "cell_type": "code",
   "execution_count": null,
   "id": "b34d297b-eb21-46f3-a35b-75f53653c433",
   "metadata": {
    "tags": []
   },
   "outputs": [],
   "source": [
    "print(gdf[\"FIPS\"].dtype)\n",
    "print(counts[\"FIPS\"].dtype)\n"
   ]
  },
  {
   "cell_type": "code",
   "execution_count": null,
   "id": "67c3f1a1-1e40-4154-84e9-896633896a25",
   "metadata": {
    "tags": []
   },
   "outputs": [],
   "source": [
    "gdf = gdf.merge(counts, on=\"FIPS\", how=\"left\")\n",
    "gdf = gdf[gdf['FIPS'].isin(state_fps_50)] # only the 50 states\n",
    "gdf.columns.to_list()"
   ]
  },
  {
   "cell_type": "code",
   "execution_count": null,
   "id": "97c9acf9-d7c2-4ff1-8f3b-a278f49897f6",
   "metadata": {
    "tags": []
   },
   "outputs": [],
   "source": [
    "gdf=gdf.drop(columns=[\"st_abb\", \"State_1\"])"
   ]
  },
  {
   "cell_type": "code",
   "execution_count": null,
   "id": "5b923993-d1f3-41bf-91c0-a54afeeac404",
   "metadata": {
    "tags": []
   },
   "outputs": [],
   "source": [
    "# Sort by cold mortality rate\n",
    "gdf_sorted = gdf.sort_values('cold_rate', ascending=False)\n",
    "\n",
    "states = gdf_sorted['NAME']\n",
    "x = np.arange(len(states))\n",
    "\n",
    "fig, ax = plt.subplots(figsize=(16,6))\n",
    "\n",
    "width = 0.4\n",
    "\n",
    "ax.bar(x - width/2, gdf_sorted['cold_rate'], width, label='Cold Rate', color='blue')\n",
    "ax.bar(x + width/2, gdf_sorted['heat_rate'], width, label='Hot Rate', color='red')\n",
    "\n",
    "ax.set_xticks(x)\n",
    "ax.set_xticklabels(states, rotation=90)\n",
    "ax.set_ylabel(\"Mortality Rate\")\n",
    "ax.set_title(\"Cold vs Hot Mortality Rates by State\")\n",
    "ax.legend()\n",
    "\n",
    "plt.tight_layout()\n",
    "plt.show()"
   ]
  },
  {
   "cell_type": "code",
   "execution_count": null,
   "id": "30a84f17-8d1f-4bee-b828-bd4e8fc6a8b2",
   "metadata": {
    "tags": []
   },
   "outputs": [],
   "source": [
    "# Sort by cold moratility rate\n",
    "gdf_sorted = gdf.sort_values('cold_rate', ascending=False)\n",
    "\n",
    "states = gdf_sorted['NAME']\n",
    "x = np.arange(len(states))\n",
    "\n",
    "fig, ax = plt.subplots(figsize=(16,6))\n",
    "\n",
    "width = 0.4\n",
    "\n",
    "ax.bar(x - width/2, gdf_sorted['cold_days'], width, label='Days below 0 degrees celsius', color='blue')\n",
    "ax.bar(x + width/2, gdf_sorted['hot_days'], width, label='Days above 32 degrees celsius', color='red')\n",
    "\n",
    "ax.set_xticks(x)\n",
    "ax.set_xticklabels(states, rotation=90)\n",
    "ax.set_ylabel(\"Number of Days\")\n",
    "ax.set_title(\"Cold vs Hot Days by State\")\n",
    "ax.legend()\n",
    "\n",
    "plt.tight_layout()\n",
    "plt.show()"
   ]
  },
  {
   "cell_type": "code",
   "execution_count": null,
   "id": "328f9580-488f-4d7a-a5c7-15a4edfd4a78",
   "metadata": {
    "tags": []
   },
   "outputs": [],
   "source": [
    "gdf[\"death_rate_diff\"] = gdf[\"cold_rate\"]-gdf['heat_rate'] # difference between cold and heat rate, negative values mean higher heat rate positive mean higher cold rate\n",
    "gdf.head()"
   ]
  },
  {
   "cell_type": "code",
   "execution_count": null,
   "id": "02b94b64-ffb0-440b-bbbd-781b2a7474ae",
   "metadata": {
    "tags": []
   },
   "outputs": [],
   "source": [
    "# Create a Normalize object centered at 0\n",
    "norm = colors.TwoSlopeNorm(vmin=gdf['death_rate_diff'].min(),\n",
    "                           vcenter=0,\n",
    "                           vmax=gdf['death_rate_diff'].max())\n",
    "\n",
    "fig, ax = plt.subplots(figsize=(12, 8))\n",
    "gdf.plot(\n",
    "    column='death_rate_diff',\n",
    "    cmap='bwr_r',   # reversed blue-white-red: positive = blue, negative = red\n",
    "    linewidth=0.8,\n",
    "    edgecolor='black',\n",
    "    legend=True,\n",
    "    legend_kwds={'label': \"Cold - Heat Death Rate (per 100k)\"},\n",
    "    ax=ax,\n",
    "    norm=norm       # center color scale at 0\n",
    ")\n",
    "\n",
    "ax.set_title(\"Difference in Cold vs Heat Death Rates by State\")\n",
    "ax.axis('off')\n",
    "ax.set_xlim(-170, -65)\n",
    "ax.set_ylim(18, 72)\n",
    "plt.show()"
   ]
  },
  {
   "cell_type": "markdown",
   "id": "f562832b-9561-4c2d-b4dd-d18c140ddc05",
   "metadata": {},
   "source": [
    "## 3rd Revision\n",
    "\n",
    "These plots look a lot better. This choropleth gives us an idea of which states have a higher death rate due to cold related deaths versus heat related deaths.\n",
    "\n",
    "To get this value we took the difference between the cold death rate and the heat death rate. Values that are positive show a higher death rate from cold, and values that are negative show a higher death rate from heat.\n",
    "\n",
    "There certainly seems to be more blue colored states which means that per 100,000 people there is a higher rate of deaths due to cold temperatures. The bar graphs are mostly supplemental, but they show heat-related versus cold-related mortality rates for each state and the number of days where the minimum temperature in the state was below 0°C (32°F) or where the maximum temperature was above 32°C (89.6°F).\n",
    "\n",
    "From the first bar graph we can see that a few states have much higher mortality rates due to heat, such as Arizona or Texas, but the cold related mortality rates seem to be more consistent across the states.\n",
    "\n",
    "From the second bar graph we can see that most of the states have a higher amount of days below freezing.\n",
    "\n",
    "**Critique:** We still need to add a border to the map and a cartographer's block. It may be worth while to do an inset for Alaska and possibly Hawaii to allow us to zoom in on the map even more. It may also be interesting to look at poverty values for each of the states and see if there is a relationship between the amount of deaths and poverty rate. "
   ]
  },
  {
   "cell_type": "code",
   "execution_count": null,
   "id": "3a6d0993-a670-47a7-88f2-e414c1b11391",
   "metadata": {
    "tags": []
   },
   "outputs": [],
   "source": [
    "file_path = \"/home/jovyan/Project2/data/poverty_rate.xlsx\"\n",
    "\n",
    "# Row numbers where each table's header starts\n",
    "header_rows = [5, 58, 111, 164, 217, 270, 323, 376, 429, 482,\n",
    "               535, 588, 641, 694, 747, 800, 853, 906, 959,\n",
    "               1012, 1065, 1118, 1171, 1224, 1277, 1330, 1383,\n",
    "               1436, 1489, 1542, 1595, 1648, 1701, 1754, 1807,\n",
    "               1860, 1913, 1966, 2019, 2072, 2125, 2178, 2231,\n",
    "               2284, 2337, 2390, 2443]\n",
    "\n",
    "# Number of rows per table (≈ 53 states + 1 header)\n",
    "nrows = 54\n",
    "\n",
    "# Store tables\n",
    "tables = []\n",
    "\n",
    "for i, start_row in enumerate(header_rows):\n",
    "    # Read each table\n",
    "    df = pd.read_excel(file_path, skiprows=start_row - 1, nrows=nrows)\n",
    "    \n",
    "    # Skip if not a valid table\n",
    "    if df.empty or \"State\" not in df.columns[0]:\n",
    "        continue\n",
    "\n",
    "    # Clean columns\n",
    "    df.columns = [\n",
    "        \"State\", \"Total_population\", \"Number_in_poverty\",\n",
    "        \"MOE_population\", \"Percent_in_poverty\", \"MOE_percent\"\n",
    "    ]\n",
    "\n",
    "    # Get year (usually the row before the header)\n",
    "    year_cell = pd.read_excel(file_path, skiprows=start_row - 3, nrows=1).iloc[0, 0]\n",
    "    year_match = re.search(r'(\\d{4})', str(year_cell))\n",
    "    if year_match:\n",
    "        year = int(year_match.group(1))\n",
    "    else:\n",
    "        continue\n",
    "\n",
    "\n",
    "    df[\"Year\"] = year\n",
    "    tables.append(df)\n",
    "\n",
    "# Combine all tables\n",
    "poverty_all = pd.concat(tables, ignore_index=True)\n",
    "\n",
    "# Filter to 1999–2020\n",
    "poverty_filtered = poverty_all[(poverty_all[\"Year\"] >= 1999) & (poverty_all[\"Year\"] <= 2020)]\n",
    "\n"
   ]
  },
  {
   "cell_type": "code",
   "execution_count": null,
   "id": "896ad566-4928-4e2b-8c43-257b66054366",
   "metadata": {},
   "outputs": [],
   "source": [
    "poverty_filtered = poverty_filtered.copy()\n",
    "poverty_filtered['Year'] = poverty_filtered['Year'].astype(str).str.extract(r'(\\d{4})')[0].astype(int)\n",
    "\n",
    "\n",
    "# filter for 1999–2020, these numbers are in thousands\n",
    "poverty_filtered = poverty_filtered.query('1999 <= Year <= 2020')\n",
    "poverty_filtered = poverty_filtered[~poverty_filtered['State'].str.match(r'^\\d{4}')]\n",
    "poverty_filtered.head()"
   ]
  },
  {
   "cell_type": "code",
   "execution_count": null,
   "id": "17c2a547-29e2-4c0f-8f3d-dd41b1b4f5bc",
   "metadata": {},
   "outputs": [],
   "source": [
    "# poverty_filtered[\"Total_population\"] = pd.to_numeric(\n",
    "#     poverty_filtered[\"Total_population\"], errors=\"coerce\"\n",
    "# )\n",
    "# poverty_filtered[\"Number_in_poverty\"] = pd.to_numeric(\n",
    "#     poverty_filtered[\"Number_in_poverty\"], errors=\"coerce\"\n",
    "# )\n",
    "poverty_filtered[\"Percent_in_poverty\"] = pd.to_numeric(poverty_filtered[\"Percent_in_poverty\"], errors=\"coerce\")\n",
    "poverty_filtered.head(10)\n"
   ]
  },
  {
   "cell_type": "code",
   "execution_count": null,
   "id": "18bdb401-f872-4b51-b3f0-02178ce55b59",
   "metadata": {},
   "outputs": [],
   "source": [
    "state_totals = (\n",
    "    poverty_filtered.groupby(\"State\")[\"Percent_in_poverty\"]\n",
    "    .mean()\n",
    "    .reset_index(name=\"Poverty_percent\")\n",
    ")\n"
   ]
  },
  {
   "cell_type": "code",
   "execution_count": null,
   "id": "9fb5f263-ecf7-414e-82a4-e9f5e0e4c6cf",
   "metadata": {},
   "outputs": [],
   "source": [
    "state_totals.head()"
   ]
  },
  {
   "cell_type": "code",
   "execution_count": null,
   "id": "d295d00d-8bd9-4f5a-9b68-2e577ec52f72",
   "metadata": {},
   "outputs": [],
   "source": [
    "state_totals = state_totals.rename(columns={'State': 'NAME'})\n",
    "state_totals['NAME'] = state_totals['NAME'].str.strip().str.upper()\n",
    "gdf['NAME'] = gdf['NAME'].str.strip().str.upper()\n"
   ]
  },
  {
   "cell_type": "code",
   "execution_count": null,
   "id": "a7db567f-874a-43f8-871d-11175113ee53",
   "metadata": {},
   "outputs": [],
   "source": [
    "# Merge into gdf\n",
    "gdf = gdf.merge(state_totals[['NAME','Poverty_percent']], \n",
    "                on='NAME', \n",
    "                how='left')\n"
   ]
  },
  {
   "cell_type": "code",
   "execution_count": null,
   "id": "2f8b24f9-aba0-4cd5-b7d8-49f242e52281",
   "metadata": {},
   "outputs": [],
   "source": [
    "gdf.head()"
   ]
  },
  {
   "cell_type": "code",
   "execution_count": null,
   "id": "2070df3f-54f3-45e8-a88b-449148723aea",
   "metadata": {
    "tags": []
   },
   "outputs": [],
   "source": [
    "gdf.to_file(\"/home/jovyan/Project2/data/final_file.shp\")"
   ]
  },
  {
   "cell_type": "code",
   "execution_count": null,
   "id": "c81c528c-b94c-4c0b-8a0a-b90efc92d391",
   "metadata": {
    "tags": []
   },
   "outputs": [],
   "source": [
    "fig, axes = plt.subplots(3, 1, figsize=(12, 20))  # 3 rows, 1 column\n",
    "\n",
    "# 1. Poverty Percent\n",
    "norm_pov = colors.Normalize(vmin=gdf['Poverty_percent'].min(),\n",
    "                            vmax=gdf['Poverty_percent'].max())\n",
    "\n",
    "gdf.plot(\n",
    "    column='Poverty_percent',\n",
    "    cmap='OrRd',\n",
    "    linewidth=0.8,\n",
    "    edgecolor='black',\n",
    "    legend=True,\n",
    "    legend_kwds={'label': \"Poverty Percent\"},\n",
    "    ax=axes[0],\n",
    "    norm=norm_pov\n",
    ")\n",
    "axes[0].set_title(\"Avg Poverty Percent by State (1999-2020)\")\n",
    "axes[0].axis('off')\n",
    "axes[0].set_xlim(-170, -65)\n",
    "axes[0].set_ylim(18, 72)\n",
    "\n",
    "# 2. Cold Death Rate\n",
    "norm_cold = colors.Normalize(vmin=gdf['cold_rate'].min(),\n",
    "                             vmax=gdf['cold_rate'].max())\n",
    "\n",
    "gdf.plot(\n",
    "    column='cold_rate',\n",
    "    cmap='Blues',\n",
    "    linewidth=0.8,\n",
    "    edgecolor='black',\n",
    "    legend=True,\n",
    "    legend_kwds={'label': \"Cold Death Rate (per 100k)\"},\n",
    "    ax=axes[1],\n",
    "    norm=norm_cold\n",
    ")\n",
    "axes[1].set_title(\"Total Cold Death Rate by State (1999-2020)\")\n",
    "axes[1].axis('off')\n",
    "axes[1].set_xlim(-170, -65)\n",
    "axes[1].set_ylim(18, 72)\n",
    "\n",
    "# 3. Heat Death Rate\n",
    "norm_heat = colors.Normalize(vmin=gdf['heat_rate'].min(),\n",
    "                             vmax=gdf['heat_rate'].max())\n",
    "\n",
    "gdf.plot(\n",
    "    column='heat_rate',\n",
    "    cmap='Reds',\n",
    "    linewidth=0.8,\n",
    "    edgecolor='black',\n",
    "    legend=True,\n",
    "    legend_kwds={'label': \"Heat Death Rate (per 100k)\"},\n",
    "    ax=axes[2],\n",
    "    norm=norm_heat\n",
    ")\n",
    "axes[2].set_title(\"Total Heat Death Rate by State 1999-2020\")\n",
    "axes[2].axis('off')\n",
    "axes[2].set_xlim(-170, -65)\n",
    "axes[2].set_ylim(18, 72)\n",
    "\n",
    "plt.tight_layout()\n",
    "plt.show()"
   ]
  },
  {
   "cell_type": "markdown",
   "id": "6657886d-4d53-416d-9078-f6c9891d1293",
   "metadata": {},
   "source": [
    "## 4th Revision \n",
    "\n",
    "We have now tied in poverty to a choropleth, but not sure this shows us much. It might look better as a scatter plot showing cold deaths and heat deaths - to see if there is a relationship or not. This data was given in an Excel file with different tables for each year, so we had to concatenate multiple tables from each sheet to put them into one DataFrame and then filtered that for the years that we wanted. We then summed the population and people in poverty counts for each state and merged this table with our GeoDataFrame from earlier to get all our data into on GeoDataFrame.\n",
    "\n",
    "At this point we have done most of the calculations we can. For the final revision, we think it would be best to have the (1) choropleth with differences in death rates, (2) a bar charts comparing cold days versus hot days, (3) another bar chart comparing cold and heat related mortality rates, (4) and a scatter plot of the poverty percentage vs total deaths for each state.\n",
    "\n",
    "**Critique:** We realized that we have not tansformed the crs. We will convert this to EPSG:5070 to keep the states in reasonable proportions. We will fine tune each of these plots for the final visuals."
   ]
  },
  {
   "cell_type": "code",
   "execution_count": null,
   "id": "920d7c0e-1cea-4d07-96e0-3009f7c91479",
   "metadata": {},
   "outputs": [],
   "source": [
    "gdf = gpd.read_file(\"/home/jovyan/Project2/data/final_file.shp\")"
   ]
  },
  {
   "cell_type": "code",
   "execution_count": null,
   "id": "c3603ac4-1319-4b16-914d-381ef747978b",
   "metadata": {},
   "outputs": [],
   "source": [
    "gdf.head()"
   ]
  },
  {
   "cell_type": "code",
   "execution_count": null,
   "id": "4694e2fb-b1b6-457b-977e-391fcf92a0ed",
   "metadata": {},
   "outputs": [],
   "source": [
    "corr = gdf['death_rate'].corr(gdf['Poverty_pe'])\n",
    "print(f\"Correlation between poverty percent and death rate difference: {corr:.3f}\")"
   ]
  },
  {
   "cell_type": "code",
   "execution_count": null,
   "id": "b116da05-f580-4714-8bd3-94c239e52c3d",
   "metadata": {},
   "outputs": [],
   "source": [
    "corr = gdf['cold_rate'].corr(gdf['Poverty_pe'])\n",
    "print(f\"Correlation between poverty percent and cold death rate difference: {corr:.3f}\")"
   ]
  },
  {
   "cell_type": "code",
   "execution_count": null,
   "id": "963401dd-6467-43f3-bb0a-98d7563fbf6d",
   "metadata": {},
   "outputs": [],
   "source": [
    "corr = gdf['heat_rate'].corr(gdf['Poverty_pe'])\n",
    "print(f\"Correlation between poverty percent and heat death rate difference: {corr:.3f}\")"
   ]
  },
  {
   "cell_type": "code",
   "execution_count": null,
   "id": "7ea69dd6-44f5-4548-9d19-c2e86a21b03e",
   "metadata": {
    "tags": []
   },
   "outputs": [],
   "source": [
    "# Set style\n",
    "sns.set(style=\"whitegrid\")\n",
    "\n",
    "fig, axes = plt.subplots(2, 1, figsize=(8, 12), sharex=True)\n",
    "\n",
    "# Cold death rate\n",
    "sns.regplot(\n",
    "    x='Poverty_pe', \n",
    "    y='cold_rate', \n",
    "    data=gdf,\n",
    "    ax=axes[0],\n",
    "    scatter_kws={'s':50, 'color':'cyan'},\n",
    "    line_kws={'color':'red'}\n",
    ")\n",
    "axes[0].set_title(\"Poverty Percent vs Cold Death Rate\")\n",
    "axes[0].set_ylabel(\"Cold Death Rate (per 100k)\")\n",
    "# Calculate correlation\n",
    "corr_cold = gdf['cold_rate'].corr(gdf['Poverty_pe'])\n",
    "axes[0].text(\n",
    "    0.05, 0.9, f'r = {corr_cold:.3f}', \n",
    "    transform=axes[0].transAxes, \n",
    "    fontsize=12, \n",
    "    bbox=dict(facecolor='white', alpha=0.5)\n",
    ")\n",
    "\n",
    "# Heat death rate\n",
    "sns.regplot(\n",
    "    x='Poverty_pe', \n",
    "    y='heat_rate', \n",
    "    data=gdf,\n",
    "    ax=axes[1],\n",
    "    scatter_kws={'s':50, 'color':'orange'},\n",
    "    line_kws={'color':'red'}\n",
    ")\n",
    "axes[1].set_title(\"Poverty Percent vs Heat Death Rate\")\n",
    "axes[1].set_xlabel(\"Poverty Percent (%)\")\n",
    "axes[1].set_ylabel(\"Heat Death Rate (per 100k)\")\n",
    "# Calculate correlation\n",
    "corr_heat = gdf['heat_rate'].corr(gdf['Poverty_pe'])\n",
    "axes[1].text(\n",
    "    0.05, 0.9, f'r = {corr_heat:.3f}', \n",
    "    transform=axes[1].transAxes, \n",
    "    fontsize=12, \n",
    "    bbox=dict(facecolor='white', alpha=0.5)\n",
    ")\n",
    "\n",
    "plt.tight_layout()\n",
    "plt.show()\n",
    "\n",
    "\n"
   ]
  },
  {
   "cell_type": "markdown",
   "id": "c4488cb3-92ff-4294-9ff6-eb4c58f5c959",
   "metadata": {},
   "source": [
    "**Interesting Insight:** There seems to be a positive correlation between poverty percent and heat death rates but a negative correlation between cold death rates and poverty percent. Maybe people who live in poverty don't have as much access to air conditioning, but are able to access heat?"
   ]
  },
  {
   "cell_type": "code",
   "execution_count": null,
   "id": "5eab3011-ce18-44d5-affe-1d02a20f01fb",
   "metadata": {},
   "outputs": [],
   "source": [
    "# Create spatial weights based on contiguity (neighboring states)\n",
    "w = libpysal.weights.Queen.from_dataframe(gdf)\n",
    "w.transform = 'r'  # row-standardize\n",
    "\n",
    "# Compute Moran’s I for death rate difference\n",
    "moran_death = Moran(gdf['death_rate'], w)\n",
    "print(f\"Moran's I for death_rate_diff: {moran_death.I:.3f}, p-value: {moran_death.p_sim:.4f}\")"
   ]
  },
  {
   "cell_type": "code",
   "execution_count": null,
   "id": "5a6390a1-e3dd-40fc-a111-f520e074d5c9",
   "metadata": {},
   "outputs": [],
   "source": [
    "# Create spatial weights based on contiguity (neighboring states)\n",
    "w = libpysal.weights.Queen.from_dataframe(gdf)\n",
    "w.transform = 'r'  # row-standardize\n",
    "\n",
    "# Compute Moran’s I for cold rate difference\n",
    "moran_death = Moran(gdf['cold_rate'], w)\n",
    "print(f\"Moran's I for cold_rate: {moran_death.I:.3f}, p-value: {moran_death.p_sim:.4f}\")"
   ]
  },
  {
   "cell_type": "code",
   "execution_count": null,
   "id": "8a56b395-44e6-496c-ab8e-3798eb8c66e1",
   "metadata": {},
   "outputs": [],
   "source": [
    "# Create spatial weights based on contiguity (neighboring states)\n",
    "w = libpysal.weights.Queen.from_dataframe(gdf)\n",
    "w.transform = 'r'  # row-standardize\n",
    "\n",
    "# Compute Moran’s I for heat rate\n",
    "moran_death = Moran(gdf['heat_rate'], w)\n",
    "print(f\"Moran's I for heat_rate: {moran_death.I:.3f}, p-value: {moran_death.p_sim:.4f}\")"
   ]
  },
  {
   "cell_type": "markdown",
   "id": "2b4d192c-b71d-40c6-89bb-ea782cdbe4d4",
   "metadata": {},
   "source": [
    "**Moran's I Analysis:** We ran Moran's I analysis on the death rate difference (cold-hot), cold death rate, and heat death rate to check and see if neighbors nearby have similar values. Moran's I was positive for all three which tells us that each value for the states are clustered near eachother. Also, the p-value was less than 0.05 which means the clustering is not random."
   ]
  },
  {
   "cell_type": "code",
   "execution_count": null,
   "id": "3181507f-8288-4b65-803a-fe194c5bbc10",
   "metadata": {
    "tags": []
   },
   "outputs": [],
   "source": [
    "gdf = gdf.to_crs(\"EPSG:5070\")\n",
    "gdf.head()"
   ]
  },
  {
   "cell_type": "code",
   "execution_count": null,
   "id": "70fb1ca3-b97c-46f1-85f3-8646f80de780",
   "metadata": {
    "jupyter": {
     "outputs_hidden": true
    },
    "tags": []
   },
   "outputs": [],
   "source": [
    "gdf.crs"
   ]
  },
  {
   "cell_type": "markdown",
   "id": "0ac947a7-36c8-4c93-9da6-c7e667c6f9a7",
   "metadata": {},
   "source": [
    "# Final Visuals (before prototype/development)"
   ]
  },
  {
   "cell_type": "markdown",
   "id": "50185fcf-2454-45ca-b8c4-264258363203",
   "metadata": {},
   "source": [
    "## Hypothesis Restated:\n",
    "\n",
    "### Across the United States, mortality rates associated with cold weather are higher than mortality rates associated with hot weather."
   ]
  },
  {
   "cell_type": "code",
   "execution_count": null,
   "id": "32d30822-58e6-41da-9386-b5b83b2a70b1",
   "metadata": {
    "tags": []
   },
   "outputs": [],
   "source": [
    "# Separate contiguous US, Alaska, Hawaii for insets\n",
    "contig = gdf[~gdf['FIPS'].isin(['02', '15'])]  # exclude Alaska (02) and Hawaii (15)\n",
    "alaska = gdf[gdf['FIPS'] == '02']\n",
    "hawaii = gdf[gdf['FIPS'] == '15']\n",
    "\n",
    "# Create figure\n",
    "fig = plt.figure(figsize=(16, 42))  # taller figure\n",
    "\n",
    "# -----------------------------\n",
    "# 1️⃣ Death Rate Choropleth\n",
    "# -----------------------------\n",
    "ax_main = fig.add_axes([0.05, 0.75, 0.9, 0.22])\n",
    "norm = colors.TwoSlopeNorm(vmin=gdf['death_rate'].min(),\n",
    "                           vcenter=0,\n",
    "                           vmax=gdf['death_rate'].max())\n",
    "plot = contig.plot(\n",
    "    column='death_rate', \n",
    "    cmap='bwr_r', \n",
    "    linewidth=0.8, \n",
    "    edgecolor='black', \n",
    "    legend=True,\n",
    "    legend_kwds={'label': \"Cold Mortality Rate - Heat Mortality Rate (per 100k)\"},\n",
    "    ax=ax_main,\n",
    "    norm=norm\n",
    ")\n",
    "ax_main.axis('off')\n",
    "\n",
    "# Move the colorbar manually\n",
    "cbar = plot.get_figure().axes[-1]  # the colorbar is usually the last axes\n",
    "cbar.set_position([0.81, 0.715, 0.03, 0.24])  # [left, bottom, width, height] in figure coords\n",
    "\n",
    "# Move the title above the rectangle\n",
    "fig.text(\n",
    "    0.1, 0.965, \n",
    "    \"Difference between Cold and Heat Related Mortality Rate by State (1999-2020)\", \n",
    "    fontsize=16, \n",
    "    fontweight='bold',\n",
    "    ha='left'\n",
    ")\n",
    "\n",
    "ax_main.axis('off')\n",
    "\n",
    "# Alaska inset\n",
    "ax_ak = fig.add_axes([0.05, 0.69, 0.2, 0.12])\n",
    "alaska.plot(column='death_rate', cmap='bwr_r', linewidth=0.8, edgecolor='black', ax=ax_ak, norm=norm)\n",
    "ax_ak.axis('off')\n",
    "# Label at the bottom\n",
    "ax_ak.text(\n",
    "    0.5, -0.05, \"Alaska\", \n",
    "    ha='center', va='top', fontsize=10, transform=ax_ak.transAxes\n",
    ")\n",
    "\n",
    "# Hawaii inset (moved slightly up)\n",
    "ax_hi = fig.add_axes([0.28, 0.725, 0.06, 0.04])\n",
    "hawaii.plot(column='death_rate', cmap='bwr_r', linewidth=0.8, edgecolor='black', ax=ax_hi, norm=norm)\n",
    "ax_hi.axis('off')\n",
    "# Label at the bottom\n",
    "ax_hi.text(\n",
    "    0.5, -0.1, \"Hawaii\", \n",
    "    ha='center', va='top', fontsize=10, transform=ax_hi.transAxes\n",
    ")\n",
    "\n",
    "# Rectangle around both insets, aligned with main map rectangle\n",
    "rect_insets = patches.Rectangle(\n",
    "    (0.04, 0.715),  # lower-left corner slightly above bottom of main rectangle\n",
    "    0.34,           # width to cover both Alaska + Hawaii\n",
    "    0.065,           # height to fit insets nicely\n",
    "    linewidth=2,\n",
    "    edgecolor='black',\n",
    "    facecolor='none',\n",
    "    transform=fig.transFigure\n",
    ")\n",
    "fig.patches.append(rect_insets)\n",
    "\n",
    "# Main rectangle around map + insets (unchanged)\n",
    "rect = patches.FancyBboxPatch(\n",
    "    (0.04, 0.715),   # lower-left corner\n",
    "    0.74,            # width\n",
    "    0.24,            # height\n",
    "    boxstyle=\"square,pad=0\",\n",
    "    fill=False,\n",
    "    linewidth=2,\n",
    "    edgecolor='black',\n",
    "    transform=fig.transFigure\n",
    ")\n",
    "fig.patches.append(rect)\n",
    "\n",
    "# North arrow\n",
    "ax_main.annotate(\n",
    "    'N', \n",
    "    xy=(0.97, 0.98),     # tip of the arrow\n",
    "    xytext=(0.97, 0.88), # tail of the arrow\n",
    "    arrowprops=dict(facecolor='black', width=3, headwidth=12),\n",
    "    ha='center', \n",
    "    va='center', \n",
    "    fontsize=12,\n",
    "    xycoords='axes fraction'\n",
    ")\n",
    "# Add text inside the rectangle\n",
    "info_text = (\n",
    "    \"CRS:EPSG:5070\\n\"\n",
    "    \"Sources: NOAA, CDC Wonder\\n\"\n",
    "    \"Cartographers: Tim Van Driel and Ted Toporkov\\n\"\n",
    "    \"Date: 10/13/2025\"\n",
    ")\n",
    "\n",
    "rect_info = patches.Rectangle(\n",
    "    (0.54, 0.715),  # slightly above bottom of figure\n",
    "    0.24,\n",
    "    0.02,\n",
    "    linewidth=1.5,\n",
    "    edgecolor='black',\n",
    "    facecolor='white',\n",
    "    transform=fig.transFigure\n",
    ")\n",
    "fig.patches.append(rect_info)\n",
    "\n",
    "fig.text(\n",
    "    0.55, 0.717,  # slightly inside rectangle\n",
    "    info_text,\n",
    "    fontsize=10,\n",
    "    va='bottom',\n",
    "    ha='left'\n",
    ")\n",
    "\n",
    "# -----------------------------\n",
    "# 2️⃣ Cold vs Hot Deaths by State\n",
    "# -----------------------------\n",
    "ax2 = fig.add_axes([0.05, 0.50, 0.9, 0.14])\n",
    "gdf_sorted = gdf.sort_values('cold_rate', ascending=False)\n",
    "states = gdf_sorted['STATE'] \n",
    "x = np.arange(len(states))\n",
    "width = 0.4\n",
    "ax2.bar(x - width/2, gdf_sorted['cold_rate'], width, label='Cold Mortality Rate', color='blue')\n",
    "ax2.bar(x + width/2, gdf_sorted['heat_rate'], width, label='Heat Mortality Rate', color='red')\n",
    "ax2.set_xticks(x)\n",
    "ax2.set_xticklabels(states, rotation=90)\n",
    "ax2.set_ylabel(\"Mortality Rate\")\n",
    "ax2.set_title(\"Cold vs Heat Mortality Rates by State (1999-2020)\")\n",
    "ax2.legend()\n",
    "\n",
    "# -----------------------------\n",
    "# 3️⃣ Cold vs Hot Days by State\n",
    "# -----------------------------\n",
    "ax3 = fig.add_axes([0.05, 0.32, 0.9, 0.14])\n",
    "ax3.bar(x - width/2, gdf_sorted['cold_days'], width, label='Days below 0°C', color='blue')\n",
    "ax3.bar(x + width/2, gdf_sorted['hot_days'], width, label='Days above 32°C', color='red')\n",
    "ax3.set_xticks(x)\n",
    "ax3.set_xticklabels(states, rotation=90)\n",
    "ax3.set_ylabel(\"Number of Days\")\n",
    "ax3.set_title(\"Cold vs Hot Days by State (1999-2020(\")\n",
    "ax3.legend()\n",
    "\n",
    "# -----------------------------\n",
    "# 4️⃣ Poverty Percent vs Cold Death Rate\n",
    "# -----------------------------\n",
    "ax4 = fig.add_axes([0.05, 0.16, 0.9, 0.12])\n",
    "sns.regplot(\n",
    "    x='Poverty_pe',\n",
    "    y='cold_rate',\n",
    "    data=gdf,\n",
    "    ax=ax4,\n",
    "    scatter_kws={'s':50, 'color':'blue'},\n",
    "    line_kws={'color':'red'}\n",
    ")\n",
    "ax4.set_title(\"Poverty Percent vs Cold Death Rate (1999-2020)\")\n",
    "ax4.set_ylabel(\"Cold Death Rate (per 100k)\")\n",
    "ax4.set_xlabel(\"Poverty Percent (%)\")\n",
    "corr_cold = gdf['cold_rate'].corr(gdf['Poverty_pe'])\n",
    "ax4.text(0.05, 0.9, f'r = {corr_cold:.3f}', transform=ax4.transAxes,\n",
    "         fontsize=12, bbox=dict(facecolor='white', alpha=0.5))\n",
    "\n",
    "# -----------------------------\n",
    "# 5️⃣ Poverty Percent vs Heat Death Rate\n",
    "# -----------------------------\n",
    "ax5 = fig.add_axes([0.05, 0.02, 0.9, 0.12])\n",
    "sns.regplot(\n",
    "    x='Poverty_pe',\n",
    "    y='heat_rate',\n",
    "    data=gdf,\n",
    "    ax=ax5,\n",
    "    scatter_kws={'s':50, 'color':'red'},\n",
    "    line_kws={'color':'red'}\n",
    ")\n",
    "ax5.set_title(\"Poverty Percent vs Heat Death Rate (1999-2020)\")\n",
    "ax5.set_xlabel(\"Poverty Percent (%)\")\n",
    "ax5.set_ylabel(\"Heat Death Rate (per 100k)\")\n",
    "corr_heat = gdf['heat_rate'].corr(gdf['Poverty_pe'])\n",
    "ax5.text(0.05, 0.9, f'r = {corr_heat:.3f}', transform=ax5.transAxes,\n",
    "         fontsize=12, bbox=dict(facecolor='white', alpha=0.5))\n",
    "\n",
    "plt.show()"
   ]
  },
  {
   "cell_type": "code",
   "execution_count": null,
   "id": "fde267d5-e504-4a69-9ade-e5cbe66d305e",
   "metadata": {
    "tags": []
   },
   "outputs": [],
   "source": [
    "print(f\"The total mortality rate for cold related deaths from 1999-2020 is {gdf['cold_rate'].sum():.2f}\")\n",
    "print(f\"The total mortality rate for heat related deaths from 1999-2020 is {gdf['heat_rate'].sum():.2f}\")"
   ]
  },
  {
   "cell_type": "markdown",
   "id": "5f27ec0b-23ed-461d-a199-0988291d3e3c",
   "metadata": {},
   "source": [
    "### Comments from Jesse & the class\n",
    "\n",
    "After reviewing our visuals with the class, there were a few things noted that we could address.\n",
    "\n",
    "- We should reorder the plots of the final visuals, so that we work up to our final plot, telling a story.\n",
    "- It was suggested to show mean mortality per year rather than the cumulative deaths for our 21-year study period.\n",
    "- It would also be interesting to plot the choropleth in Leaflet to allow hover funcitonality. Viewers could then see the mortality rates due to heat and cold as tooltips.\n",
    "- It was also suggested that we look at mortality rates by age group which shouldn't be too difficult.\n",
    "- Lastly, we may want to play around with the legend and colors used in the final plot to enhance the contrast."
   ]
  },
  {
   "cell_type": "code",
   "execution_count": null,
   "id": "c1d1cad8-10ba-4030-ab50-76f99cef1a35",
   "metadata": {},
   "outputs": [],
   "source": [
    "gdf = gpd.read_file(\"/home/jovyan/Project2/data/final_file.shp\")\n",
    "gdf.head()"
   ]
  },
  {
   "cell_type": "code",
   "execution_count": null,
   "id": "2026506f-6167-47ca-a865-7375123b0ef0",
   "metadata": {},
   "outputs": [],
   "source": [
    "gdf['cold_rate']=gdf['cold_rate'] / 21\n",
    "gdf['heat_rate']=gdf['heat_rate'] / 21\n",
    "gdf['death_rate']= gdf['cold_rate']-gdf['heat_rate']\n",
    "gdf['cold_days']=gdf['cold_days'] / 21\n",
    "gdf['hot_days']=gdf['hot_days'] / 21\n",
    "gdf.head()\n"
   ]
  },
  {
   "cell_type": "markdown",
   "id": "1418d4d9-ac8d-42d5-9a4b-0ff2765ac2f1",
   "metadata": {},
   "source": [
    "Converted rates to average over the 21 years for better units"
   ]
  },
  {
   "cell_type": "code",
   "execution_count": null,
   "id": "c3aa4b68-7b96-44e3-8190-af7cc43026c2",
   "metadata": {},
   "outputs": [],
   "source": [
    "# Create spatial weights based on contiguity (neighboring states)\n",
    "w = libpysal.weights.Queen.from_dataframe(gdf)\n",
    "w.transform = 'r'  # row-standardize\n",
    "\n",
    "# Compute Moran’s I for death rate difference\n",
    "moran_death = Moran(gdf['death_rate'], w)\n",
    "print(f\"Moran's I for death_rate_diff: {moran_death.I:.3f}, p-value: {moran_death.p_sim:.4f}\")\n",
    "\n",
    "moran_death = Moran(gdf['cold_rate'], w)\n",
    "print(f\"Moran's I for cold_rate: {moran_death.I:.3f}, p-value: {moran_death.p_sim:.4f}\")\n",
    "\n",
    "moran_death = Moran(gdf['heat_rate'], w)\n",
    "print(f\"Moran's I for heat_rate: {moran_death.I:.3f}, p-value: {moran_death.p_sim:.4f}\")"
   ]
  },
  {
   "cell_type": "code",
   "execution_count": null,
   "id": "62515407-b4d0-4aea-83c8-c65b7e9997dd",
   "metadata": {},
   "outputs": [],
   "source": [
    "heat_age_df =pd.read_csv(\"/home/jovyan/project2/data/mcod_heat_age.csv\")\n",
    "cold_age_df =pd.read_csv(\"/home/jovyan/project2/data/mcod_cold_age.csv\")"
   ]
  },
  {
   "cell_type": "code",
   "execution_count": null,
   "id": "14f057e7-7142-42ec-9813-2463d0e725b5",
   "metadata": {},
   "outputs": [],
   "source": [
    "heat_age_gdf.head(n=10)"
   ]
  },
  {
   "cell_type": "code",
   "execution_count": null,
   "id": "6778fb90-3187-4205-b7e9-0bd409092d49",
   "metadata": {},
   "outputs": [],
   "source": [
    "cold_age_gdf.head()"
   ]
  },
  {
   "cell_type": "code",
   "execution_count": null,
   "id": "086d292f-bc51-4f35-a70a-02c45f4b267a",
   "metadata": {},
   "outputs": [],
   "source": [
    "heat_age_df['Deaths']=pd.to_numeric(heat_age_df['Deaths'], errors=\"coerce\")\n",
    "cold_age_df['Deaths']=pd.to_numeric(cold_age_df['Deaths'], errors=\"coerce\")"
   ]
  },
  {
   "cell_type": "code",
   "execution_count": null,
   "id": "2c7136f4-7891-4acc-b9d7-85726f21ec00",
   "metadata": {},
   "outputs": [],
   "source": [
    "cold_max_df = (\n",
    "    cold_age_df.groupby('State')\n",
    "    .apply(lambda df: df.loc[df['Deaths'].idxmax()])\n",
    "    .reset_index(drop=True)\n",
    ")\n",
    "cold_max_df.head()"
   ]
  },
  {
   "cell_type": "code",
   "execution_count": null,
   "id": "1eb96b41-fb05-4ec4-ae56-57f32a2f4b8f",
   "metadata": {},
   "outputs": [],
   "source": [
    "heat_max_df = (\n",
    "    heat_age_df.groupby('State')\n",
    "    .apply(lambda df: df.loc[df['Deaths'].idxmax()])\n",
    "    .reset_index(drop=True)\n",
    ")\n",
    "heat_max_df.head()"
   ]
  },
  {
   "cell_type": "code",
   "execution_count": null,
   "id": "ddb2531c-9659-48e5-adcd-39b1fcc07d08",
   "metadata": {},
   "outputs": [],
   "source": [
    "states= gpd.read_file(\"/home/jovyan/project2/data/states\")\n",
    "states = states.to_crs(\"EPSG:5070\")\n",
    "states.head()"
   ]
  },
  {
   "cell_type": "code",
   "execution_count": null,
   "id": "ef5845fb-77d2-461c-a068-257d6710d23f",
   "metadata": {},
   "outputs": [],
   "source": [
    "heat_max_df[\"State Code\"] = (heat_max_df[\"State Code\"].astype(str).str.replace(\".0\", \"\", regex=False).str.zfill(2))\n",
    "heat_max_df.rename(columns={\"State Code\":\"FIPS\"}, inplace=True)\n",
    "gdf_heat_age = states.merge(heat_max_df, on=\"FIPS\", how=\"left\")\n",
    "cold_max_df[\"State Code\"] = (cold_max_df[\"State Code\"].astype(str).str.replace(\".0\", \"\", regex=False).str.zfill(2))\n",
    "cold_max_df.rename(columns={\"State Code\":\"FIPS\"}, inplace=True)\n",
    "gdf_cold_age = states.merge(cold_max_df, on=\"FIPS\", how=\"left\")\n",
    "# states[\"FIPS\"] = states[\"FIPS\"].astype(str).str.zfill(2)\n",
    "# gdf = states.merge(merged, on=\"FIPS\", how=\"left\")"
   ]
  },
  {
   "cell_type": "code",
   "execution_count": null,
   "id": "715920fa-dbd0-4fbc-b724-f8f1adf734f7",
   "metadata": {},
   "outputs": [],
   "source": [
    "gdf_heat_age.head()"
   ]
  },
  {
   "cell_type": "code",
   "execution_count": null,
   "id": "18e14cd6-312b-49bc-be9d-452328715d70",
   "metadata": {},
   "outputs": [],
   "source": [
    "gdf_cold_age.head()"
   ]
  },
  {
   "cell_type": "code",
   "execution_count": null,
   "id": "ff500beb-c18f-4b56-9bb8-4d7af7b13c24",
   "metadata": {
    "tags": []
   },
   "outputs": [],
   "source": [
    "# Drop rows without geometries\n",
    "gdf_cold_age = gdf_cold_age.dropna(subset=['geometry'])\n",
    "gdf_heat_age = gdf_heat_age.dropna(subset=['geometry'])\n",
    "\n",
    "# Drop rows without valid age groups\n",
    "gdf_cold_age = gdf_cold_age.dropna(subset=['Ten-Year Age Groups'])\n",
    "gdf_heat_age = gdf_heat_age.dropna(subset=['Ten-Year Age Groups'])\n",
    "\n",
    "# Ensure all are strings\n",
    "gdf_cold_age['Ten-Year Age Groups'] = gdf_cold_age['Ten-Year Age Groups'].astype(str)\n",
    "gdf_heat_age['Ten-Year Age Groups'] = gdf_heat_age['Ten-Year Age Groups'].astype(str)\n",
    "\n",
    "# Sort age groups logically (by numeric start or handle special cases)\n",
    "def sort_key(age):\n",
    "    if '<' in age:\n",
    "        return -1\n",
    "    if '85' in age:\n",
    "        return 100\n",
    "    match = re.search(r'\\d+', age)\n",
    "    return int(match.group()) if match else 999\n",
    "\n",
    "# Define any age groups you want to always include\n",
    "missing_groups = {\"25-34\", \"35-44\"}\n",
    "\n",
    "# Combine all unique groups + the ones you want to include\n",
    "age_groups = sorted(\n",
    "    set(gdf_cold_age['Ten-Year Age Groups'])\n",
    "    .union(gdf_heat_age['Ten-Year Age Groups'])\n",
    "    .union(missing_groups),\n",
    "    key=sort_key\n",
    ")\n",
    "\n",
    "# Assign colors in order\n",
    "colors_list = plt.cm.tab20.colors\n",
    "age_color_map = dict(zip(age_groups, colors_list[:len(age_groups)]))\n",
    "\n",
    "# Apply color, black for zero deaths\n",
    "def get_color(row):\n",
    "    if row['Deaths'] == 0:\n",
    "        return 'black'\n",
    "    return age_color_map.get(row['Ten-Year Age Groups'], 'gray')\n",
    "\n",
    "gdf_cold_age['color'] = gdf_cold_age.apply(get_color, axis=1)\n",
    "gdf_heat_age['color'] = gdf_heat_age.apply(get_color, axis=1)\n",
    "\n",
    "# Plot\n",
    "fig, (ax1, ax2) = plt.subplots(1, 2, figsize=(18, 10))\n",
    "\n",
    "gdf_cold_age.plot(color=gdf_cold_age['color'], edgecolor='black', ax=ax1)\n",
    "ax1.set_title(\"Most Vulnerable Age Group to Cold Deaths (1999-2020)\")\n",
    "ax1.axis('off')\n",
    "\n",
    "gdf_heat_age.plot(color=gdf_heat_age['color'], edgecolor='black', ax=ax2)\n",
    "ax2.set_title(\"Most Vulnerable Age Group to Heat Deaths (1999-2020)\")\n",
    "ax2.axis('off')\n",
    "\n",
    "# Create ordered legend\n",
    "legend_patches = [patches.Patch(color=age_color_map[age], label=age) for age in age_groups]\n",
    "legend_patches.append(patches.Patch(color='black', label='No Data'))\n",
    "\n",
    "fig.legend(handles=legend_patches, loc='lower center', ncol=6)\n",
    "plt.tight_layout()\n",
    "plt.show()"
   ]
  },
  {
   "cell_type": "markdown",
   "id": "bc0abb8c-7703-43aa-acce-8ceed03e11a8",
   "metadata": {},
   "source": [
    "_Cold related deaths (left) heat related deaths (right)._\n",
    "\n",
    "**Analysis:** This map is a choropleth of the age group with the highest deaths for each state. To get this map we found the age group for each state with the most amount of deaths from 1999-2020 and merged them into a GeoDataFrame to add geometry for the values. This gives us an idea of which age group is most at risk for weather related deaths. States colored in black are no data because the values were suppressed for the age groups or 0. It'd be nice to scale down Alaska, and scale up Hawaii and then inset them for each of the maps."
   ]
  },
  {
   "cell_type": "code",
   "execution_count": null,
   "id": "c7559dcc-ceb9-485a-97c6-81459757d984",
   "metadata": {},
   "outputs": [],
   "source": [
    "print(f\"Average mortality rate for cold related deaths across the US from 1999-2020: {gdf['cold_rate'].sum():.2f}\")\n",
    "print(f\"Average mortality rate for heat related deaths across the US from 1999-2020: {gdf['heat_rate'].sum():.2f}\")"
   ]
  },
  {
   "cell_type": "code",
   "execution_count": null,
   "id": "6a0a78f0-47b1-4c0e-806f-cee31ea9b45a",
   "metadata": {},
   "outputs": [],
   "source": [
    "gdf.to_file(\"/home/jovyan/project2/data/final_file2.shp\")"
   ]
  },
  {
   "cell_type": "markdown",
   "id": "55d74ff2-6d3d-47d7-a47c-4a8f1ca4f859",
   "metadata": {},
   "source": [
    "## Introduction\n",
    "Extreme temperatures pose significant risks to people across the United States. Both cold and heat can lead to death, but these mortality rates are not equal. Which type of extreme temperature causes more deaths? Do socioeconomic conditions play a role? Are certain age groups more affected than others?\n",
    "\n",
    "This project aims to explore these questions by analyzing state level mortality data from 1999–2020, comparing deaths related to cold and heat across demographic and environmental factors. \n",
    "\n",
    "## **Hypothesis**:\n",
    "\n",
    "*Across the United States, mortality rates associated with cold weather are higher than mortality rates associated with hot weather.*\n"
   ]
  },
  {
   "cell_type": "markdown",
   "id": "f9f07e01-7aba-48e8-9489-b9f86e6cacee",
   "metadata": {},
   "source": [
    "## Data Explanation\n",
    "\n",
    "We obtained mortality data from **CDC WONDER**, querying the *Multiple Cause of Death (1999–2020)* database. This includes cases where exposure to extreme temperatures was either the **underlying cause** or a **contributing factor** of death.  \n",
    "\n",
    "**Cold-related deaths** were identified using the following ICD-10 codes:  \n",
    "- **X31:** Exposure to excessive natural cold  \n",
    "- **T68:** Hypothermia  \n",
    "\n",
    "**Heat-related deaths** were identified using:  \n",
    "- **X30:** Exposure to excessive natural heat  \n",
    "- **T67:** Effects of heat and light  \n",
    "\n",
    "For each state, we calculated the **average annual mortality rate** from 1999–2020 as:  \n",
    "\n",
    "**Average Mortality Rate** = ((Temperature related deaths / Total population) × 100,000) / 21\n",
    "\n",
    "This represents the **average number of deaths per 100,000 people per year** associated with the above ICD-10 codes.  \n",
    "\n",
    "Weather data were obtained from the [**PRISM Climate Group**](https://asmith-agdata.shinyapps.io/prism_downloader/_w_a6c5076cc76b4c3fb50f4b256b4bafb5/#tab-5484-1), which provides daily minimum, mean, and maximum temperature data for each state.  \n",
    "- **Cold days** were defined as those with a minimum temperature (**tmin**) below 0°C (32°F).  \n",
    "- **Hot days** were defined as those with a maximum temperature (**tmax**) above 32°C (89.4°F).  \n",
    "\n",
    "The number of hot and cold days per state was averaged across the 21-year period.  \n",
    "\n",
    "Finally, **poverty percentages** were derived from datasets published by the **U.S. Census Bureau**, representing the average poverty rate per state across the same time span.  \n"
   ]
  },
  {
   "cell_type": "markdown",
   "id": "e0521af9-d6d9-4e25-8eb7-d5a9f347ed9f",
   "metadata": {},
   "source": [
    "## Analysis"
   ]
  },
  {
   "cell_type": "code",
   "execution_count": null,
   "id": "d6716410-46f1-45d7-95e3-8f3d8bf98977",
   "metadata": {
    "tags": []
   },
   "outputs": [],
   "source": [
    "gdf = gpd.read_file(\"/home/jovyan/project2/data/final_file2.shp\")\n",
    "gdf_sorted = gdf.sort_values('cold_rate', ascending=False)\n",
    "states = gdf_sorted['STATE'] \n",
    "gdf_sorted.head()"
   ]
  },
  {
   "cell_type": "code",
   "execution_count": null,
   "id": "8cc6fa50-9f6e-4a42-ac27-982f8072e6bb",
   "metadata": {
    "tags": []
   },
   "outputs": [],
   "source": [
    "x = np.arange(len(states))\n",
    "width = 0.4\n",
    "\n",
    "fig, ax = plt.subplots(figsize=(16,6))\n",
    "ax.bar(x - width/2, gdf_sorted['cold_days'], width, label='Days below 0°C', color='blue')\n",
    "ax.bar(x + width/2, gdf_sorted['hot_days'], width, label='Days above 32°C', color='red')\n",
    "ax.set_xticks(x)\n",
    "ax.set_xticklabels(states, rotation=90)\n",
    "ax.set_ylabel(\"Average Number of Days\")\n",
    "ax.set_title(\"Average Cold vs Hot Days by State per year(1999-2020)\")\n",
    "ax.legend()\n",
    "plt.tight_layout()\n",
    "plt.show()"
   ]
  },
  {
   "cell_type": "markdown",
   "id": "ec29b964-0590-43bd-89fd-576056c022c2",
   "metadata": {},
   "source": [
    "This first plot is a simple bar chart comparing the average number of days below 0 degrees celsius (32 degrees farenheit) and above 32 degrees celsisus (89.4 degrees farenheit) for each state from 1999-2020. It seems that colder days are much more frequent than hot days."
   ]
  },
  {
   "cell_type": "code",
   "execution_count": null,
   "id": "c23bd341-0499-4e25-8216-703587089125",
   "metadata": {
    "tags": []
   },
   "outputs": [],
   "source": [
    "fig, ax = plt.subplots(figsize=(16,6))\n",
    "ax.bar(x - width/2, gdf_sorted['cold_rate'], width, label='Average Cold Mortality Rate', color='blue')\n",
    "ax.bar(x + width/2, gdf_sorted['heat_rate'], width, label='Average Heat Mortality Rate', color='red')\n",
    "ax.set_xticks(x)\n",
    "ax.set_xticklabels(states, rotation=90)\n",
    "ax.set_ylabel(\"Average Mortality Rate\")\n",
    "ax.set_title(\"Average Cold and Heat Mortality Rates by State (1999-2020)\")\n",
    "ax.legend()\n",
    "plt.tight_layout()\n",
    "plt.show()"
   ]
  },
  {
   "cell_type": "markdown",
   "id": "30d8b0b0-e9e7-4eb1-b7bd-02822d65891c",
   "metadata": {},
   "source": [
    "This bar chart represents the average mortality rate for cold and heat related deaths by state from 1999-2020. It seems that cold mortality rates seem to be greater in most of the states besides a select few such as Arizona and Nevada. "
   ]
  },
  {
   "cell_type": "code",
   "execution_count": null,
   "id": "c2f72620-1f95-4768-9cb2-c246094628d0",
   "metadata": {
    "tags": []
   },
   "outputs": [],
   "source": [
    "# Compute correlations\n",
    "corr_cold = gdf['cold_rate'].corr(gdf['Poverty_pe'])\n",
    "corr_heat = gdf['heat_rate'].corr(gdf['Poverty_pe'])\n",
    "\n",
    "# Create a figure with 1 row and 2 columns\n",
    "fig, (ax1, ax2) = plt.subplots(1, 2, figsize=(17, 4), sharex=True, sharey=True)\n",
    "\n",
    "# --- Left: Cold Deaths ---\n",
    "sns.regplot(\n",
    "    x='Poverty_pe', \n",
    "    y='cold_rate', \n",
    "    data=gdf, \n",
    "    scatter_kws={'s':50, 'color':'blue'}, \n",
    "    line_kws={'color':'red'},\n",
    "    ax=ax1\n",
    ")\n",
    "ax1.set_title(\"Average Poverty Percent vs Average Cold Mortality Rate by State (1999–2020)\")\n",
    "ax1.set_xlabel(\"Average Poverty Percent (%)\")\n",
    "ax1.set_ylabel(\"Average Cold Mortality Rate (per 100k)\")\n",
    "ax1.text(0.05, 0.9, f'r = {corr_cold:.3f}', transform=ax1.transAxes,\n",
    "         fontsize=12, bbox=dict(facecolor='white', alpha=0.5))\n",
    "\n",
    "# --- Right: Heat Deaths ---\n",
    "sns.regplot(\n",
    "    x='Poverty_pe', \n",
    "    y='heat_rate', \n",
    "    data=gdf, \n",
    "    scatter_kws={'s':50, 'color':'red'}, \n",
    "    line_kws={'color':'red'},\n",
    "    ax=ax2\n",
    ")\n",
    "ax2.set_title(\"Average Poverty Percent vs Average Heat Mortality Rate by State (1999–2020)\")\n",
    "ax2.set_xlabel(\"Average Poverty Percent (%)\")\n",
    "ax2.set_ylabel(\"Average Heat Mortality Rate (per 100k)\") \n",
    "ax2.text(0.05, 0.9, f'r = {corr_heat:.3f}', transform=ax2.transAxes,\n",
    "         fontsize=12, bbox=dict(facecolor='white', alpha=0.5))\n",
    "\n",
    "plt.tight_layout()\n",
    "plt.show()"
   ]
  },
  {
   "cell_type": "markdown",
   "id": "631522bb-e4f4-41ad-9947-26d6e1a7ceb1",
   "metadata": {},
   "source": [
    "These scatterplots are seeing if there is any correlation between the mortality rates and the poverty percent for each state. Cold mortality rates seem to have a negative correlation, while heat mortality rates have a positive one. This is opposite of what we would have thought, but may suggest that people in poverty have more access to infrastructure with heat during cold months."
   ]
  },
  {
   "cell_type": "code",
   "execution_count": null,
   "id": "3171692b-3a57-4671-ba4b-ea3decfbed4a",
   "metadata": {
    "tags": []
   },
   "outputs": [],
   "source": [
    "# --- Separate contiguous US, AK, HI ---\n",
    "gdf_cold_contig = gdf_cold_age[~gdf_cold_age['State'].isin(['Alaska', 'Hawaii'])]\n",
    "gdf_heat_contig = gdf_heat_age[~gdf_heat_age['State'].isin(['Alaska', 'Hawaii'])]\n",
    "\n",
    "gdf_cold_ak = gdf_cold_age[gdf_cold_age['State'] == 'Alaska']\n",
    "gdf_heat_ak = gdf_heat_age[gdf_heat_age['State'] == 'Alaska']\n",
    "\n",
    "gdf_cold_hi = gdf_cold_age[gdf_cold_age['State'] == 'Hawaii']\n",
    "gdf_heat_hi = gdf_heat_age[gdf_heat_age['State'] == 'Hawaii']\n",
    "\n",
    "# --- Plot main US map ---\n",
    "fig, (ax1, ax2) = plt.subplots(1, 2, figsize=(18, 10))\n",
    "gdf_cold_contig.plot(color=gdf_cold_contig['color'], edgecolor='black', ax=ax1)\n",
    "gdf_heat_contig.plot(color=gdf_heat_contig['color'], edgecolor='black', ax=ax2)\n",
    "ax1.set_title(\"Most Vulnerable Age Group to Cold Deaths (1999–2020)\", fontsize=14)\n",
    "ax2.set_title(\"Most Vulnerable Age Group to Heat Deaths (1999–2020)\", fontsize=14)\n",
    "ax1.axis('off')\n",
    "ax2.axis('off')\n",
    "\n",
    "# --- Add insets for Alaska ---\n",
    "ax_ak = fig.add_axes([0.01, 0.1, 0.15, 0.15])  # [left, bottom, width, height]\n",
    "gdf_cold_ak.plot(color=gdf_cold_ak['color'], edgecolor='black', ax=ax_ak)\n",
    "ax_ak.axis('off')\n",
    "ax_ak.set_title(\"AK\", fontsize=10)\n",
    "\n",
    "ax_ak2 = fig.add_axes([0.5, 0.1, 0.15, 0.15])\n",
    "gdf_heat_ak.plot(color=gdf_heat_ak['color'], edgecolor='black', ax=ax_ak2)\n",
    "ax_ak2.axis('off')\n",
    "ax_ak2.set_title(\"AK\", fontsize=10)\n",
    "\n",
    "# --- Add insets for Hawaii ---\n",
    "ax_hi = fig.add_axes([0.11, 0.1, 0.1, 0.1])\n",
    "gdf_cold_hi.plot(color=gdf_cold_hi['color'], edgecolor='black', ax=ax_hi)\n",
    "ax_hi.axis('off')\n",
    "ax_hi.set_title(\"HI\", fontsize=10)\n",
    "\n",
    "ax_hi2 = fig.add_axes([0.61, 0.1, 0.1, 0.1])\n",
    "gdf_heat_hi.plot(color=gdf_heat_hi['color'], edgecolor='black', ax=ax_hi2)\n",
    "ax_hi2.axis('off')\n",
    "ax_hi2.set_title(\"HI\", fontsize=10)\n",
    "        \n",
    "# --- Add legend ---\n",
    "legend_patches = [patches.Patch(color=age_color_map[age], label=age) for age in age_groups]\n",
    "legend_patches.append(patches.Patch(color='black', label='No Data'))\n",
    "fig.legend(handles=legend_patches, loc='lower center', ncol=6, title=\"Ten-Year Age Groups\", frameon=False)\n",
    "\n",
    "plt.tight_layout()\n",
    "plt.show()"
   ]
  },
  {
   "cell_type": "markdown",
   "id": "541206cf-c167-4741-ba42-dd90f22c8c02",
   "metadata": {},
   "source": [
    "This choropleth represents which ten-year age group has the most cold and heat related deaths. For both maps it seems that people 45 and older are most affected. "
   ]
  },
  {
   "cell_type": "code",
   "execution_count": null,
   "id": "cdad0cc6-464a-404f-af4e-b3712d834790",
   "metadata": {},
   "outputs": [],
   "source": []
  },
  {
   "cell_type": "markdown",
   "id": "3921000d-4f5d-4915-bd16-b9b243aed6d5",
   "metadata": {},
   "source": [
    "| Variable             | Moran's I | p-value  |\n",
    "|----------------------|-----------|----------|\n",
    "| Death Rate Difference| 0.218     | 0.0120   |\n",
    "| Cold Mortality Rate  | 0.193     | 0.0150   |\n",
    "| Heat Mortality Rate  | 0.172     | 0.0310   |\n"
   ]
  },
  {
   "cell_type": "markdown",
   "id": "3f0ded0f-43fa-475c-8d07-c055ab5c93a5",
   "metadata": {},
   "source": [
    "Moran’s I measures spatial autocorrelation, indicating whether similar values cluster geographically. The difference in mortality rates had a Moran’s I of 0.218 (p = 0.012), cold mortality 0.193 (p = 0.015), and heat mortality 0.172 (p = 0.031), all showing statistically significant positive spatial clustering. This suggests that states with similar mortality rates tend to be near each other rather than randomly distributed."
   ]
  },
  {
   "cell_type": "markdown",
   "id": "ed2e0957-f19a-406e-9d76-c255aeafa691",
   "metadata": {},
   "source": [
    "| Type of Mortality     | Rate (per 100,000) | Year/Period                  |\n",
    "|-----------------------|------------------|------------------------------|\n",
    "| Drug Overdose         | 32.4             | 2021                         |\n",
    "| Homicide              | 5.9              | 2023                         |\n",
    "| Cold related Mortality| 1.89             | Average 1999–2020            |\n",
    "| Heat related Mortality| 0.61             | Average 1999–2020            |\n",
    "                                                         \n"
   ]
  },
  {
   "cell_type": "markdown",
   "id": "1d23eda3-2f09-4b35-a780-8604d20c8c38",
   "metadata": {},
   "source": [
    "This table provides a comparison of mortality rates in the United States for selected causes. Cold related deaths (1.89 per 100,000) occur at a higher rate than heatrelated deaths (0.61 per 100,000), but both are substantially lower than deaths due to homicide (5.9 per 100,000) and drug overdose (32.4 per 100,000). "
   ]
  },
  {
   "cell_type": "markdown",
   "id": "f7d9637d-a6be-44cc-b36c-5c27c9ebba61",
   "metadata": {},
   "source": [
    "## Conclusion\n",
    "The first plot, a bar chart showing cold and hot days by state, indicates that most states experience more cold days (blue) than hot days (red). This helps explain why cold related mortality is generally higher.\n",
    "\n",
    "The second plot, a bar chart comparing cold (blue) and heat (red) mortality rates by state, reinforces this trend. With the exception of Arizona and Nevada, cold related mortality rates are consistently higher than heat related rates.\n",
    "\n",
    "The third plot, a scatterplot comparing poverty percentage to mortality rates, provides insight into potential socioeconomic effects. Cold mortality shows a slight negative correlation with poverty, while heat mortality shows a slightly stronger positive correlation. This may suggest that people in poverty have better access to heating during cold periods but limited access to air conditioning during heat waves, though further study would be needed to confirm this.\n",
    "\n",
    "The fourth plot, a pair of choropleths showing the most affected age groups for cold and heat related deaths, highlights that different age groups are more vulnerable depending on temperature extremes.\n",
    "\n",
    "The fifth and final plot, a choropleth of the difference in mortality rates, provides the strongest support for our hypothesis. Positive values (blue) indicate higher cold related mortality, while negative values (red) indicate higher heat related mortality. Most states are shaded light to moderate blue, showing that cold-related deaths are generally higher. Alaska exhibits the largest difference, whereas Arizona and Nevada have higher heat-related mortality.\n",
    "\n",
    "Spatial analysis using Moran’s I autocorrelation confirms that states with similar mortality rates are geographically clustered rather than randomly distributed, with all Moran’s I values positive and p-values < 0.05.\n",
    "\n",
    "Finally, the average mortality rate from 1999 to 2020 was 1.89 per 100,000 for cold-related deaths and 0.61 per 100,000 for heat-related deaths, confirming that cold-related mortality is substantially higher across the U.S. over this period. However, this is relatively small compared to other mortality rates, such as drug overdose."
   ]
  },
  {
   "cell_type": "markdown",
   "id": "c18680d6-c292-408d-96e9-f4d1a6791a60",
   "metadata": {},
   "source": [
    "### Sources\n",
    "- CDC Wonder: https://wonder.cdc.gov\n",
    "- PRISM Weather Data: https://asmith-agdata.shinyapps.io/prism_downloader/_w_a6c5076cc76b4c3fb50f4b256b4bafb5/#tab-5484-1\n",
    "- State Shapefile: https://www.weather.gov/gis/USStates\n",
    "- United States Census Bureau: https://www.census.gov/data/tables/time-series/demo/income-poverty/historical-poverty-people.html\n",
    "- County Shapefile (not used for final visuals): https://catalog.data.gov/dataset/tiger-line-shapefile-2019-nation-u-s-current-county-and-equivalent-national-shapefile\n",
    "- Homicide Mortality Rate: https://bjs.ojp.gov/document/hvus23.pdf\n",
    "- Drug Overdose Mortality Rate: https://www.cdc.gov/nchs/nvss/drug-overdose-deaths.htm\n",
    "- ChatGPT: Prompted for creating and editing plots, and reading in/filtering poverty data"
   ]
  },
  {
   "cell_type": "code",
   "execution_count": null,
   "id": "919c44dc-8e9c-44de-a268-3c1fb559e804",
   "metadata": {},
   "outputs": [],
   "source": []
  }
 ],
 "metadata": {
  "kernelspec": {
   "display_name": "Python 3 (ipykernel)",
   "language": "python",
   "name": "python3"
  },
  "language_info": {
   "codemirror_mode": {
    "name": "ipython",
    "version": 3
   },
   "file_extension": ".py",
   "mimetype": "text/x-python",
   "name": "python",
   "nbconvert_exporter": "python",
   "pygments_lexer": "ipython3",
   "version": "3.9.7"
  }
 },
 "nbformat": 4,
 "nbformat_minor": 5
}
