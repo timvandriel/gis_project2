{
 "cells": [
  {
   "cell_type": "code",
   "execution_count": 4,
   "id": "6ee5943e",
   "metadata": {},
   "outputs": [],
   "source": [
    "## Leaflet Test"
   ]
  },
  {
   "cell_type": "code",
   "execution_count": 4,
   "id": "38a9b78a",
   "metadata": {},
   "outputs": [
    {
     "name": "stdout",
     "output_type": "stream",
     "text": [
      "Columns in the data:\n",
      "['STATE', 'NAME', 'FIPS', 'LON', 'LAT', 'Heat Death', 'Cold Death', 'Population', 'cold_rate', 'heat_rate', 'hot_days', 'cold_days', 'death_rate', 'Poverty_pe', 'geometry']\n",
      "\n",
      "First few rows:\n",
      "  STATE        NAME FIPS        LON       LAT  Heat Death  Cold Death  \\\n",
      "0    AL     ALABAMA   01  -86.82676  32.79354       238.0       388.0   \n",
      "1    AR    ARKANSAS   05  -92.43920  34.89977       271.0       319.0   \n",
      "2    AZ     ARIZONA   04 -111.66457  34.29323      2462.0       864.0   \n",
      "3    CA  CALIFORNIA   06 -119.60818  37.24537      1481.0      1743.0   \n",
      "4    CO    COLORADO   08 -105.54783  38.99855       106.0      1023.0   \n",
      "\n",
      "    Population  cold_rate  heat_rate   hot_days   cold_days  death_rate  \\\n",
      "0  103604166.0   0.017833   0.010939  63.857143   49.809524    0.006894   \n",
      "1   63181817.0   0.024042   0.020425  60.476190   67.285714    0.003618   \n",
      "2  138079425.0   0.029797   0.084906  99.428571   64.857143   -0.055110   \n",
      "3  815706063.0   0.010175   0.008646  55.238095   33.142857    0.001529   \n",
      "4  110389320.0   0.044130   0.004573   3.904762  195.238095    0.039557   \n",
      "\n",
      "   Poverty_pe                                           geometry  \n",
      "0   15.641667  MULTIPOLYGON (((757193.013 829564.839, 757562....  \n",
      "1   16.275000  POLYGON ((387717.031 1503566.564, 387838.480 1...  \n",
      "2   15.454167  POLYGON ((-1272519.464 1648367.829, -1272239.9...  \n",
      "3   13.625000  MULTIPOLYGON (((-2068648.575 1326168.145, -206...  \n",
      "4   10.191667  POLYGON ((-905484.580 2051196.799, -904073.656...  \n",
      "\n",
      "Current CRS:\n",
      "epsg:5070\n"
     ]
    }
   ],
   "source": [
    "import folium\n",
    "import geopandas as gpd\n",
    "\n",
    "# Step 1: Load the data\n",
    "gdf = gpd.read_file(\"/home/jovyan/project2/data/final_file2.shp\")\n",
    "\n",
    "# Step 2: Check what we have\n",
    "print(\"Columns in the data:\")\n",
    "print(gdf.columns.tolist())\n",
    "print(\"\\nFirst few rows:\")\n",
    "print(gdf.head())\n",
    "print(\"\\nCurrent CRS:\")\n",
    "print(gdf.crs)"
   ]
  },
  {
   "cell_type": "code",
   "execution_count": 5,
   "id": "ca14e993",
   "metadata": {},
   "outputs": [
    {
     "ename": "NameError",
     "evalue": "name 'gdf_leaflet' is not defined",
     "output_type": "error",
     "traceback": [
      "\u001b[0;31m---------------------------------------------------------------------------\u001b[0m",
      "\u001b[0;31mNameError\u001b[0m                                 Traceback (most recent call last)",
      "\u001b[0;32m/tmp/ipykernel_243/3335671999.py\u001b[0m in \u001b[0;36m<module>\u001b[0;34m\u001b[0m\n\u001b[1;32m      9\u001b[0m \u001b[0;34m\u001b[0m\u001b[0m\n\u001b[1;32m     10\u001b[0m folium.Choropleth(\n\u001b[0;32m---> 11\u001b[0;31m     \u001b[0mgeo_data\u001b[0m\u001b[0;34m=\u001b[0m\u001b[0mgdf_leaflet\u001b[0m\u001b[0;34m,\u001b[0m\u001b[0;34m\u001b[0m\u001b[0;34m\u001b[0m\u001b[0m\n\u001b[0m\u001b[1;32m     12\u001b[0m     \u001b[0mdata\u001b[0m\u001b[0;34m=\u001b[0m\u001b[0mgdf_leaflet\u001b[0m\u001b[0;34m,\u001b[0m\u001b[0;34m\u001b[0m\u001b[0;34m\u001b[0m\u001b[0m\n\u001b[1;32m     13\u001b[0m     \u001b[0mcolumns\u001b[0m\u001b[0;34m=\u001b[0m\u001b[0;34m[\u001b[0m\u001b[0;34m'FIPS'\u001b[0m\u001b[0;34m,\u001b[0m \u001b[0;34m'cold_rate'\u001b[0m\u001b[0;34m]\u001b[0m\u001b[0;34m,\u001b[0m\u001b[0;34m\u001b[0m\u001b[0;34m\u001b[0m\u001b[0m\n",
      "\u001b[0;31mNameError\u001b[0m: name 'gdf_leaflet' is not defined"
     ]
    }
   ],
   "source": [
    "import folium\n",
    "from folium import plugins\n",
    "\n",
    "map_cold_mortality = folium.Map(\n",
    "    location=[39.8283, -98.5795],\n",
    "    zoom_start=4,\n",
    "    tiles='CartoDB positron'\n",
    ")\n",
    "\n",
    "folium.Choropleth(\n",
    "    geo_data=gdf_leaflet,\n",
    "    data=gdf_leaflet,\n",
    "    columns=['FIPS', 'cold_rate'],\n",
    "    key_on='feature.properties.FIPS',\n",
    "    fill_color='Blues',\n",
    "    fill_opacity=0.7,\n",
    "    line_opacity=0.8,\n",
    "    legend_name='Cold Mortality Rate (per 100k)'\n",
    ").add_to(map_cold_mortality)\n",
    "\n",
    "tooltip = folium.GeoJsonTooltip(\n",
    "    fields=['NAME', 'cold_rate', 'cold_days'],\n",
    "    aliases=['State:', 'Cold Mortality Rate (per 100k):', 'Avg Days <32°F (0°C):'],\n",
    "    localize=True,\n",
    "    sticky=False,\n",
    "    labels=True,\n",
    "    style=\"\"\"\n",
    "        background-color: white;\n",
    "        border: 2px solid black;\n",
    "        border-radius: 5px;\n",
    "        padding: 10px;\n",
    "        font-size: 12px;\n",
    "    \"\"\"\n",
    ")\n",
    "\n",
    "folium.GeoJson(\n",
    "    gdf_leaflet,\n",
    "    tooltip=tooltip,\n",
    "    style_function=lambda x: {'fillOpacity': 0, 'weight': 0, 'color': 'transparent'}\n",
    ").add_to(map_cold_mortality)\n",
    "\n",
    "plugins.MiniMap(toggle_display=True, position='bottomright').add_to(map_cold_mortality)\n",
    "\n",
    "title_html = '''\n",
    "<div style=\"position: fixed; top: 10px; left: 10px; width: 500px; \n",
    "            background-color: rgba(255, 255, 255, 0.9); border: 2px solid black; \n",
    "            border-radius: 3px; z-index: 9999; font-size: 14px; font-weight: bold; \n",
    "            padding: 8px; box-shadow: 2px 2px 4px rgba(0,0,0,0.2);\">\n",
    "    Cold-Related Mortality Rate by State (1999-2020)\n",
    "</div>\n",
    "'''\n",
    "map_cold_mortality.get_root().html.add_child(folium.Element(title_html))\n",
    "\n",
    "cartographer_html = '''\n",
    "<div style=\"position: fixed; bottom: 10px; left: 10px; width: 280px; \n",
    "            background-color: white; border: 2px solid black; border-radius: 3px;\n",
    "            z-index: 9999; font-size: 11px; padding: 8px; box-shadow: 2px 2px 4px rgba(0,0,0,0.2);\">\n",
    "    <b>CRS:</b> EPSG:4326 (WGS84)<br>\n",
    "    <b>Sources:</b> NOAA PRISM, CDC Wonder<br>\n",
    "    <b>Cartographers:</b> Tim Van Driel and Ted Toporkov<br>\n",
    "    <b>Date:</b> 10/13/2025\n",
    "</div>\n",
    "'''\n",
    "map_cold_mortality.get_root().html.add_child(folium.Element(cartographer_html))\n",
    "\n",
    "north_arrow_html = '''\n",
    "<div style=\"position: fixed; top: 70px; right: 10px; width: 40px; height: 60px;\n",
    "            background-color: rgba(255, 255, 255, 0.8); border: 1px solid black;\n",
    "            z-index: 9999; text-align: center; padding: 5px;\">\n",
    "    <div style=\"font-size: 24px; font-weight: bold;\">↑</div>\n",
    "    <div style=\"font-size: 12px; font-weight: bold;\">N</div>\n",
    "</div>\n",
    "'''\n",
    "map_cold_mortality.get_root().html.add_child(folium.Element(north_arrow_html))\n",
    "\n",
    "map_cold_mortality"
   ]
  },
  {
   "cell_type": "code",
   "execution_count": null,
   "id": "a215d280",
   "metadata": {},
   "outputs": [],
   "source": []
  }
 ],
 "metadata": {
  "kernelspec": {
   "display_name": "Python 3 (ipykernel)",
   "language": "python",
   "name": "python3"
  },
  "language_info": {
   "codemirror_mode": {
    "name": "ipython",
    "version": 3
   },
   "file_extension": ".py",
   "mimetype": "text/x-python",
   "name": "python",
   "nbconvert_exporter": "python",
   "pygments_lexer": "ipython3",
   "version": "3.9.7"
  }
 },
 "nbformat": 4,
 "nbformat_minor": 5
}
